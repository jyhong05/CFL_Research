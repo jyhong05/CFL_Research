{
 "cells": [
  {
   "cell_type": "code",
   "execution_count": 1,
   "metadata": {},
   "outputs": [
    {
     "name": "stderr",
     "output_type": "stream",
     "text": [
      "2025-02-18 10:48:14.761228: I tensorflow/core/platform/cpu_feature_guard.cc:182] This TensorFlow binary is optimized to use available CPU instructions in performance-critical operations.\n",
      "To enable the following instructions: AVX2 FMA, in other operations, rebuild TensorFlow with the appropriate compiler flags.\n"
     ]
    }
   ],
   "source": [
    "from cfl.experiment import Experiment\n",
    "import numpy as np\n",
    "import pandas as pd\n",
    "from cfl.visualization.basic_visualizations import visualize_macrostates\n",
    "from sklearn.preprocessing import StandardScaler\n",
    "from cfl_helpers import *"
   ]
  },
  {
   "cell_type": "code",
   "execution_count": null,
   "metadata": {},
   "outputs": [],
   "source": [
    "def drop_ocean(df):\n",
    "    return df[df[\"\"] != \"ocean\"]"
   ]
  },
  {
   "cell_type": "code",
   "execution_count": 2,
   "metadata": {},
   "outputs": [
    {
     "name": "stdout",
     "output_type": "stream",
     "text": [
      "(12700, 2) (12700, 1)\n"
     ]
    }
   ],
   "source": [
    "resolution = '10km'\n",
    "n_clusters = 10\n",
    "train_file = f'data/{resolution}_data.csv'\n",
    "truth_file = f'data/{resolution}_truth.csv'\n",
    "\n",
    "train_data = pd.read_csv(train_file)\n",
    "Xraw = np.array(train_data[['lat', 'long']])\n",
    "Yraw = np.array(train_data['generated_temp']).reshape(-1,1)\n",
    "print(Xraw.shape, Yraw.shape)\n",
    "\n",
    "truth = pd.read_csv(truth_file)\n",
    "true_alt, true_temp = get_alt_temp_grids(truth)"
   ]
  },
  {
   "cell_type": "code",
   "execution_count": null,
   "metadata": {},
   "outputs": [],
   "source": []
  }
 ],
 "metadata": {
  "kernelspec": {
   "display_name": "myvenv",
   "language": "python",
   "name": "python3"
  },
  "language_info": {
   "codemirror_mode": {
    "name": "ipython",
    "version": 3
   },
   "file_extension": ".py",
   "mimetype": "text/x-python",
   "name": "python",
   "nbconvert_exporter": "python",
   "pygments_lexer": "ipython3",
   "version": "3.11.4"
  }
 },
 "nbformat": 4,
 "nbformat_minor": 2
}
