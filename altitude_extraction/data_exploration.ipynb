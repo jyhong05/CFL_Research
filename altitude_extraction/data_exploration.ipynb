{
 "cells": [
  {
   "cell_type": "code",
   "execution_count": 1,
   "metadata": {},
   "outputs": [],
   "source": [
    "import numpy as np\n",
    "import pandas as pd\n",
    "import re"
   ]
  },
  {
   "cell_type": "code",
   "execution_count": 2,
   "metadata": {},
   "outputs": [],
   "source": [
    "folder = \"900m_data\"\n",
    "files = [folder + f'/DEM_900m_Export_Batch_{i}.csv' for i in range(0,5)]\n",
    "\n",
    "df_list = [pd.read_csv(file) for file in files]\n",
    "df_900 = pd.concat(df_list, ignore_index=True)"
   ]
  },
  {
   "cell_type": "code",
   "execution_count": 3,
   "metadata": {},
   "outputs": [],
   "source": [
    "long = []\n",
    "lat = []\n",
    "for i, row in df_900.iterrows():\n",
    "    coords = re.search(r'\\[(.*?)\\]', row['.geo']).group(1).split(',')\n",
    "    long.append(float(coords[0]))\n",
    "    lat.append(float(coords[1]))\n",
    "\n",
    "df_900['long'] = long\n",
    "df_900['lat'] = lat\n",
    "df_900.drop(columns=['.geo', 'system:index'], axis=1, inplace=True)"
   ]
  },
  {
   "cell_type": "code",
   "execution_count": 4,
   "metadata": {},
   "outputs": [
    {
     "name": "stdout",
     "output_type": "stream",
     "text": [
      "rows by columns: (4618185, 3)\n",
      "columns: Index(['elevation', 'long', 'lat'], dtype='object')\n",
      "longitude range: 153.4623440896323 137.9152014673757\n",
      "latitude range: -15.098434137838858 -38.45552984023054\n",
      "elevation range: 2158.874 -58.176254\n"
     ]
    }
   ],
   "source": [
    "print(\"rows by columns:\", df_900.shape)\n",
    "print(\"columns:\", df_900.columns)\n",
    "print(\"longitude range:\", max(df_900['long']), min(df_900['long']))\n",
    "print(\"latitude range:\", max(df_900['lat']), min(df_900['lat']))\n",
    "print(\"elevation range:\", max(df_900['elevation']), min(df_900['elevation']))"
   ]
  },
  {
   "cell_type": "code",
   "execution_count": 5,
   "metadata": {},
   "outputs": [],
   "source": [
    "df_900.to_csv(folder + '/cleaned_900m_data.csv', index=False)"
   ]
  },
  {
   "cell_type": "code",
   "execution_count": 10,
   "metadata": {},
   "outputs": [],
   "source": [
    "folder = \"1km_data\"\n",
    "files = [folder + f'/DEM_1km_Export_Batch_{i}.csv' for i in range(0,4)]\n",
    "\n",
    "df_list = [pd.read_csv(file) for file in files]\n",
    "df_1km = pd.concat(df_list, ignore_index=True)"
   ]
  },
  {
   "cell_type": "code",
   "execution_count": 11,
   "metadata": {},
   "outputs": [],
   "source": [
    "long = []\n",
    "lat = []\n",
    "for i, row in df_1km.iterrows():\n",
    "    coords = re.search(r'\\[(.*?)\\]', row['.geo']).group(1).split(',')\n",
    "    long.append(float(coords[0]))\n",
    "    lat.append(float(coords[1]))\n",
    "\n",
    "df_1km['long'] = long\n",
    "df_1km['lat'] = lat\n",
    "df_1km.drop(columns=['.geo', 'system:index'], axis=1, inplace=True)"
   ]
  },
  {
   "cell_type": "code",
   "execution_count": 12,
   "metadata": {},
   "outputs": [
    {
     "name": "stdout",
     "output_type": "stream",
     "text": [
      "rows by columns: (3742312, 3)\n",
      "columns: Index(['elevation', 'long', 'lat'], dtype='object')\n",
      "longitude range: 153.46369156255847 137.91385399444954\n",
      "latitude range: -15.096188349628559 -38.45238573673612\n",
      "elevation range: 2135.8901 -44.925156\n"
     ]
    }
   ],
   "source": [
    "print(\"rows by columns:\", df_1km.shape)\n",
    "print(\"columns:\", df_1km.columns)\n",
    "print(\"longitude range:\", max(df_1km['long']), min(df_1km['long']))\n",
    "print(\"latitude range:\", max(df_1km['lat']), min(df_1km['lat']))\n",
    "print(\"elevation range:\", max(df_1km['elevation']), min(df_1km['elevation']))"
   ]
  },
  {
   "cell_type": "code",
   "execution_count": 13,
   "metadata": {},
   "outputs": [],
   "source": [
    "df_1km.to_csv(folder + '/cleaned_1km_data.csv', index=False)"
   ]
  },
  {
   "cell_type": "code",
   "execution_count": null,
   "metadata": {},
   "outputs": [],
   "source": []
  }
 ],
 "metadata": {
  "kernelspec": {
   "display_name": "Python 3",
   "language": "python",
   "name": "python3"
  },
  "language_info": {
   "codemirror_mode": {
    "name": "ipython",
    "version": 3
   },
   "file_extension": ".py",
   "mimetype": "text/x-python",
   "name": "python",
   "nbconvert_exporter": "python",
   "pygments_lexer": "ipython3",
   "version": "3.11.4"
  }
 },
 "nbformat": 4,
 "nbformat_minor": 2
}
