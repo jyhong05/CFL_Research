{
 "cells": [
  {
   "cell_type": "code",
   "execution_count": 138,
   "metadata": {},
   "outputs": [],
   "source": [
    "import numpy as np\n",
    "import pandas as pd"
   ]
  },
  {
   "cell_type": "code",
   "execution_count": 139,
   "metadata": {},
   "outputs": [],
   "source": [
    "file = 'data/1km_data.csv'\n",
    "\n",
    "df = pd.read_csv(file)"
   ]
  },
  {
   "cell_type": "code",
   "execution_count": 140,
   "metadata": {},
   "outputs": [
    {
     "name": "stdout",
     "output_type": "stream",
     "text": [
      "shape: (1273630, 4)\n",
      "columns: Index(['elevation', 'long', 'lat', 'generated_temp'], dtype='object')\n",
      "longitude range: 145.6932643549246 153.46369156255847\n",
      "latitude range: -38.45238573673612 -23.43255418625772\n",
      "elevation range: -44.925156 2135.8901\n",
      "temperature range: 4.923469107634504 19.900859744578675\n"
     ]
    }
   ],
   "source": [
    "print(\"shape:\", df.shape)\n",
    "print(\"columns:\", df.columns)\n",
    "print(\"longitude range:\", df['long'].min(), df['long'].max())\n",
    "print(\"latitude range:\", df['lat'].min(), df['lat'].max())\n",
    "print(\"elevation range:\", df['elevation'].min(), df['elevation'].max())\n",
    "print(\"temperature range:\", df['generated_temp'].min(), df['generated_temp'].max())"
   ]
  },
  {
   "cell_type": "code",
   "execution_count": 141,
   "metadata": {},
   "outputs": [
    {
     "name": "stdout",
     "output_type": "stream",
     "text": [
      "(591, 4)\n",
      "(591, 4)\n",
      "(258, 4)\n"
     ]
    }
   ],
   "source": [
    "lat_row_1 = df.loc[df['lat'] == -37.72475035659931]\n",
    "lat_row_2 = df.loc[df['lat'] == -35.77540619005995]\n",
    "lat_row_3 = df.loc[df['lat'] == -38.45238573673612]\n",
    "\n",
    "print(lat_row_1.shape)\n",
    "print(lat_row_2.shape)\n",
    "print(lat_row_3.shape)"
   ]
  },
  {
   "cell_type": "code",
   "execution_count": 142,
   "metadata": {},
   "outputs": [
    {
     "name": "stdout",
     "output_type": "stream",
     "text": [
      "1673\n",
      "866\n"
     ]
    }
   ],
   "source": [
    "print(len(df['lat'].unique()))\n",
    "print(len(df['long'].unique()))"
   ]
  },
  {
   "cell_type": "markdown",
   "metadata": {},
   "source": [
    "# want to turn it into 1600 x 800 then 50 x 25 = 1250 data points?"
   ]
  },
  {
   "cell_type": "code",
   "execution_count": 143,
   "metadata": {},
   "outputs": [
    {
     "name": "stdout",
     "output_type": "stream",
     "text": [
      "1600\n",
      "800\n",
      "(1187162, 4)\n",
      "1280000\n"
     ]
    }
   ],
   "source": [
    "# truncate dataset to get rid of lowest 73 latitude and 66 highest longitude\n",
    "ordered_lats = np.sort(df['lat'].unique())\n",
    "truncated_lats = ordered_lats[73:]\n",
    "print(len(truncated_lats))\n",
    "\n",
    "ordered_longs = np.sort(df['long'].unique())\n",
    "truncated_longs = ordered_longs[:-66]\n",
    "print(len(truncated_longs))\n",
    "\n",
    "truncated_df = df.loc[df['lat'].isin(truncated_lats) & df['long'].isin(truncated_longs)]\n",
    "print(truncated_df.shape)\n",
    "print(1600*800)"
   ]
  },
  {
   "cell_type": "code",
   "execution_count": 144,
   "metadata": {},
   "outputs": [
    {
     "name": "stdout",
     "output_type": "stream",
     "text": [
      "truncated lats min, max: (-37.79661557932887, -23.43255418625772)\n",
      "truncated longs min, max: (145.6932643549246, 152.87080347503957) \n",
      "\n",
      "-37.51813784125181\n",
      "145.97174209300167 \n",
      "\n",
      "-37.51813784125181 -23.43255418625772\n",
      "145.97174209300167 152.87080347503957 \n",
      "\n",
      "50\n",
      "25\n"
     ]
    }
   ],
   "source": [
    "# 1600 x 800 -> 50 x 25:\n",
    "lat_groups = truncated_lats[31::32]\n",
    "long_groups = truncated_longs[31::32]\n",
    "assert (lat_groups[-1] == truncated_lats[-1])\n",
    "assert (long_groups[-1] == truncated_longs[-1])\n",
    "\n",
    "print(f'truncated lats min, max:', (min(truncated_lats), max(truncated_lats)))\n",
    "print(f'truncated longs min, max:', (min(truncated_longs), max(truncated_longs)), '\\n')\n",
    "\n",
    "print(truncated_lats[31])\n",
    "print(truncated_longs[31], '\\n')\n",
    "\n",
    "print(lat_groups[0], lat_groups[-1])\n",
    "print(long_groups[0], long_groups[-1], '\\n')\n",
    "\n",
    "print(len(lat_groups))\n",
    "print(len(long_groups))"
   ]
  },
  {
   "cell_type": "code",
   "execution_count": 145,
   "metadata": {},
   "outputs": [
    {
     "name": "stdout",
     "output_type": "stream",
     "text": [
      "1024\n"
     ]
    },
    {
     "name": "stdout",
     "output_type": "stream",
     "text": [
      "[1024, 1024, 1024, 1024, 1024, 1024, 1024, 1024, 1024, 1024, 1024, 1024, 1024, 1024, 1024, 1024, 1024, 1024, 480, 0, 0, 0, 0, 0, 0, 1024, 1024, 1024, 1024, 1024, 1024, 1024, 1024, 1024, 1024, 1024, 1024, 1024, 1024, 1024, 1024, 1024, 1024, 480, 0, 0, 0, 0, 0, 0, 1024, 1024, 1024, 1024, 1024, 1024, 1024, 1024, 1024, 1024, 1024, 1024, 1024, 1024, 1024, 1024, 1024, 1024, 480, 0, 0, 0, 0, 0, 0, 1024, 1024, 1024, 1024, 1024, 1024, 1024, 1024, 1024, 1024, 1024, 1024, 1024, 1024, 1024, 1024, 1024, 1024, 480, 0, 0, 0, 0, 0, 0, 1024, 1024, 1024, 1024, 1024, 1024, 1024, 1024, 1024, 1024, 1024, 1024, 1024, 1024, 1024, 1024, 1024, 1024, 480, 0, 0, 0, 0, 0, 0, 1024, 1024, 1024, 1024, 1024, 1024, 1024, 1024, 1024, 1024, 1024, 1024, 1024, 1024, 1024, 1024, 1024, 1024, 480, 0, 0, 0, 0, 0, 0, 1024, 1024, 1024, 1024, 1024, 1024, 1024, 1024, 1024, 1024, 1024, 1024, 1024, 1024, 1024, 1024, 1024, 1024, 480, 0, 0, 0, 0, 0, 0, 1024, 1024, 1024, 1024, 1024, 1024, 1024, 1024, 1024, 1024, 1024, 1024, 1024, 1024, 1024, 1024, 1024, 1024, 480, 0, 0, 0, 0, 0, 0, 1024, 1024, 1024, 1024, 1024, 1024, 1024, 1024, 1024, 1024, 1024, 1024, 1024, 1024, 1024, 1024, 1024, 1024, 480, 0, 0, 0, 0, 0, 0, 1024, 1024, 1024, 1024, 1024, 1024, 1024, 1024, 1024, 1024, 1024, 1024, 1024, 1024, 1024, 1024, 1024, 1024, 633, 288, 288, 279, 0, 0, 0, 1024, 1024, 1024, 1024, 1024, 1024, 1024, 1024, 1024, 1024, 1024, 1024, 1024, 1024, 1024, 1024, 1024, 1024, 1024, 1024, 1024, 992, 0, 0, 0, 1024, 1024, 1024, 1024, 1024, 1024, 1024, 1024, 1024, 1024, 1024, 1024, 1024, 1024, 1024, 1024, 1024, 1024, 1024, 1024, 1024, 992, 0, 0, 0, 1024, 1024, 1024, 1024, 1024, 1024, 1024, 1024, 1024, 1024, 1024, 1024, 1024, 1024, 1024, 1024, 1024, 1024, 1024, 1024, 1024, 992, 0, 0, 0, 1024, 1024, 1024, 1024, 1024, 1024, 1024, 1024, 1024, 1024, 1024, 1024, 1024, 1024, 1024, 1024, 1024, 1024, 1024, 1024, 1024, 992, 0, 0, 0, 1024, 1024, 1024, 1024, 1024, 1024, 1024, 1024, 1024, 1024, 1024, 1024, 1024, 1024, 1024, 1024, 1024, 1024, 1024, 1024, 1024, 992, 0, 0, 0, 1024, 1024, 1024, 1024, 1024, 1024, 1024, 1024, 1024, 1024, 1024, 1024, 1024, 1024, 1024, 1024, 1024, 1024, 1024, 1024, 1024, 992, 0, 0, 0, 1024, 1024, 1024, 1024, 1024, 1024, 1024, 1024, 1024, 1024, 1024, 1024, 1024, 1024, 1024, 1024, 1024, 1024, 1024, 1024, 1024, 1002, 320, 320, 320, 1024, 1024, 1024, 1024, 1024, 1024, 1024, 1024, 1024, 1024, 1024, 1024, 1024, 1024, 1024, 1024, 1024, 1024, 1024, 1024, 1024, 1024, 1024, 1024, 1024, 1024, 1024, 1024, 1024, 1024, 1024, 1024, 1024, 1024, 1024, 1024, 1024, 1024, 1024, 1024, 1024, 1024, 1024, 1024, 1024, 1024, 1024, 1024, 1024, 1024, 1024, 1024, 1024, 1024, 1024, 1024, 1024, 1024, 1024, 1024, 1024, 1024, 1024, 1024, 1024, 1024, 1024, 1024, 1024, 1024, 1024, 1024, 1024, 1024, 1024, 1024, 1024, 1024, 1024, 1024, 1024, 1024, 1024, 1024, 1024, 1024, 1024, 1024, 1024, 1024, 1024, 1024, 1024, 1024, 1024, 1024, 1024, 1024, 1024, 1024, 1024, 1024, 1024, 1024, 1024, 1024, 1024, 1024, 1024, 1024, 1024, 1024, 1024, 1024, 1024, 1024, 1024, 1024, 1024, 1024, 1024, 1024, 1024, 1024, 1024, 1024, 1024, 1024, 1024, 1024, 1024, 1024, 1024, 1024, 1024, 1024, 1024, 1024, 1024, 1024, 1024, 1024, 1024, 1024, 1024, 1024, 1024, 1024, 1024, 1024, 1024, 1024, 1024, 1024, 1024, 1024, 1024, 1024, 1024, 1024, 1024, 1024, 1024, 1024, 1024, 1024, 1024, 1024, 1024, 1024, 1024, 1024, 1024, 1024, 1024, 1024, 1024, 1024, 1024, 1024, 1024, 1024, 1024, 1024, 1024, 1024, 1024, 1024, 1024, 1024, 1024, 1024, 1024, 1024, 1024, 1024, 1024, 1024, 1024, 1024, 1024, 1024, 1024, 1024, 1024, 1024, 1024, 1024, 1024, 1024, 1024, 1024, 1024, 1024, 1024, 1024, 1024, 1024, 1024, 1024, 1024, 1024, 1024, 1024, 1024, 1024, 1024, 1024, 1024, 1024, 1024, 1024, 1024, 1024, 1024, 1024, 1024, 1024, 1024, 1024, 1024, 1024, 1024, 1024, 1024, 1024, 1024, 1024, 1024, 1024, 1024, 1024, 1024, 1024, 1024, 1024, 1024, 1024, 1024, 1024, 1024, 1024, 1024, 1024, 1024, 1024, 1024, 1024, 1024, 1024, 1024, 1024, 1024, 1024, 1024, 1024, 1024, 1024, 1024, 1024, 1024, 1024, 1024, 1024, 1024, 1024, 1024, 1024, 1024, 1024, 1024, 1024, 1024, 1024, 1024, 1024, 1024, 1024, 1024, 1024, 1024, 1024, 1024, 1024, 1024, 1024, 1024, 1024, 1024, 1024, 1024, 1024, 1024, 1024, 1024, 1024, 1024, 1024, 1024, 1024, 1024, 1024, 1024, 1024, 1024, 1024, 1024, 1024, 1024, 1024, 1024, 1024, 1024, 1024, 1024, 1024, 1024, 1024, 1024, 1024, 1024, 1024, 1024, 1024, 1024, 1024, 1024, 1024, 1024, 1024, 1024, 1024, 1024, 1024, 1024, 1024, 1024, 1024, 1024, 1024, 1024, 1024, 1024, 1024, 1024, 1024, 1024, 1024, 1024, 1024, 1024, 1024, 1024, 1024, 1024, 1024, 1024, 1024, 1024, 1024, 1024, 1024, 1024, 1024, 1024, 1024, 1024, 1024, 1024, 1024, 1024, 1024, 1024, 1024, 1024, 1024, 1024, 1024, 1024, 1024, 1024, 1024, 1024, 1024, 1024, 1024, 1024, 1024, 1024, 1024, 1024, 1024, 1024, 1024, 1024, 1024, 1024, 1024, 1024, 1024, 1024, 1024, 1024, 1024, 1024, 1024, 1024, 1024, 1024, 1024, 1024, 1024, 1024, 1024, 1024, 1024, 1024, 1024, 1024, 1024, 1024, 1024, 1024, 1024, 1024, 1024, 1024, 1024, 1024, 1024, 1024, 1024, 1024, 1024, 1024, 1024, 1024, 1024, 1024, 1024, 1024, 1024, 1024, 1024, 1024, 1024, 1024, 1024, 1024, 1024, 1024, 1024, 1024, 1024, 1024, 1024, 1024, 1024, 1024, 1024, 1024, 1024, 1024, 1024, 1024, 1024, 1024, 1024, 1024, 1024, 1024, 1024, 1024, 1024, 1024, 1024, 1024, 1024, 1024, 1024, 1024, 1024, 1024, 1024, 1024, 1024, 1024, 1024, 1024, 1024, 1024, 1024, 1024, 1024, 1024, 1024, 1024, 1024, 1024, 1024, 1024, 1024, 1024, 1024, 1024, 1024, 1024, 1024, 1024, 1024, 1024, 1024, 1024, 1024, 1024, 1024, 1024, 1024, 1024, 1024, 1024, 1024, 1024, 1024, 1024, 1024, 1024, 1024, 1024, 1024, 1024, 1024, 1024, 1024, 1024, 1024, 1024, 1024, 1024, 1024, 1024, 1024, 1024, 1024, 1024, 1024, 1024, 1024, 1024, 1024, 1024, 1024, 1024, 1024, 1024, 1024, 1024, 1024, 1024, 1024, 1024, 1024, 1024, 1024, 1024, 1024, 1024, 1024, 1024, 1024, 1024, 1024, 1024, 1024, 1024, 1024, 1024, 1024, 1024, 1024, 1024, 1024, 1024, 1024, 1024, 1024, 1024, 1024, 1024, 1024, 1024, 1024, 1024, 1024, 1024, 1024, 1024, 1024, 1024, 1024, 1024, 1024, 1024, 1024, 1024, 1024, 1024, 1024, 1024, 1024, 1024, 1024, 1024, 1024, 1024, 1024, 1024, 1024, 1024, 1024, 1024, 1024, 1024, 1024, 1024, 1024, 1024, 1024, 1024, 1024, 1024, 1024, 1024, 1024, 1024, 1024, 1024, 1024, 1024, 1024, 1024, 1024, 1024, 1024, 1024, 1024, 1024, 1024, 1024, 1024, 1024, 1024, 1024, 1024, 1024, 1024, 1024, 1024, 1024, 1024, 1024, 1024, 1024, 1024, 1024, 1024, 1024, 1024, 1024, 1024, 1024, 1024, 1024, 1024, 1024, 1024, 1024, 1024, 1024, 1024, 1024, 1024, 1024, 1024, 1024, 1024, 1024, 1024, 1024, 1024, 1024, 1024, 1024, 1024, 1024, 1024, 1024, 1024, 1024, 1024, 1024, 1024, 1024, 1024, 1024, 1024, 1024, 1024, 1024, 1024, 1024, 1024, 1024, 1024, 1024, 1024, 1024, 1024, 1024, 1024, 1024, 1024, 1024, 1024, 1024, 1024, 1024, 1024, 1024, 1024, 1024, 1024, 1024, 1024, 1024, 1024, 1024, 1024, 1024, 1024, 1024, 1024, 1024, 1024, 1024, 1024, 1024, 1024, 1024, 1024, 1024, 1024, 1024, 1024, 1024, 1024, 1024, 1024, 1024, 1024, 1024, 1024, 1024, 1024, 1024, 1024, 1024, 1024, 1024, 1024, 1024, 1024, 1024, 1024, 1024, 1024, 992, 0, 0, 0, 1024, 1024, 1024, 1024, 1024, 1024, 1024, 1024, 1024, 1024, 1024, 1024, 1024, 1024, 1024, 1024, 1024, 1024, 1024, 1024, 1024, 992, 0, 0, 0]\n",
      "1250\n",
      "1187162\n",
      "1024\n"
     ]
    }
   ],
   "source": [
    "print(32*32)\n",
    "copy_df = truncated_df.copy()\n",
    "square_sizes = []\n",
    "\n",
    "for i, lat_lim in enumerate(lat_groups):\n",
    "    prev_lat = lat_groups[i-1] if i > 0 else truncated_lats[0]\n",
    "    for j, long_lim in enumerate(long_groups):\n",
    "        prev_long = long_groups[j-1] if j > 0 else truncated_longs[0]\n",
    "\n",
    "        square = copy_df.loc[\n",
    "            (copy_df['lat'] >= prev_lat) & \n",
    "            (copy_df['lat'] <= lat_lim) & \n",
    "            (copy_df['long'] >= prev_long) & \n",
    "            (copy_df['long'] <= long_lim)\n",
    "        ]\n",
    "        size = square.shape[0]\n",
    "        square_sizes.append(size)\n",
    "        copy_df = copy_df.drop(square.index)\n",
    "\n",
    "print(square_sizes)\n",
    "print(len(square_sizes))\n",
    "print(sum(square_sizes))\n",
    "print(max(square_sizes))\n"
   ]
  },
  {
   "cell_type": "code",
   "execution_count": 146,
   "metadata": {},
   "outputs": [
    {
     "name": "stdout",
     "output_type": "stream",
     "text": [
      "(1250, 4)\n",
      "         lat        long   elevation  generated_temp\n",
      "0 -37.657377  145.832503  662.120711       14.695870\n",
      "1 -37.657377  146.115473  894.740107       13.178485\n",
      "2 -37.657377  146.402933  847.891958       13.487634\n",
      "3 -37.657377  146.690394  567.229514       15.301900\n",
      "4 -37.657377  146.977855  476.709221       15.911354\n",
      "-37.657376710290336 -23.57628463171684\n",
      "145.83250322396313 152.72707302958045\n",
      "0.0 1570.4010564453124\n",
      "8.777958836524835 19.441583044082638\n"
     ]
    }
   ],
   "source": [
    "copy_df = truncated_df.copy()\n",
    "reduced_df = pd.DataFrame()\n",
    "\n",
    "for i, lat_lim in enumerate(lat_groups):\n",
    "    prev_lat = lat_groups[i-1] if i > 0 else truncated_lats[0]\n",
    "    for j, long_lim in enumerate(long_groups):\n",
    "        prev_long = long_groups[j-1] if j > 0 else truncated_longs[0]\n",
    "\n",
    "        square = copy_df.loc[\n",
    "            (copy_df['lat'] >= prev_lat) & \n",
    "            (copy_df['lat'] <= lat_lim) & \n",
    "            (copy_df['long'] >= prev_long) & \n",
    "            (copy_df['long'] <= long_lim)\n",
    "        ]\n",
    "\n",
    "        new_pt = {\n",
    "            'lat': (prev_lat + lat_lim) / 2,\n",
    "            'long': (prev_long + long_lim) / 2,\n",
    "        }\n",
    "\n",
    "        if square.shape[0] == 0: # no data points = off the coast sea level\n",
    "            # at sea level\n",
    "            new_pt['elevation'] = 0\n",
    "            new_pt['generated_temp'] = 19 + np.random.normal(0, 0.2) # same formula as in edit_temp_data.ipynb\n",
    "        else:\n",
    "            new_pt['elevation'] = square['elevation'].mean()\n",
    "            new_pt['generated_temp'] = square['generated_temp'].mean()\n",
    "            # is there a better way to interpolate temperature and elevation?\n",
    "        \n",
    "        reduced_df = pd.concat([reduced_df, pd.DataFrame([new_pt])], ignore_index=True)\n",
    "\n",
    "        copy_df = copy_df.drop(square.index)\n",
    "\n",
    "print(reduced_df.shape)\n",
    "print(reduced_df.head())\n",
    "print(reduced_df['lat'].min(), reduced_df['lat'].max())\n",
    "print(reduced_df['long'].min(), reduced_df['long'].max())\n",
    "print(reduced_df['elevation'].min(), reduced_df['elevation'].max())\n",
    "print(reduced_df['generated_temp'].min(), reduced_df['generated_temp'].max())"
   ]
  },
  {
   "cell_type": "code",
   "execution_count": 175,
   "metadata": {},
   "outputs": [
    {
     "data": {
      "image/png": "[encoded data removed]",
      "text/plain": [
       "<Figure size 640x480 with 2 Axes>"
      ]
     },
     "metadata": {},
     "output_type": "display_data"
    },
    {
     "data": {
      "image/png": "[encoded data removed]",
      "text/plain": [
       "<Figure size 640x480 with 2 Axes>"
      ]
     },
     "metadata": {},
     "output_type": "display_data"
    }
   ],
   "source": [
    "# plot a 50 x 25 grid of the reduced data\n",
    "import matplotlib.pyplot as plt\n",
    "\n",
    "asc_longs = np.sort(reduced_df['long'].unique())\n",
    "desc_lats = np.sort(reduced_df['lat'].unique())[::-1]\n",
    "\n",
    "temp_grid = []\n",
    "alt_grid = []\n",
    "\n",
    "for lat in desc_lats:\n",
    "    temp_row = []\n",
    "    alt_row = []\n",
    "    for long in asc_longs:\n",
    "        point = reduced_df.loc[(reduced_df['lat'] == lat) & (reduced_df['long'] == long)]\n",
    "        temp_row.append(point['generated_temp'].values[0])\n",
    "        alt_row.append(point['elevation'].values[0])\n",
    "    temp_grid.append(temp_row)\n",
    "    alt_grid.append(alt_row)\n",
    "\n",
    "plt.figure(1)\n",
    "plt.imshow(alt_grid, cmap='terrain', interpolation='nearest')\n",
    "plt.colorbar()\n",
    "plt.title('Elevation')\n",
    "plt.show()\n",
    "\n",
    "plt.figure(2)\n",
    "plt.imshow(temp_grid, cmap='hot_r', interpolation='nearest')\n",
    "plt.colorbar()\n",
    "plt.title('Temperature')\n",
    "plt.show()"
   ]
  },
  {
   "cell_type": "code",
   "execution_count": 177,
   "metadata": {},
   "outputs": [],
   "source": [
    "reduced_data_file = 'data/50x25_data.csv'\n",
    "reduced_df.to_csv(reduced_data_file, index=False)"
   ]
  },
  {
   "cell_type": "code",
   "execution_count": null,
   "metadata": {},
   "outputs": [],
   "source": []
  }
 ],
 "metadata": {
  "kernelspec": {
   "display_name": "myvenv",
   "language": "python",
   "name": "python3"
  },
  "language_info": {
   "codemirror_mode": {
    "name": "ipython",
    "version": 3
   },
   "file_extension": ".py",
   "mimetype": "text/x-python",
   "name": "python",
   "nbconvert_exporter": "python",
   "pygments_lexer": "ipython3",
   "version": "3.11.4"
  }
 },
 "nbformat": 4,
 "nbformat_minor": 2
}
