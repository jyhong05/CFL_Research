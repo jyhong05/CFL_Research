{
 "cells": [
  {
   "cell_type": "markdown",
   "metadata": {},
   "source": [
    "# NOTE PATHS HAVE NOT BEEN CHANGED SINCE MOVING INTO NEW FOLDER"
   ]
  },
  {
   "cell_type": "code",
   "execution_count": 9,
   "metadata": {},
   "outputs": [],
   "source": [
    "import pandas as pd\n",
    "import numpy as np"
   ]
  },
  {
   "cell_type": "code",
   "execution_count": 10,
   "metadata": {},
   "outputs": [],
   "source": [
    "lapse_rate = 0.0065 # deg C per m\n",
    "sea_level_temp = 19 # deg C - along east coast, using Sydney as reference\n",
    "err_std_dev = 0.2 # deg C - taking into account errors for lapse rate and sea level temp\n",
    "\n",
    "def elevation_to_temp(elevations): # elevation in meters\n",
    "    temps = []\n",
    "    for elevation in elevations:\n",
    "        err = np.random.normal(0, err_std_dev)\n",
    "        temp = sea_level_temp - (lapse_rate * elevation) + err\n",
    "        temps.append(temp)\n",
    "    return temps"
   ]
  },
  {
   "cell_type": "code",
   "execution_count": 11,
   "metadata": {},
   "outputs": [],
   "source": [
    "file = '../data/10km_data.csv'\n",
    "\n",
    "data_1km = pd.read_csv(file)\n",
    "data_1km['generated_temp'] = elevation_to_temp(data_1km['elevation'])\n",
    "data_1km.to_csv(file, index=False)"
   ]
  },
  {
   "cell_type": "code",
   "execution_count": 12,
   "metadata": {},
   "outputs": [
    {
     "data": {
      "text/plain": [
       "\"data_900m = pd.read_csv(folder + 'cleaned_900m_data.csv')\\ndata_900m['generated_temp'] = elevation_to_temp(data_900m['elevation'])\\ndata_900m.to_csv(folder + 'data_900m.csv', index=False)\""
      ]
     },
     "execution_count": 12,
     "metadata": {},
     "output_type": "execute_result"
    }
   ],
   "source": [
    "'''data_900m = pd.read_csv(folder + 'cleaned_900m_data.csv')\n",
    "data_900m['generated_temp'] = elevation_to_temp(data_900m['elevation'])\n",
    "data_900m.to_csv(folder + 'data_900m.csv', index=False)'''"
   ]
  },
  {
   "cell_type": "code",
   "execution_count": null,
   "metadata": {},
   "outputs": [],
   "source": []
  }
 ],
 "metadata": {
  "kernelspec": {
   "display_name": "myvenv",
   "language": "python",
   "name": "python3"
  },
  "language_info": {
   "codemirror_mode": {
    "name": "ipython",
    "version": 3
   },
   "file_extension": ".py",
   "mimetype": "text/x-python",
   "name": "python",
   "nbconvert_exporter": "python",
   "pygments_lexer": "ipython3",
   "version": "3.11.4"
  }
 },
 "nbformat": 4,
 "nbformat_minor": 2
}
