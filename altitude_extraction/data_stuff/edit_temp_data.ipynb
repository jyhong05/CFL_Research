{
 "cells": [
  {
   "cell_type": "code",
   "execution_count": 28,
   "metadata": {},
   "outputs": [],
   "source": [
    "import pandas as pd\n",
    "import numpy as np"
   ]
  },
  {
   "cell_type": "code",
   "execution_count": 29,
   "metadata": {},
   "outputs": [],
   "source": [
    "lapse_rate = 0.0065 # deg C per m\n",
    "sea_level_temp = 19 # deg C - along east coast, using Sydney as reference\n",
    "err_std_dev = 0 # deg C - taking into account errors for lapse rate and sea level temp\n",
    "\n",
    "def linear_elevation_to_temp(elevations): # elevation in meters\n",
    "    temps = []\n",
    "    for elevation in elevations:\n",
    "        err = np.random.normal(0, err_std_dev)\n",
    "        temp = sea_level_temp - (lapse_rate * elevation) + err\n",
    "        temps.append(temp)\n",
    "    return temps\n",
    "\n",
    "def exp_elevation_to_temp(elevations):\n",
    "    exp_downscaling_const = 0.25\n",
    "    temps = []\n",
    "    for elevation in elevations:\n",
    "        err = np.random.normal(0, err_std_dev)\n",
    "        temp = sea_level_temp * np.exp(-lapse_rate * elevation * exp_downscaling_const) + err\n",
    "        temps.append(temp)\n",
    "    return temps"
   ]
  },
  {
   "cell_type": "code",
   "execution_count": 30,
   "metadata": {},
   "outputs": [],
   "source": [
    "file = '../data/25km_data.csv'\n",
    "\n",
    "data_1km = pd.read_csv(file)\n",
    "data_1km['generated_temp'] = linear_elevation_to_temp(data_1km['elevation'])\n",
    "data_1km.to_csv(file, index=False)"
   ]
  },
  {
   "cell_type": "code",
   "execution_count": null,
   "metadata": {},
   "outputs": [],
   "source": []
  }
 ],
 "metadata": {
  "kernelspec": {
   "display_name": "myvenv",
   "language": "python",
   "name": "python3"
  },
  "language_info": {
   "codemirror_mode": {
    "name": "ipython",
    "version": 3
   },
   "file_extension": ".py",
   "mimetype": "text/x-python",
   "name": "python",
   "nbconvert_exporter": "python",
   "pygments_lexer": "ipython3",
   "version": "3.11.4"
  }
 },
 "nbformat": 4,
 "nbformat_minor": 2
}
