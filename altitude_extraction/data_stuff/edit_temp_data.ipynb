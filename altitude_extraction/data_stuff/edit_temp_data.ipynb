{
 "cells": [
  {
   "cell_type": "code",
   "execution_count": 33,
   "metadata": {},
   "outputs": [],
   "source": [
    "import pandas as pd\n",
    "import numpy as np"
   ]
  },
  {
   "cell_type": "code",
   "execution_count": 34,
   "metadata": {},
   "outputs": [],
   "source": [
    "lapse_rate = 0.0065 # deg C per m\n",
    "sea_level_temp = 19 # deg C - along east coast, using Sydney as reference\n",
    "err_std_dev = 0.2 # deg C - taking into account errors for lapse rate and sea level temp\n",
    "\n",
    "def linear_elevation_to_temp(elevations): # elevation in meters\n",
    "    temps = []\n",
    "    for elevation in elevations:\n",
    "        err = np.random.normal(0, err_std_dev)\n",
    "        temp = sea_level_temp - (lapse_rate * elevation) + err\n",
    "        temps.append(temp)\n",
    "    return temps\n",
    "\n",
    "def exp_elevation_to_temp(elevations):\n",
    "    exp_downscaling_const = 0.25\n",
    "    temps = []\n",
    "    for elevation in elevations:\n",
    "        err = np.random.normal(0, err_std_dev)\n",
    "        temp = sea_level_temp * np.exp(-lapse_rate * elevation * exp_downscaling_const) + err\n",
    "        temps.append(temp)\n",
    "    return temps"
   ]
  },
  {
   "cell_type": "code",
   "execution_count": null,
   "metadata": {},
   "outputs": [],
   "source": [
    "resolution = '10km'\n",
    "ground_truth = False\n",
    "file = f'../data/{resolution}_data.csv'\n",
    "truth_file = f'../data/{resolution}_truth.csv'\n",
    "\n",
    "data = pd.read_csv(file)\n",
    "truth = pd.read_csv(truth_file)\n",
    "data['generated_temp'] = linear_elevation_to_temp(truth['elevation'])\n",
    "\n",
    "if 'elevation' in data.columns and not ground_truth:\n",
    "    data.drop(columns=['elevation'], inplace=True)\n",
    "\n",
    "destination = truth_file if ground_truth else file\n",
    "data.to_csv(destination, index=False)"
   ]
  },
  {
   "cell_type": "code",
   "execution_count": null,
   "metadata": {},
   "outputs": [],
   "source": []
  }
 ],
 "metadata": {
  "kernelspec": {
   "display_name": "myvenv",
   "language": "python",
   "name": "python3"
  },
  "language_info": {
   "codemirror_mode": {
    "name": "ipython",
    "version": 3
   },
   "file_extension": ".py",
   "mimetype": "text/x-python",
   "name": "python",
   "nbconvert_exporter": "python",
   "pygments_lexer": "ipython3",
   "version": "3.11.4"
  }
 },
 "nbformat": 4,
 "nbformat_minor": 2
}
