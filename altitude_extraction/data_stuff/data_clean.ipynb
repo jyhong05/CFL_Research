{
 "cells": [
  {
   "cell_type": "markdown",
   "metadata": {},
   "source": [
    "# NOTE PATHS HAVE NOT BEEN CHANGED SINCE MOVING INTO NEW FOLDER"
   ]
  },
  {
   "cell_type": "code",
   "execution_count": 13,
   "metadata": {},
   "outputs": [],
   "source": [
    "import numpy as np\n",
    "import pandas as pd\n",
    "import re"
   ]
  },
  {
   "cell_type": "code",
   "execution_count": 14,
   "metadata": {},
   "outputs": [],
   "source": [
    "folder = \"data\"\n",
    "file = folder + '/elevation_10km.csv'\n",
    "\n",
    "df = pd.read_csv(file)"
   ]
  },
  {
   "cell_type": "code",
   "execution_count": 15,
   "metadata": {},
   "outputs": [],
   "source": [
    "long = []\n",
    "lat = []\n",
    "for i, row in df.iterrows():\n",
    "    coords = re.search(r'\\[(.*?)\\]', row['.geo']).group(1).split(',')\n",
    "    long.append(float(coords[0]))\n",
    "    lat.append(float(coords[1]))\n",
    "\n",
    "df['long'] = long\n",
    "df['lat'] = lat\n",
    "df.drop(columns=['.geo', 'system:index'], axis=1, inplace=True)"
   ]
  },
  {
   "cell_type": "code",
   "execution_count": 16,
   "metadata": {},
   "outputs": [
    {
     "name": "stdout",
     "output_type": "stream",
     "text": [
      "rows by columns: (12700, 3)\n",
      "columns: Index(['elevation', 'long', 'lat'], dtype='object')\n",
      "longitude range: 153.3873347634083 145.75165484839235\n",
      "latitude range: -23.490944679725487 -38.492809924521495\n",
      "elevation range: 1792.459 -0.39861158\n"
     ]
    }
   ],
   "source": [
    "print(\"rows by columns:\", df.shape)\n",
    "print(\"columns:\", df.columns)\n",
    "print(\"longitude range:\", max(df['long']), min(df['long']))\n",
    "print(\"latitude range:\", max(df['lat']), min(df['lat']))\n",
    "print(\"elevation range:\", max(df['elevation']), min(df['elevation']))"
   ]
  },
  {
   "cell_type": "code",
   "execution_count": 17,
   "metadata": {},
   "outputs": [],
   "source": [
    "lapse_rate = 0.0065 # deg C per m\n",
    "sea_level_temp = 19 # deg C - along east coast, using Sydney as reference\n",
    "err_std_dev = 0.2 # deg C - taking into account errors for lapse rate and sea level temp\n",
    "\n",
    "def elevation_to_temp(elevations): # elevation in meters\n",
    "    temps = []\n",
    "    for elevation in elevations:\n",
    "        err = np.random.normal(0, err_std_dev)\n",
    "        temp = sea_level_temp - (lapse_rate * elevation) + err\n",
    "        temps.append(temp)\n",
    "    return temps"
   ]
  },
  {
   "cell_type": "code",
   "execution_count": 18,
   "metadata": {},
   "outputs": [],
   "source": [
    "df['generated_temp'] = elevation_to_temp(df['elevation'])\n",
    "df.to_csv(folder + '/10km_data.csv', index=False)"
   ]
  },
  {
   "cell_type": "code",
   "execution_count": null,
   "metadata": {},
   "outputs": [],
   "source": []
  }
 ],
 "metadata": {
  "kernelspec": {
   "display_name": "myvenv",
   "language": "python",
   "name": "python3"
  },
  "language_info": {
   "codemirror_mode": {
    "name": "ipython",
    "version": 3
   },
   "file_extension": ".py",
   "mimetype": "text/x-python",
   "name": "python",
   "nbconvert_exporter": "python",
   "pygments_lexer": "ipython3",
   "version": "3.11.4"
  }
 },
 "nbformat": 4,
 "nbformat_minor": 2
}
