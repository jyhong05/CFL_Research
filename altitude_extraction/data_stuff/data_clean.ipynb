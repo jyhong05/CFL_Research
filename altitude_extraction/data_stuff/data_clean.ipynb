{
 "cells": [
  {
   "cell_type": "code",
   "execution_count": 2,
   "metadata": {},
   "outputs": [],
   "source": [
    "import numpy as np\n",
    "import pandas as pd\n",
    "import re"
   ]
  },
  {
   "cell_type": "code",
   "execution_count": 3,
   "metadata": {},
   "outputs": [],
   "source": [
    "folder = \"../data\"\n",
    "resolution = '60km'\n",
    "file = folder + f'/elevation_{resolution}.csv'\n",
    "\n",
    "df = pd.read_csv(file)"
   ]
  },
  {
   "cell_type": "code",
   "execution_count": 4,
   "metadata": {},
   "outputs": [],
   "source": [
    "long = []\n",
    "lat = []\n",
    "for i, row in df.iterrows():\n",
    "    coords = re.search(r'\\[(.*?)\\]', row['.geo']).group(1).split(',')\n",
    "    long.append(float(coords[0]))\n",
    "    lat.append(float(coords[1]))\n",
    "\n",
    "df['long'] = long\n",
    "df['lat'] = lat\n",
    "df.drop(columns=['.geo', 'system:index'], axis=1, inplace=True)"
   ]
  },
  {
   "cell_type": "code",
   "execution_count": 5,
   "metadata": {},
   "outputs": [
    {
     "name": "stdout",
     "output_type": "stream",
     "text": [
      "rows by columns: (374, 3)\n",
      "columns: Index(['elevation', 'long', 'lat'], dtype='object')\n",
      "longitude range: 153.34241899920232 145.79657061259834\n",
      "latitude range: -23.446028915519513 -37.99873651825576\n",
      "elevation range: 1578.3523 -0.0027488957\n"
     ]
    }
   ],
   "source": [
    "print(\"rows by columns:\", df.shape)\n",
    "print(\"columns:\", df.columns)\n",
    "print(\"longitude range:\", max(df['long']), min(df['long']))\n",
    "print(\"latitude range:\", max(df['lat']), min(df['lat']))\n",
    "print(\"elevation range:\", max(df['elevation']), min(df['elevation']))"
   ]
  },
  {
   "cell_type": "code",
   "execution_count": 6,
   "metadata": {},
   "outputs": [],
   "source": [
    "lapse_rate = 0.0065 # deg C per m\n",
    "sea_level_temp = 19 # deg C - along east coast, using Sydney as reference\n",
    "err_std_dev = 0.2 # deg C - taking into account errors for lapse rate and sea level temp\n",
    "\n",
    "def linear_elevation_to_temp(elevations, err=True): # elevation in meters\n",
    "    temps = []\n",
    "    for elevation in elevations:\n",
    "        if err:\n",
    "            err = np.random.normal(0, err_std_dev)\n",
    "        else:\n",
    "            err = 0\n",
    "        temp = sea_level_temp - (lapse_rate * elevation) + err\n",
    "        temps.append(temp)\n",
    "    return temps"
   ]
  },
  {
   "cell_type": "code",
   "execution_count": 7,
   "metadata": {},
   "outputs": [],
   "source": [
    "df['generated_temp'] = linear_elevation_to_temp(df['elevation'], err=False)\n",
    "df.to_csv(folder + f'/{resolution}_truth.csv', index=False)"
   ]
  },
  {
   "cell_type": "code",
   "execution_count": 8,
   "metadata": {},
   "outputs": [],
   "source": [
    "df['generated_temp'] = linear_elevation_to_temp(df['elevation'])\n",
    "df.drop(columns=['elevation'], axis=1, inplace=True)\n",
    "df.to_csv(folder + f'/{resolution}_data.csv', index=False)"
   ]
  }
 ],
 "metadata": {
  "kernelspec": {
   "display_name": "myvenv",
   "language": "python",
   "name": "python3"
  },
  "language_info": {
   "codemirror_mode": {
    "name": "ipython",
    "version": 3
   },
   "file_extension": ".py",
   "mimetype": "text/x-python",
   "name": "python",
   "nbconvert_exporter": "python",
   "pygments_lexer": "ipython3",
   "version": "3.11.4"
  }
 },
 "nbformat": 4,
 "nbformat_minor": 2
}
