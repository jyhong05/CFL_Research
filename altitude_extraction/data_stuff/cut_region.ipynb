{
 "cells": [
  {
   "cell_type": "code",
   "execution_count": 2,
   "metadata": {},
   "outputs": [],
   "source": [
    "import numpy as np\n",
    "import pandas as pd"
   ]
  },
  {
   "cell_type": "code",
   "execution_count": 3,
   "metadata": {},
   "outputs": [],
   "source": [
    "file = 'data/1km_data.csv'\n",
    "\n",
    "df = pd.read_csv(file)"
   ]
  },
  {
   "cell_type": "code",
   "execution_count": 4,
   "metadata": {},
   "outputs": [],
   "source": [
    "new_left_long = 145.689763\n",
    "new_top_lat = -23.4311396\n",
    "\n",
    "df = df[(df['long'] >= new_left_long) & (df['lat'] <= new_top_lat)]"
   ]
  },
  {
   "cell_type": "code",
   "execution_count": 6,
   "metadata": {},
   "outputs": [
    {
     "name": "stdout",
     "output_type": "stream",
     "text": [
      "rows by columns: (1273630, 4)\n",
      "columns: Index(['elevation', 'long', 'lat', 'generated_temp'], dtype='object')\n",
      "longitude range: 153.46369156255847 145.6932643549246\n",
      "latitude range: -23.43255418625772 -38.45238573673612\n",
      "elevation range: 2135.8901 -44.925156\n"
     ]
    }
   ],
   "source": [
    "print(\"rows by columns:\", df.shape)\n",
    "print(\"columns:\", df.columns)\n",
    "print(\"longitude range:\", max(df['long']), min(df['long']))\n",
    "print(\"latitude range:\", max(df['lat']), min(df['lat']))\n",
    "print(\"elevation range:\", max(df['elevation']), min(df['elevation']))"
   ]
  },
  {
   "cell_type": "code",
   "execution_count": 8,
   "metadata": {},
   "outputs": [],
   "source": [
    "df.to_csv('data/1km_data.csv', index=False)"
   ]
  },
  {
   "cell_type": "code",
   "execution_count": null,
   "metadata": {},
   "outputs": [],
   "source": []
  }
 ],
 "metadata": {
  "kernelspec": {
   "display_name": "myvenv",
   "language": "python",
   "name": "python3"
  },
  "language_info": {
   "codemirror_mode": {
    "name": "ipython",
    "version": 3
   },
   "file_extension": ".py",
   "mimetype": "text/x-python",
   "name": "python",
   "nbconvert_exporter": "python",
   "pygments_lexer": "ipython3",
   "version": "3.11.4"
  }
 },
 "nbformat": 4,
 "nbformat_minor": 2
}
