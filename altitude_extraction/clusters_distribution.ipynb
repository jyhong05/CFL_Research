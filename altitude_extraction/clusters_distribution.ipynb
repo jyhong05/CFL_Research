{
 "cells": [
  {
   "cell_type": "code",
   "execution_count": 1,
   "metadata": {},
   "outputs": [
    {
     "name": "stderr",
     "output_type": "stream",
     "text": [
      "2025-01-27 00:24:46.899291: I tensorflow/core/platform/cpu_feature_guard.cc:182] This TensorFlow binary is optimized to use available CPU instructions in performance-critical operations.\n",
      "To enable the following instructions: AVX2 FMA, in other operations, rebuild TensorFlow with the appropriate compiler flags.\n"
     ]
    }
   ],
   "source": [
    "from cfl.experiment import Experiment\n",
    "import numpy as np\n",
    "import pandas as pd\n",
    "from sklearn.preprocessing import StandardScaler\n",
    "from cfl_helpers import *"
   ]
  },
  {
   "cell_type": "code",
   "execution_count": 2,
   "metadata": {},
   "outputs": [],
   "source": [
    "file = 'data/10km_data.csv'\n",
    "\n",
    "data = pd.read_csv(file)\n",
    "Xraw = np.array(data[['lat', 'long']])\n",
    "Yraw = np.array(data['generated_temp']).reshape(-1,1)\n",
    "X = StandardScaler().fit_transform(Xraw)\n",
    "Y = StandardScaler().fit_transform(Yraw)"
   ]
  },
  {
   "cell_type": "code",
   "execution_count": 3,
   "metadata": {},
   "outputs": [],
   "source": [
    "true_alt, true_temps = get_alt_temp_grids(data)"
   ]
  },
  {
   "cell_type": "code",
   "execution_count": null,
   "metadata": {},
   "outputs": [],
   "source": [
    "data_info = {'X_dims' : X.shape,\n",
    "             'Y_dims' : Y.shape,\n",
    "             'Y_type' : 'continuous' #options: 'categorical' or 'continuous'\n",
    "            }\n",
    "\n",
    "CDE_params = {  'model'        : 'CondExpMod',\n",
    "                'model_params' : {\n",
    "                    # model architecture\n",
    "                    'dense_units' : [50, data_info['Y_dims'][1]],\n",
    "                    'activations' : ['relu', 'linear'],\n",
    "                    'dropouts'    : [0, 0],\n",
    "                    # training parameters\n",
    "                    'batch_size'  : 64,\n",
    "                    'n_epochs'    : 2000,\n",
    "                    'optimizer'   : 'adam',\n",
    "                    'opt_config'  : {'lr' : 1e-4},\n",
    "                    'loss'        : 'mean_squared_error',\n",
    "                    'best'        : True,\n",
    "                    'early_stopping' : True,\n",
    "                    # verbosity\n",
    "                    'verbose'     : 0, # don't log or show plot for checking clusters vs accuracy\n",
    "                    'show_plot'   : False,\n",
    "                }\n",
    "}\n",
    "\n",
    "cause_cluster_params =  {'model' : 'KMeans',\n",
    "                        'model_params' : {'n_clusters' : \"PLACEHOLDER\" },\n",
    "                        'verbose' : 0\n",
    "}"
   ]
  }
 ],
 "metadata": {
  "kernelspec": {
   "display_name": "myvenv",
   "language": "python",
   "name": "python3"
  },
  "language_info": {
   "codemirror_mode": {
    "name": "ipython",
    "version": 3
   },
   "file_extension": ".py",
   "mimetype": "text/x-python",
   "name": "python",
   "nbconvert_exporter": "python",
   "pygments_lexer": "ipython3",
   "version": "3.11.4"
  }
 },
 "nbformat": 4,
 "nbformat_minor": 2
}
