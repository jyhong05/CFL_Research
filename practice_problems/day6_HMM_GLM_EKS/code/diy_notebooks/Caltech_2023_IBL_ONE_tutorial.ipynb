{
  "nbformat": 4,
  "nbformat_minor": 0,
  "metadata": {
    "colab": {
      "provenance": [],
      "collapsed_sections": [
        "RGgCO_myXJ13",
        "cmI9AmEbJx9B",
        "wqK8h-iORJbC",
        "6hGukIYhRQb7",
        "Ffd9EYxERTzH",
        "b3pezG2FwkRs"
      ],
      "include_colab_link": true
    },
    "kernelspec": {
      "name": "python3",
      "display_name": "Python 3"
    },
    "language_info": {
      "name": "python"
    }
  },
  "cells": [
    {
      "cell_type": "markdown",
      "metadata": {
        "id": "view-in-github",
        "colab_type": "text"
      },
      "source": [
        "<a href=\"https://colab.research.google.com/github/themattinthehatt/Caltech_DATASAI_Neuroscience_23/blob/generative/07_17_23_day6_generative_models/code/diy_notebooks/Caltech_2023_IBL_ONE_tutorial.ipynb\" target=\"_parent\"><img src=\"https://colab.research.google.com/assets/colab-badge.svg\" alt=\"Open In Colab\"/></a>"
      ]
    },
    {
      "cell_type": "markdown",
      "source": [
        "# Installing and configuring ONE"
      ],
      "metadata": {
        "id": "NOk-Ahox8wGd"
      }
    },
    {
      "cell_type": "markdown",
      "source": [
        "## 🏠 Create virtual python environment\n",
        "\n"
      ],
      "metadata": {
        "id": "RGgCO_myXJ13"
      }
    },
    {
      "cell_type": "markdown",
      "source": [
        "---\n",
        "\n",
        "\n",
        "🔖 **NOTE:** This step is only needed if you want to follow this tutorial on your local computer\n",
        "\n",
        "\n",
        "---"
      ],
      "metadata": {
        "id": "xoguS_XpQt-R"
      }
    },
    {
      "cell_type": "markdown",
      "source": [
        "### Creating a new environment with conda (recommended way)"
      ],
      "metadata": {
        "id": "-YnPwMWpXgxi"
      }
    },
    {
      "cell_type": "markdown",
      "source": [
        "To create a conda environment, [anaconda](https://www.anaconda.com/) must first be installed.\n",
        "\n",
        "Once installed launch an anaconda prompt terminal and create a new conda environment\n",
        "\n",
        "`conda create --name iblenv python=3.9`\n",
        "\n",
        "The new environment can be activated using,\n",
        "\n",
        "`conda activate iblenv`"
      ],
      "metadata": {
        "id": "hRZA78AoaBIC"
      }
    },
    {
      "cell_type": "markdown",
      "source": [
        "### Creating a new environment with virtualenv"
      ],
      "metadata": {
        "id": "w7FN2DxiXlFJ"
      }
    },
    {
      "cell_type": "markdown",
      "source": [
        "A new virtualenv can be created by launching a terminal and typing the following\n",
        "\n",
        "`virtualenv iblenv --python=python3`\n",
        "\n",
        "The new environment can be activated using,\n",
        "\n",
        "`source ./iblenv/bin/activate`"
      ],
      "metadata": {
        "id": "M1J7QImrbFER"
      }
    },
    {
      "cell_type": "markdown",
      "source": [
        "## Install relevent packages"
      ],
      "metadata": {
        "id": "CJ31GQkwGbKq"
      }
    },
    {
      "cell_type": "markdown",
      "source": [
        "\n",
        "\n",
        "---\n",
        "\n",
        "\n",
        "⚡ **INFORMATION:** To install locally remove the ! (e.g pip install ONE-api)\n",
        "\n",
        "\n",
        "---\n",
        "\n"
      ],
      "metadata": {
        "id": "tMyU56XOiyD5"
      }
    },
    {
      "cell_type": "code",
      "source": [
        "! pip install ONE-api\n",
        "! pip install ibllib"
      ],
      "metadata": {
        "id": "mET9NxyC_yBp"
      },
      "execution_count": null,
      "outputs": []
    },
    {
      "cell_type": "markdown",
      "source": [
        "## Configure ONE"
      ],
      "metadata": {
        "id": "lYK6nGoq82I2"
      }
    },
    {
      "cell_type": "code",
      "source": [
        "from one.api import ONE\n",
        "ONE.setup(base_url='https://openalyx.internationalbrainlab.org', silent=True)\n",
        "one = ONE(password='international')"
      ],
      "metadata": {
        "id": "wGFK62ekX99l",
        "colab": {
          "base_uri": "https://localhost:8080/"
        },
        "outputId": "dec31ce6-8780-400a-b805-1515ea64bff0"
      },
      "execution_count": null,
      "outputs": [
        {
          "output_type": "stream",
          "name": "stdout",
          "text": [
            "Connected to https://openalyx.internationalbrainlab.org as user \"intbrainlab\"\n",
            "Downloading: /root/Downloads/ONE/openalyx.internationalbrainlab.org/tmpk9et3cj9/cache.zip Bytes: 5155611\n"
          ]
        },
        {
          "output_type": "stream",
          "name": "stderr",
          "text": [
            "100%|██████████| 4.916773796081543/4.916773796081543 [00:00<00:00, 35.74it/s]\n"
          ]
        }
      ]
    },
    {
      "cell_type": "markdown",
      "source": [
        "---\n",
        "\n",
        "\n",
        "> 📘 **FURTHER READING**\n",
        "> *   [ONE install and setup](https://int-brain-lab.github.io/ONE/one_installation.html)\n",
        "\n",
        "\n",
        "---"
      ],
      "metadata": {
        "id": "p5EeqMmmQc1T"
      }
    },
    {
      "cell_type": "markdown",
      "source": [
        "# Instantiating ONE"
      ],
      "metadata": {
        "id": "ZTAuneB3Ye-y"
      }
    },
    {
      "cell_type": "markdown",
      "source": [
        "Once `ONE` has been configured it can be imported and instantiated in the following way"
      ],
      "metadata": {
        "id": "Xvib43ZmYh_U"
      }
    },
    {
      "cell_type": "code",
      "source": [
        "from one.api import ONE\n",
        "one = ONE()"
      ],
      "metadata": {
        "id": "rsBQoig8YoOr"
      },
      "execution_count": null,
      "outputs": []
    },
    {
      "cell_type": "markdown",
      "source": [
        "# Some useful concepts"
      ],
      "metadata": {
        "id": "sPy2JlBbUZhQ"
      }
    },
    {
      "cell_type": "markdown",
      "source": [
        "## Sessions vs Insertions\n",
        "\n"
      ],
      "metadata": {
        "id": "ZxslMfiGCg0U"
      }
    },
    {
      "cell_type": "markdown",
      "source": [
        "Depending on the type of analysis that you are doing, you will want to start your search from either the session or insertion endpoint.\n",
        "\n",
        "\n",
        "\n",
        "*   A `session` refers to an *experimental session* and can contain multiple insertions.\n",
        "*   An `insertion` is a *single Neuropixels recording* within a session.\n",
        "\n",
        "For example, if you are interested in the correlation of activity across different brain areas within a single session, you would want to enter your search through the session endpoint. If, however, you are interested in doing an analysis across multiple Neuropixels recordings within a single brain region, the insertion endpoint should be your point of entry."
      ],
      "metadata": {
        "id": "5hKfnCe--OqP"
      }
    },
    {
      "cell_type": "markdown",
      "source": [
        "# Searching for data with ONE\n"
      ],
      "metadata": {
        "id": "ZdOE4IkJASoC"
      }
    },
    {
      "cell_type": "markdown",
      "source": [
        "## `one.search` - searching on sessions"
      ],
      "metadata": {
        "id": "uQ0aG1BLfcIx"
      }
    },
    {
      "cell_type": "markdown",
      "source": [
        "ONE contains a built in search method that can be used to filter for sessions that match specific search criteria.\n",
        "\n",
        "For example, we can search for all sessions from a particular subject, KS023"
      ],
      "metadata": {
        "id": "v7MuvpGNdB-1"
      }
    },
    {
      "cell_type": "code",
      "source": [
        "# Find sessions from subject KS023\n",
        "sess = one.search(subject='KS023')\n",
        "print(len(sess))"
      ],
      "metadata": {
        "colab": {
          "base_uri": "https://localhost:8080/"
        },
        "id": "0JNelrx4d29x",
        "outputId": "ab74ae6a-8c89-4950-8137-2e277220bf69"
      },
      "execution_count": null,
      "outputs": [
        {
          "output_type": "stream",
          "name": "stdout",
          "text": [
            "47\n"
          ]
        }
      ]
    },
    {
      "cell_type": "markdown",
      "source": [
        "We are returned a list of experiment ids, `eids`\n"
      ],
      "metadata": {
        "id": "hCAnFEIQNFMF"
      }
    },
    {
      "cell_type": "code",
      "source": [
        "# Print the first 10 eids\n",
        "from pprint import pprint  # Print larger lists more clearly\n",
        "pprint(sess[:10])"
      ],
      "metadata": {
        "colab": {
          "base_uri": "https://localhost:8080/"
        },
        "id": "cqZOriIFNjB9",
        "outputId": "e58469ef-a0d2-4bee-d379-6b8182828932"
      },
      "execution_count": null,
      "outputs": [
        {
          "output_type": "stream",
          "name": "stdout",
          "text": [
            "['b39877d8-c285-47de-9078-8cc7cc91a64e',\n",
            " 'c6d5cea7-e1c4-48e1-8898-78e039fabf2b',\n",
            " 'aad23144-0e52-4eac-80c5-c4ee2decb198',\n",
            " 'a92c4b1d-46bd-457e-a1f4-414265f0e2d4',\n",
            " 'cc45c568-c3b9-4f74-836e-c87762e898c8',\n",
            " 'a4000c2f-fa75-4b3e-8f06-a7cf599b87ad',\n",
            " '6fd14a91-8781-4c1d-869e-a730b21268fb',\n",
            " '247d090b-7952-4bf8-b202-1b3c99bfdabb',\n",
            " '703f2ee3-b432-4458-a0d8-c1d26bebdf85',\n",
            " '62c0ecec-f8cf-43ad-bcc8-010566d6ad1e']\n"
          ]
        }
      ]
    },
    {
      "cell_type": "markdown",
      "source": [
        "We can further filter the sessions by those collected in a certain data range,"
      ],
      "metadata": {
        "id": "tFA8ev28eNHS"
      }
    },
    {
      "cell_type": "code",
      "source": [
        "# Find sessions from KS023 collected in December 2919\n",
        "sess = one.search(subject='KS023', date_range=['2019-12-01', '2019-12-31'])\n",
        "print(len(sess))"
      ],
      "metadata": {
        "colab": {
          "base_uri": "https://localhost:8080/"
        },
        "id": "lMgXcIxnef-H",
        "outputId": "9c947087-f04a-4644-ecc5-6d8b5c26b98d"
      },
      "execution_count": null,
      "outputs": [
        {
          "output_type": "stream",
          "name": "stdout",
          "text": [
            "9\n"
          ]
        }
      ]
    },
    {
      "cell_type": "markdown",
      "source": [
        "The possible list of terms that can be used to search with this method can be found in the following way,"
      ],
      "metadata": {
        "id": "L9rHNLh0fHYp"
      }
    },
    {
      "cell_type": "code",
      "source": [
        "search_terms = one.search_terms('remote')\n",
        "pprint(search_terms)"
      ],
      "metadata": {
        "colab": {
          "base_uri": "https://localhost:8080/"
        },
        "id": "6IW51bhjdTxq",
        "outputId": "a111d17a-af94-481a-81ca-e75058ff16f6"
      },
      "execution_count": null,
      "outputs": [
        {
          "output_type": "stream",
          "name": "stdout",
          "text": [
            "('tag',\n",
            " 'dataset',\n",
            " 'qc',\n",
            " 'subject',\n",
            " 'number',\n",
            " 'name',\n",
            " 'limit',\n",
            " 'narrative',\n",
            " 'end_time',\n",
            " 'dataset_types',\n",
            " 'histology',\n",
            " 'auto_datetime',\n",
            " 'n_correct_trials',\n",
            " 'date_range',\n",
            " 'performance_lte',\n",
            " 'type',\n",
            " 'laboratory',\n",
            " 'projects',\n",
            " 'atlas_name',\n",
            " 'parent_session',\n",
            " 'extended_qc',\n",
            " 'location',\n",
            " 'n_trials',\n",
            " 'json',\n",
            " 'nickname',\n",
            " 'atlas_id',\n",
            " 'users',\n",
            " 'task_protocol',\n",
            " 'procedures',\n",
            " 'performance_gte',\n",
            " 'atlas_acronym',\n",
            " 'offset',\n",
            " 'datasets',\n",
            " 'id',\n",
            " 'project',\n",
            " 'start_time',\n",
            " 'django')\n"
          ]
        }
      ]
    },
    {
      "cell_type": "markdown",
      "source": [
        "---\n",
        "\n",
        "\n",
        "> 📘 **FURTHER READING**\n",
        "> *   [ONE modes](https://int-brain-lab.github.io/ONE/notebooks/one_modes.html)\n",
        "\n",
        "\n",
        "---\n"
      ],
      "metadata": {
        "id": "NmvD7ezWN6zj"
      }
    },
    {
      "cell_type": "markdown",
      "source": [
        "## `one.search_insertions` - searching on insertions"
      ],
      "metadata": {
        "id": "IhF2_sZWQx96"
      }
    },
    {
      "cell_type": "markdown",
      "source": [
        "ONE also has a built in method that can be used to filter for insertions that match a specific search criteria.\n",
        "\n",
        "For example, we can search for all insertions associated to a particular subject"
      ],
      "metadata": {
        "id": "jHW1ycBORd0b"
      }
    },
    {
      "cell_type": "code",
      "source": [
        "# Find insertions for the subject KS023\n",
        "ins = one.search_insertions(subject='KS023')\n",
        "print(len(ins))"
      ],
      "metadata": {
        "colab": {
          "base_uri": "https://localhost:8080/"
        },
        "id": "herW7T0RSMS_",
        "outputId": "13411ce7-c873-4d31-b83c-cb6fd82dca1e"
      },
      "execution_count": null,
      "outputs": [
        {
          "output_type": "stream",
          "name": "stdout",
          "text": [
            "8\n"
          ]
        }
      ]
    },
    {
      "cell_type": "markdown",
      "source": [
        "We are returned a list of probe insertion ids, `pids`"
      ],
      "metadata": {
        "id": "5zvxwaVF2O6y"
      }
    },
    {
      "cell_type": "code",
      "source": [
        "# Print the first 5 pids\n",
        "from pprint import pprint  # Print larger lists more clearly\n",
        "pprint(ins[:5])"
      ],
      "metadata": {
        "colab": {
          "base_uri": "https://localhost:8080/"
        },
        "id": "1ef-PPZL2T09",
        "outputId": "f4f584d1-d2fb-423b-d488-4277d9ff6da3"
      },
      "execution_count": null,
      "outputs": [
        {
          "output_type": "stream",
          "name": "stdout",
          "text": [
            "['45e7731f-4a43-45d5-9029-c080150bc596',\n",
            " 'b749446c-18e3-4987-820a-50649ab0f826',\n",
            " '26af22bb-b295-4a45-8ed3-1700604c0708',\n",
            " 'f44d2056-644c-4769-a189-7efe67b0269d',\n",
            " 'aab5be05-5c1c-4c08-9739-1274bc3bcf4f']\n"
          ]
        }
      ]
    },
    {
      "cell_type": "markdown",
      "source": [
        "We can further restrict our search to only insertions with a particular probe label"
      ],
      "metadata": {
        "id": "FOBQMs_2SZjV"
      }
    },
    {
      "cell_type": "code",
      "source": [
        "# Find insertions for subject KS023 with name probe00\n",
        "ins = one.search_insertions(subject='KS023', name='probe00')\n",
        "print(len(ins))"
      ],
      "metadata": {
        "colab": {
          "base_uri": "https://localhost:8080/"
        },
        "id": "UOlZBoJuSi6i",
        "outputId": "45eb3711-4985-443a-ac83-4ea685b04202"
      },
      "execution_count": null,
      "outputs": [
        {
          "output_type": "stream",
          "name": "stdout",
          "text": [
            "4\n"
          ]
        }
      ]
    },
    {
      "cell_type": "markdown",
      "source": [
        "We can list all the possible search terms in the following way"
      ],
      "metadata": {
        "id": "xU5dIH9pTgpl"
      }
    },
    {
      "cell_type": "code",
      "source": [
        "search_terms = one.search_terms('remote', 'insertions')\n",
        "pprint(search_terms)"
      ],
      "metadata": {
        "colab": {
          "base_uri": "https://localhost:8080/"
        },
        "id": "sJgapRVtTnSk",
        "outputId": "e4d3a597-f3d2-4d70-ea54-4dfcd12766cb"
      },
      "execution_count": null,
      "outputs": [
        {
          "output_type": "stream",
          "name": "stdout",
          "text": [
            "('limit',\n",
            " 'offset',\n",
            " 'id',\n",
            " 'name',\n",
            " 'session',\n",
            " 'model',\n",
            " 'serial',\n",
            " 'auto_datetime',\n",
            " 'datasets',\n",
            " 'chronic_insertion',\n",
            " 'django',\n",
            " 'subject',\n",
            " 'date',\n",
            " 'experiment_number',\n",
            " 'dataset_types',\n",
            " 'lab',\n",
            " 'project',\n",
            " 'task_protocol',\n",
            " 'tag',\n",
            " 'atlas_name',\n",
            " 'atlas_acronym',\n",
            " 'atlas_id')\n"
          ]
        }
      ]
    },
    {
      "cell_type": "markdown",
      "source": [
        "\n",
        "---\n",
        "\n",
        "\n",
        "> 📘 **FURTHER READING**\n",
        "> *   [Searching with ONE](https://int-brain-lab.github.io/ONE/notebooks/one_search/one_search.html)\n",
        "\n",
        "\n",
        "---\n",
        "\n",
        "\n",
        "\n"
      ],
      "metadata": {
        "id": "FSY31dTifTBh"
      }
    },
    {
      "cell_type": "markdown",
      "source": [
        "We refer to the unique identifiers for a session and insertion respectively as,\n",
        "- `eid` (experiment/ session id)\n",
        "- `pid` (probe insertion id)\n",
        "\n",
        "You will likely need to convert between the two when loading data. The following `ONE` methods can be used for this."
      ],
      "metadata": {
        "id": "mMBwiFdkw-9G"
      }
    },
    {
      "cell_type": "code",
      "source": [
        "# Given an eid, find the pid(s)\n",
        "eid = '4720c98a-a305-4fba-affb-bbfa00a724a4'\n",
        "pids, labels = one.eid2pid(eid)\n",
        "for pid, name in zip(pids, labels):\n",
        "  print(f'pid: {pid}, pname: {name}')\n",
        "\n",
        "# Given a pid, find the eid\n",
        "pid = '695476f6-4c14-4a2f-b658-948514629079'\n",
        "eid, pname = one.pid2eid(pid)\n",
        "print(f'\\nSession associated with pid {pid}')\n",
        "print(f'eid: {eid}, pname: {pname}')"
      ],
      "metadata": {
        "colab": {
          "base_uri": "https://localhost:8080/"
        },
        "id": "ZRvZ0uT-EZIH",
        "outputId": "cdcb1e1c-b369-462e-f064-c2a14bace777"
      },
      "execution_count": null,
      "outputs": [
        {
          "output_type": "stream",
          "name": "stdout",
          "text": [
            "pid: 4755877d-fd14-42b3-bc15-e1996d153015, pname: probe01\n",
            "pid: 695476f6-4c14-4a2f-b658-948514629079, pname: probe00\n",
            "\n",
            "Session associated with pid 695476f6-4c14-4a2f-b658-948514629079\n",
            "eid: 4720c98a-a305-4fba-affb-bbfa00a724a4, pname: probe00\n"
          ]
        }
      ]
    },
    {
      "cell_type": "markdown",
      "source": [
        "## Examples using one search methods"
      ],
      "metadata": {
        "id": "UbHZuFsSQ-P2"
      }
    },
    {
      "cell_type": "markdown",
      "source": [
        "### Find sessions/insertions for a particular subject\n"
      ],
      "metadata": {
        "id": "QUzTk-Sno8Lr"
      }
    },
    {
      "cell_type": "code",
      "source": [
        "subject = 'SWC_054'\n",
        "# query sessions endpoint\n",
        "sessions = one.search(subject=subject)\n",
        "print(f'No. of detected sessions: {len(sessions)}')\n",
        "\n",
        "## query insertions endpoint\n",
        "insertions = one.search_insertions(subject=subject)\n",
        "print(f'No. of detected insertions: {len(insertions)}')"
      ],
      "metadata": {
        "colab": {
          "base_uri": "https://localhost:8080/"
        },
        "id": "z4Jp7LWQnXVh",
        "outputId": "19559b3c-5d6a-47b5-ae04-f280b848ddfa"
      },
      "execution_count": null,
      "outputs": [
        {
          "output_type": "stream",
          "name": "stdout",
          "text": [
            "No. of detected sessions: 57\n",
            "No. of detected insertions: 10\n"
          ]
        }
      ]
    },
    {
      "cell_type": "markdown",
      "source": [
        "### Find sessions/insertions with a specific dataset"
      ],
      "metadata": {
        "id": "NkCrcbdMrtq9"
      }
    },
    {
      "cell_type": "code",
      "source": [
        "dataset = 'spikes.times.npy'\n",
        "# query sessions endpoint\n",
        "sessions = one.search(datasets=dataset)\n",
        "print(f'No. of detected sessions: {len(sessions)}')\n",
        "\n",
        "# query insertions endpoint\n",
        "insertions = one.search_insertions(datasets=dataset)\n",
        "print(f'No. of detected insertions: {len(insertions)}')"
      ],
      "metadata": {
        "colab": {
          "base_uri": "https://localhost:8080/"
        },
        "id": "n9rIkUdi0b1N",
        "outputId": "5a84bca5-31e0-49b5-b155-d329440d32c4"
      },
      "execution_count": null,
      "outputs": [
        {
          "output_type": "stream",
          "name": "stdout",
          "text": [
            "No. of detected sessions: 374\n",
            "No. of detected insertions: 567\n"
          ]
        }
      ]
    },
    {
      "cell_type": "markdown",
      "source": [
        "---\n",
        "\n",
        "\n",
        "> 📘 **FURTHER READING**\n",
        "> *   [Information on IBL datasets](https://docs.google.com/document/d/1OqIqqakPakHXRAwceYLwFY9gOrm8_P62XIfCTnHwstg/edit)\n",
        "\n",
        "\n",
        "---\n"
      ],
      "metadata": {
        "id": "j88RDReealgX"
      }
    },
    {
      "cell_type": "markdown",
      "source": [
        "### Find sessions/insertions that record from a particular brain area"
      ],
      "metadata": {
        "id": "Ky_7XkzR66dc"
      }
    },
    {
      "cell_type": "code",
      "source": [
        "brain_acronym = 'CA1'\n",
        "# query sessions endpoint\n",
        "sessions = one.search(atlas_acronym=brain_acronym)\n",
        "print(f'No. of detected sessions: {len(sessions)}')\n",
        "\n",
        "# query insertions endpoint\n",
        "insertions = one.search_insertions(atlas_acronym=brain_acronym)\n",
        "print(f'No. of detected insertions: {len(insertions)}')"
      ],
      "metadata": {
        "colab": {
          "base_uri": "https://localhost:8080/"
        },
        "id": "Sh1qRZ_I7NAl",
        "outputId": "62cd1ee8-5502-477c-f4fe-4356e60468eb"
      },
      "execution_count": null,
      "outputs": [
        {
          "output_type": "stream",
          "name": "stdout",
          "text": [
            "No. of detected sessions: 173\n",
            "No. of detected insertions: 173\n"
          ]
        }
      ]
    },
    {
      "cell_type": "markdown",
      "source": [
        "---\n",
        "\n",
        "\n",
        "⚡ **INFORMATION:** IBL follows the Allen CCF for identifying brain regions\n",
        "\n",
        "\n",
        "---\n"
      ],
      "metadata": {
        "id": "f1ykBUG2q-e3"
      }
    },
    {
      "cell_type": "markdown",
      "source": [
        "### Find sessions/insertions associated to a particular tag"
      ],
      "metadata": {
        "id": "jXgPDb5w8vmG"
      }
    },
    {
      "cell_type": "code",
      "source": [
        "tag = '2022_Q4_IBL_et_al_BWM'\n",
        "# query sessions endpoint\n",
        "sessions = one.search(tag=tag, query_type='remote')\n",
        "print(f'No. of detected sessions: {len(sessions)}')\n",
        "\n",
        "# query insertions endpoint\n",
        "insertions = one.search_insertions(tag=tag)\n",
        "print(f'No. of detected insertions: {len(insertions)}')\n"
      ],
      "metadata": {
        "colab": {
          "base_uri": "https://localhost:8080/"
        },
        "id": "69oVCzn-87jB",
        "outputId": "1c541cd5-9114-43a2-e51a-f5aadcbe9d7b"
      },
      "execution_count": null,
      "outputs": [
        {
          "output_type": "stream",
          "name": "stdout",
          "text": [
            "No. of detected sessions: 354\n",
            "No. of detected insertions: 547\n"
          ]
        }
      ]
    },
    {
      "cell_type": "markdown",
      "source": [
        "---\n",
        "\n",
        "\n",
        "> 📘 **FURTHER READING**\n",
        "> *   [Available IBL data releases](https://int-brain-lab.github.io/iblenv/notebooks_external/data_download.html#Find-data-associated-with-a-release-or-publication)\n",
        "\n",
        "\n",
        "---\n"
      ],
      "metadata": {
        "id": "UOMM73gxgFjN"
      }
    },
    {
      "cell_type": "markdown",
      "source": [
        "## 🏠 Relationship between eid and location of data locally"
      ],
      "metadata": {
        "id": "cmI9AmEbJx9B"
      }
    },
    {
      "cell_type": "markdown",
      "source": [
        "An `eid` represents a unique experiment identifier and can also encoded by a specific path with the following strucutre `lab/Subjects/subject_name/date/session_number`. We refer to this as the `session path` and this also represents the location on your local where data for each session is stored. We can convert between an `eid` and a `session path` using the following `ONE` methods"
      ],
      "metadata": {
        "id": "JehqUWwacEoM"
      }
    },
    {
      "cell_type": "code",
      "source": [
        "# Given an eid find the session path\n",
        "eid = '4720c98a-a305-4fba-affb-bbfa00a724a4'\n",
        "session_path = one.eid2path(eid)\n",
        "print(f'eid: {eid}')\n",
        "print(f'session_path: {session_path}')\n",
        "\n",
        "# Given a session path find the eid\n",
        "eid = one.path2eid(session_path)\n",
        "print(f'\\nsession_path: {session_path}')\n",
        "print(f'eid: {eid}')"
      ],
      "metadata": {
        "colab": {
          "base_uri": "https://localhost:8080/"
        },
        "id": "D3LOP6rdkHRM",
        "outputId": "c804f0d1-9103-4929-b793-b28645b2fe13"
      },
      "execution_count": null,
      "outputs": [
        {
          "output_type": "stream",
          "name": "stdout",
          "text": [
            "eid: 4720c98a-a305-4fba-affb-bbfa00a724a4\n",
            "session_path: /root/Downloads/ONE/openalyx.internationalbrainlab.org/danlab/Subjects/DY_014/2020-07-14/001\n",
            "\n",
            "session_path: /root/Downloads/ONE/openalyx.internationalbrainlab.org/danlab/Subjects/DY_014/2020-07-14/001\n",
            "eid: 4720c98a-a305-4fba-affb-bbfa00a724a4\n"
          ]
        }
      ]
    },
    {
      "cell_type": "markdown",
      "source": [
        "---\n",
        "\n",
        "\n",
        "> 📘 **FURTHER READING**\n",
        "> *   [Eids and session paths](https://int-brain-lab.github.io/ONE/notebooks/experiment_ids.html)\n",
        "\n",
        "\n",
        "---"
      ],
      "metadata": {
        "id": "z0quvzSBP_kZ"
      }
    },
    {
      "cell_type": "markdown",
      "source": [
        "# Listing and loading data with ONE"
      ],
      "metadata": {
        "id": "xVo8oCDHHAQ0"
      }
    },
    {
      "cell_type": "markdown",
      "source": [
        "Once a session or insertion of interest has been found, the data belonging to that session can explored using the `one.list` methods and loaded using one of the `one.load` methods.\n",
        "\n",
        "Both the `one.list` and `one.load` methods require the eid as an argument. If, therefore, you are starting from a pid, make sure to convert using `eid, pname = one.pid2eid(pid)`."
      ],
      "metadata": {
        "id": "UMv4tb_EHKL-"
      }
    },
    {
      "cell_type": "markdown",
      "source": [
        "### `one.list_datasets`"
      ],
      "metadata": {
        "id": "HUbpdujaNEJ9"
      }
    },
    {
      "cell_type": "markdown",
      "source": [
        "All datasets associated with a given session can be listed using the `one.list_datasets` method,"
      ],
      "metadata": {
        "id": "pLcQbPPUNIF9"
      }
    },
    {
      "cell_type": "code",
      "source": [
        "eid = '4720c98a-a305-4fba-affb-bbfa00a724a4'\n",
        "datasets = one.list_datasets(eid)\n",
        "print(datasets[0:5])"
      ],
      "metadata": {
        "id": "dw-BsvyANQnL",
        "colab": {
          "base_uri": "https://localhost:8080/"
        },
        "outputId": "f7b5221d-c45b-4ee6-8315-83a46d5058ae"
      },
      "execution_count": null,
      "outputs": [
        {
          "output_type": "stream",
          "name": "stdout",
          "text": [
            "['alf/_ibl_bodyCamera.dlc.pqt', 'alf/_ibl_bodyCamera.times.npy', 'alf/_ibl_leftCamera.dlc.pqt', 'alf/_ibl_leftCamera.features.pqt', 'alf/_ibl_leftCamera.times.npy']\n"
          ]
        }
      ]
    },
    {
      "cell_type": "markdown",
      "source": [
        "The format of the returned datasets gives the path of the collection followed by the dataset. e.g in the case of `alf/trials.table.pqt`, `alf` is the collection and `trials.table.pqt` is the dataset. The collection is important as it differentiates datasets with the same name e.g `spikes.times.npy` in `alf/probe00/pykilosort` and `spikes.times.npy` in `alf/probe01/pykilosort`."
      ],
      "metadata": {
        "id": "7x2SJE_2Nvfb"
      }
    },
    {
      "cell_type": "markdown",
      "source": [
        "### `one.describe_dataset`"
      ],
      "metadata": {
        "id": "EzdYCzjxbx9C"
      }
    },
    {
      "cell_type": "markdown",
      "source": [
        "We can find out more information about a specific dataset by using the `one.describe_dataset` method. For example to find out more about the `trials.table` dataset we can do,"
      ],
      "metadata": {
        "id": "H0vFyxqHb3fK"
      }
    },
    {
      "cell_type": "code",
      "source": [
        "one.describe_dataset('trials.table');"
      ],
      "metadata": {
        "colab": {
          "base_uri": "https://localhost:8080/"
        },
        "id": "lUzQ4Qb_cD3C",
        "outputId": "518eee09-6d8c-45c7-8eed-28acbf2aa579"
      },
      "execution_count": null,
      "outputs": [
        {
          "output_type": "stream",
          "name": "stdout",
          "text": [
            "A table of trial events, one per trial. Events include: intervals, goCue_times, response_times, choice, stimOn_times, contrastLeft, contrastRight, feedback_times, feedbackType, rewardVolume, probabilityLeft, firstMovement_times\n"
          ]
        }
      ]
    },
    {
      "cell_type": "markdown",
      "source": [
        "\n",
        "\n",
        "---\n",
        "\n",
        "\n",
        "⚡ **INFORMATION:** Most datasets are also described in this [Google Document](https://docs.google.com/document/d/1OqIqqakPakHXRAwceYLwFY9gOrm8_P62XIfCTnHwstg/edit#heading=h.hnjqyfnroyya)\n",
        "\n",
        "\n",
        "---\n",
        "\n"
      ],
      "metadata": {
        "id": "RhNJG4Gn2c8u"
      }
    },
    {
      "cell_type": "markdown",
      "source": [
        "### `one.list_collections`"
      ],
      "metadata": {
        "id": "7OuCOmnrN4ad"
      }
    },
    {
      "cell_type": "markdown",
      "source": [
        "The unique group of collections that belong to a session can be listed using the `one.list_collections` method,"
      ],
      "metadata": {
        "id": "XmUukevuN8Wd"
      }
    },
    {
      "cell_type": "code",
      "source": [
        "eid = '4720c98a-a305-4fba-affb-bbfa00a724a4'\n",
        "collections = one.list_collections(eid)\n",
        "print(collections)"
      ],
      "metadata": {
        "id": "7Wr8o2SeOfvL",
        "colab": {
          "base_uri": "https://localhost:8080/"
        },
        "outputId": "2ed33912-42c5-4c6f-b229-ee4a99746a3d"
      },
      "execution_count": null,
      "outputs": [
        {
          "output_type": "stream",
          "name": "stdout",
          "text": [
            "['alf/probe00/pykilosort', 'alf', 'raw_ephys_data/probe01', 'raw_video_data', 'raw_ephys_data', 'raw_ephys_data/probe00', 'alf/probe01/pykilosort', 'alf/probe01', 'alf/probe00']\n"
          ]
        }
      ]
    },
    {
      "cell_type": "markdown",
      "source": [
        "### `one.load_dataset`"
      ],
      "metadata": {
        "id": "Rap9EEmdH0SU"
      }
    },
    {
      "cell_type": "markdown",
      "source": [
        "A single dataset can be downloaded and loaded into memory by passing in the eid and dataset as arguemnts into the `one.load_dataset` method,"
      ],
      "metadata": {
        "id": "5E7JPMUFH-gq"
      }
    },
    {
      "cell_type": "code",
      "source": [
        "eid = '4720c98a-a305-4fba-affb-bbfa00a724a4'\n",
        "\n",
        "# Download and load the left camera timestamps\n",
        "left_cam_times = one.load_dataset(eid, '_ibl_leftCamera.times.npy')\n",
        "\n",
        "# Download and load the spikes times for probe00\n",
        "spike_times = one.load_dataset(eid, 'spikes.times.npy', collection='alf/probe00/pykilosort')"
      ],
      "metadata": {
        "id": "Gcxuyt4qIbz0"
      },
      "execution_count": null,
      "outputs": []
    },
    {
      "cell_type": "markdown",
      "source": [
        "### `one.load_object`"
      ],
      "metadata": {
        "id": "WT3Wn-4TIzjs"
      }
    },
    {
      "cell_type": "markdown",
      "source": [
        "A group of attributes (e.g amps, depths, metrics) belonging to the same object (e.g clusters) can be downloaded and loaded in one command using the `one.load_object` method,\n",
        "\n"
      ],
      "metadata": {
        "id": "24_ds1gCI4xG"
      }
    },
    {
      "cell_type": "code",
      "source": [
        "pid = '695476f6-4c14-4a2f-b658-948514629079'\n",
        "eid, pname = one.pid2eid(pid)\n",
        "# Download and load in the clusters object for probe01\n",
        "clusters = one.load_object(eid, 'clusters', collection=f'alf/{pname}/pykilosort')\n",
        "print(list(clusters.keys()))\n",
        "\n",
        "# Only download the clusters object for probe01\n",
        "clusters = one.load_object(eid, 'clusters', collection=f'alf/{pname}/pykilosort', download_only=True)\n"
      ],
      "metadata": {
        "id": "9fDFfJrtJV2y",
        "colab": {
          "base_uri": "https://localhost:8080/"
        },
        "outputId": "658e05b6-5e2e-46ea-804e-12d232aea989"
      },
      "execution_count": null,
      "outputs": [
        {
          "output_type": "stream",
          "name": "stdout",
          "text": [
            "['amps', 'channels', 'depths', 'metrics', 'peakToTrough', 'uuids', 'waveforms', 'waveformsChannels']\n"
          ]
        }
      ]
    },
    {
      "cell_type": "markdown",
      "source": [
        "\n",
        "\n",
        "---\n",
        "\n",
        "\n",
        "⚡ **INFORMATION:** For some datasets we had to specify a `collection` argument in order to load in the data. The collection must be specified when more than one of the same dataset exists in the same session e.g the spikesorting data for different insertions.\n",
        "\n",
        "\n",
        "---\n",
        "\n"
      ],
      "metadata": {
        "id": "KA52znZaKl_R"
      }
    },
    {
      "cell_type": "markdown",
      "source": [
        "\n",
        "\n",
        "\n",
        "\n",
        "> 📘 **FURTHER READING**\n",
        "> *   [Listing with ONE](https://int-brain-lab.github.io/ONE/notebooks/one_list/one_list.html)\n",
        "> *   [Loading with ONE](https://int-brain-lab.github.io/ONE/notebooks/one_load/one_load.html)\n",
        "> *   [Loading different data types](https://int-brain-lab.github.io/iblenv/loading_examples.html)\n",
        "\n",
        "\n",
        "---"
      ],
      "metadata": {
        "id": "jPISl6oKW4Fo"
      }
    },
    {
      "cell_type": "markdown",
      "source": [
        "# Loading functions"
      ],
      "metadata": {
        "id": "DTXaY02vPpl6"
      }
    },
    {
      "cell_type": "markdown",
      "source": [
        "\n",
        "\n",
        "For convenience a number of loading functions exist that use the `one.load` methods under the hood to collect all relevant data for a session or a probe insertion."
      ],
      "metadata": {
        "id": "OHW1dtLTPyNP"
      }
    },
    {
      "cell_type": "markdown",
      "source": [
        "### SessionLoader"
      ],
      "metadata": {
        "id": "XGKtbzAJQICx"
      }
    },
    {
      "cell_type": "markdown",
      "source": [
        "The Session Loader can be used to load in all behavioural, wheel and video data associated to a session. It can be instantiated with an ONE instance and an eid in the following way."
      ],
      "metadata": {
        "id": "qMRXimVgQW2v"
      }
    },
    {
      "cell_type": "code",
      "source": [
        "# import session loader\n",
        "from brainbox.io.one import SessionLoader\n",
        "# import ONE and instantiate\n",
        "from one.api import ONE\n",
        "one = ONE()\n",
        "# Define eid\n",
        "eid = '4720c98a-a305-4fba-affb-bbfa00a724a4'\n",
        "\n",
        "# instantiate session loader\n",
        "sess_loader = SessionLoader(one=one, eid=eid)"
      ],
      "metadata": {
        "id": "zTz5utYvQhB7"
      },
      "execution_count": null,
      "outputs": []
    },
    {
      "cell_type": "markdown",
      "source": [
        "Different portions of the session data can then be loaded,"
      ],
      "metadata": {
        "id": "QexI_MdqbOgl"
      }
    },
    {
      "cell_type": "code",
      "source": [
        "# Load in trials data\n",
        "sess_loader.load_trials()\n",
        "\n",
        "# Load in wheel data\n",
        "sess_loader.load_wheel()\n",
        "\n",
        "# Load in pose data\n",
        "sess_loader.load_pose()\n",
        "\n",
        "# Load in motion energy\n",
        "sess_loader.load_motion_energy()\n",
        "\n",
        "# Load in pupil diameter\n",
        "sess_loader.load_pupil()"
      ],
      "metadata": {
        "id": "ju4lLi3lbUTb"
      },
      "execution_count": null,
      "outputs": []
    },
    {
      "cell_type": "markdown",
      "source": [
        "Alternatively you can load all the data in one using,"
      ],
      "metadata": {
        "id": "9QqKy_gRcEj7"
      }
    },
    {
      "cell_type": "code",
      "source": [
        "sess_loader.load_session_data()"
      ],
      "metadata": {
        "id": "GxW0u1jecIqX"
      },
      "execution_count": null,
      "outputs": []
    },
    {
      "cell_type": "markdown",
      "source": [
        "Not all sessions have all of the data available and one can see what data has been loaded using the `data_info` method"
      ],
      "metadata": {
        "id": "d0bCJu5ccMd5"
      }
    },
    {
      "cell_type": "code",
      "source": [
        "sess_loader.data_info"
      ],
      "metadata": {
        "id": "dINdga7_cXh-",
        "colab": {
          "base_uri": "https://localhost:8080/",
          "height": 206
        },
        "outputId": "025b5230-2194-4985-c368-e658b454b4a5"
      },
      "execution_count": null,
      "outputs": [
        {
          "output_type": "execute_result",
          "data": {
            "text/plain": [
              "            name  is_loaded\n",
              "0         trials       True\n",
              "1          wheel       True\n",
              "2           pose       True\n",
              "3  motion_energy       True\n",
              "4          pupil       True"
            ],
            "text/html": [
              "\n",
              "  <div id=\"df-d128dbbb-455e-45ee-aecc-df9b55c6a9dc\">\n",
              "    <div class=\"colab-df-container\">\n",
              "      <div>\n",
              "<style scoped>\n",
              "    .dataframe tbody tr th:only-of-type {\n",
              "        vertical-align: middle;\n",
              "    }\n",
              "\n",
              "    .dataframe tbody tr th {\n",
              "        vertical-align: top;\n",
              "    }\n",
              "\n",
              "    .dataframe thead th {\n",
              "        text-align: right;\n",
              "    }\n",
              "</style>\n",
              "<table border=\"1\" class=\"dataframe\">\n",
              "  <thead>\n",
              "    <tr style=\"text-align: right;\">\n",
              "      <th></th>\n",
              "      <th>name</th>\n",
              "      <th>is_loaded</th>\n",
              "    </tr>\n",
              "  </thead>\n",
              "  <tbody>\n",
              "    <tr>\n",
              "      <th>0</th>\n",
              "      <td>trials</td>\n",
              "      <td>True</td>\n",
              "    </tr>\n",
              "    <tr>\n",
              "      <th>1</th>\n",
              "      <td>wheel</td>\n",
              "      <td>True</td>\n",
              "    </tr>\n",
              "    <tr>\n",
              "      <th>2</th>\n",
              "      <td>pose</td>\n",
              "      <td>True</td>\n",
              "    </tr>\n",
              "    <tr>\n",
              "      <th>3</th>\n",
              "      <td>motion_energy</td>\n",
              "      <td>True</td>\n",
              "    </tr>\n",
              "    <tr>\n",
              "      <th>4</th>\n",
              "      <td>pupil</td>\n",
              "      <td>True</td>\n",
              "    </tr>\n",
              "  </tbody>\n",
              "</table>\n",
              "</div>\n",
              "      <button class=\"colab-df-convert\" onclick=\"convertToInteractive('df-d128dbbb-455e-45ee-aecc-df9b55c6a9dc')\"\n",
              "              title=\"Convert this dataframe to an interactive table.\"\n",
              "              style=\"display:none;\">\n",
              "        \n",
              "  <svg xmlns=\"http://www.w3.org/2000/svg\" height=\"24px\"viewBox=\"0 0 24 24\"\n",
              "       width=\"24px\">\n",
              "    <path d=\"M0 0h24v24H0V0z\" fill=\"none\"/>\n",
              "    <path d=\"M18.56 5.44l.94 2.06.94-2.06 2.06-.94-2.06-.94-.94-2.06-.94 2.06-2.06.94zm-11 1L8.5 8.5l.94-2.06 2.06-.94-2.06-.94L8.5 2.5l-.94 2.06-2.06.94zm10 10l.94 2.06.94-2.06 2.06-.94-2.06-.94-.94-2.06-.94 2.06-2.06.94z\"/><path d=\"M17.41 7.96l-1.37-1.37c-.4-.4-.92-.59-1.43-.59-.52 0-1.04.2-1.43.59L10.3 9.45l-7.72 7.72c-.78.78-.78 2.05 0 2.83L4 21.41c.39.39.9.59 1.41.59.51 0 1.02-.2 1.41-.59l7.78-7.78 2.81-2.81c.8-.78.8-2.07 0-2.86zM5.41 20L4 18.59l7.72-7.72 1.47 1.35L5.41 20z\"/>\n",
              "  </svg>\n",
              "      </button>\n",
              "      \n",
              "  <style>\n",
              "    .colab-df-container {\n",
              "      display:flex;\n",
              "      flex-wrap:wrap;\n",
              "      gap: 12px;\n",
              "    }\n",
              "\n",
              "    .colab-df-convert {\n",
              "      background-color: #E8F0FE;\n",
              "      border: none;\n",
              "      border-radius: 50%;\n",
              "      cursor: pointer;\n",
              "      display: none;\n",
              "      fill: #1967D2;\n",
              "      height: 32px;\n",
              "      padding: 0 0 0 0;\n",
              "      width: 32px;\n",
              "    }\n",
              "\n",
              "    .colab-df-convert:hover {\n",
              "      background-color: #E2EBFA;\n",
              "      box-shadow: 0px 1px 2px rgba(60, 64, 67, 0.3), 0px 1px 3px 1px rgba(60, 64, 67, 0.15);\n",
              "      fill: #174EA6;\n",
              "    }\n",
              "\n",
              "    [theme=dark] .colab-df-convert {\n",
              "      background-color: #3B4455;\n",
              "      fill: #D2E3FC;\n",
              "    }\n",
              "\n",
              "    [theme=dark] .colab-df-convert:hover {\n",
              "      background-color: #434B5C;\n",
              "      box-shadow: 0px 1px 3px 1px rgba(0, 0, 0, 0.15);\n",
              "      filter: drop-shadow(0px 1px 2px rgba(0, 0, 0, 0.3));\n",
              "      fill: #FFFFFF;\n",
              "    }\n",
              "  </style>\n",
              "\n",
              "      <script>\n",
              "        const buttonEl =\n",
              "          document.querySelector('#df-d128dbbb-455e-45ee-aecc-df9b55c6a9dc button.colab-df-convert');\n",
              "        buttonEl.style.display =\n",
              "          google.colab.kernel.accessAllowed ? 'block' : 'none';\n",
              "\n",
              "        async function convertToInteractive(key) {\n",
              "          const element = document.querySelector('#df-d128dbbb-455e-45ee-aecc-df9b55c6a9dc');\n",
              "          const dataTable =\n",
              "            await google.colab.kernel.invokeFunction('convertToInteractive',\n",
              "                                                     [key], {});\n",
              "          if (!dataTable) return;\n",
              "\n",
              "          const docLinkHtml = 'Like what you see? Visit the ' +\n",
              "            '<a target=\"_blank\" href=https://colab.research.google.com/notebooks/data_table.ipynb>data table notebook</a>'\n",
              "            + ' to learn more about interactive tables.';\n",
              "          element.innerHTML = '';\n",
              "          dataTable['output_type'] = 'display_data';\n",
              "          await google.colab.output.renderOutput(dataTable, element);\n",
              "          const docLink = document.createElement('div');\n",
              "          docLink.innerHTML = docLinkHtml;\n",
              "          element.appendChild(docLink);\n",
              "        }\n",
              "      </script>\n",
              "    </div>\n",
              "  </div>\n",
              "  "
            ]
          },
          "metadata": {},
          "execution_count": 6
        }
      ]
    },
    {
      "cell_type": "markdown",
      "source": [
        "The different types of data are loaded as pandas dataframes that you can access via the respective attributes, for example"
      ],
      "metadata": {
        "id": "mcmGNrTTciii"
      }
    },
    {
      "cell_type": "code",
      "source": [
        "# access trials data and list the keys of dataframe\n",
        "print(f'Keys in trials data: {sess_loader.trials.keys()}')\n",
        "\n",
        "# access wheel data and get the shape of dataframe\n",
        "print(f'\\nShape of wheel data: {sess_loader.wheel.shape}')"
      ],
      "metadata": {
        "id": "Lb_KvHfudFRD",
        "colab": {
          "base_uri": "https://localhost:8080/"
        },
        "outputId": "eb42e9b8-dc19-4cfa-e3ac-92f70c80438d"
      },
      "execution_count": null,
      "outputs": [
        {
          "output_type": "stream",
          "name": "stdout",
          "text": [
            "Keys in trials data: Index(['goCueTrigger_times', 'stimOff_times', 'choice', 'contrastLeft',\n",
            "       'stimOn_times', 'response_times', 'goCue_times', 'firstMovement_times',\n",
            "       'probabilityLeft', 'contrastRight', 'feedbackType', 'rewardVolume',\n",
            "       'feedback_times', 'intervals_0', 'intervals_1'],\n",
            "      dtype='object')\n",
            "\n",
            "Shape of wheel data: (4387364, 4)\n"
          ]
        }
      ]
    },
    {
      "cell_type": "markdown",
      "source": [
        "---\n",
        "\n",
        "\n",
        "> 📘 **FURTHER READING**\n",
        "> *   [SessionLoader](https://int-brain-lab.github.io/iblenv/_autosummary/brainbox.io.one.html#brainbox.io.one.SessionLoader)\n",
        "\n",
        "\n",
        "---"
      ],
      "metadata": {
        "id": "RYdy_E4bsBsB"
      }
    },
    {
      "cell_type": "markdown",
      "source": [
        "### SpikeSortingLoader"
      ],
      "metadata": {
        "id": "R0TWn8M2Q-Gz"
      }
    },
    {
      "cell_type": "markdown",
      "source": [
        "The SpikeSorting loader can be used in spike sorting data for a single insertion. It can be instantiated with an ONE instance and either a pid or and eid, pname combination"
      ],
      "metadata": {
        "id": "sl7HLcSVeUqc"
      }
    },
    {
      "cell_type": "code",
      "source": [
        "# import spikesorting loader\n",
        "from brainbox.io.one import SpikeSortingLoader\n",
        "# import ONE and instantiate\n",
        "from one.api import ONE\n",
        "one = ONE()\n",
        "# define pid\n",
        "pid = '695476f6-4c14-4a2f-b658-948514629079'\n",
        "\n",
        "# instantiate with a pid\n",
        "spike_loader = SpikeSortingLoader(pid=pid, one=one)\n",
        "\n",
        "# alternatively instantiate with an eid and probe name\n",
        "eid, pname = one.pid2eid(pid)\n",
        "spike_loader = SpikeSortingLoader(eid=eid, one=one, pname=pname)"
      ],
      "metadata": {
        "id": "uVBi3B4chlqN"
      },
      "execution_count": null,
      "outputs": []
    },
    {
      "cell_type": "markdown",
      "source": [
        "Once the spike sorting loader has been instantiated the data can be loaded in the following way"
      ],
      "metadata": {
        "id": "-De25Ui4imN6"
      }
    },
    {
      "cell_type": "code",
      "source": [
        "# Download and load data\n",
        "spikes, clusters, channels = spike_loader.load_spike_sorting()\n",
        "# Assign brain location information from channels to clusters\n",
        "clusters = spike_loader.merge_clusters(spikes, clusters, channels)"
      ],
      "metadata": {
        "id": "w37R5RosisSS"
      },
      "execution_count": null,
      "outputs": []
    },
    {
      "cell_type": "markdown",
      "source": [
        "---\n",
        "\n",
        "\n",
        "> 📘 **FURTHER READING**\n",
        "> *   [SpikeSortingLoader](https://int-brain-lab.github.io/iblenv/_autosummary/brainbox.io.one.html#brainbox.io.one.SpikeSortingLoader)\n",
        "\n",
        "\n",
        "---"
      ],
      "metadata": {
        "id": "r58EPNbDjblU"
      }
    },
    {
      "cell_type": "markdown",
      "source": [
        "### 🏠 EphysSessionLoader"
      ],
      "metadata": {
        "id": "wqK8h-iORJbC"
      }
    },
    {
      "cell_type": "markdown",
      "source": [
        "The EphysSessionLoader is combination of both the session loader and spikesorting loader and allows you to load in all data, for multiple insertions, for a session\n"
      ],
      "metadata": {
        "id": "93AyVj20jiF5"
      }
    },
    {
      "cell_type": "code",
      "source": [
        "# import ephyssessionloader\n",
        "from brainbox.io.one import EphysSessionLoader\n",
        "# import ONE and instantiate\n",
        "from one.api import ONE\n",
        "one = ONE()\n",
        "# Define eid\n",
        "eid = '4720c98a-a305-4fba-affb-bbfa00a724a4'\n",
        "\n",
        "# instantiate with an eid\n",
        "ephys_sess_loader = EphysSessionLoader(eid=eid, one=one)\n",
        "\n",
        "# load in session data\n",
        "ephys_sess_loader.load_session_data()\n",
        "\n",
        "ephys_sess_loader.load_spike_sorting()"
      ],
      "metadata": {
        "id": "CXQiG4_gkD9u"
      },
      "execution_count": null,
      "outputs": []
    },
    {
      "cell_type": "markdown",
      "source": [
        "The session data can be accessed in the same way as the session loader,"
      ],
      "metadata": {
        "id": "CeLNQxXtlnRa"
      }
    },
    {
      "cell_type": "code",
      "source": [
        "# access the pose data and see which cameras are present\n",
        "print(f'Cameras in pose data: {ephys_sess_loader.pose.keys()}')"
      ],
      "metadata": {
        "colab": {
          "base_uri": "https://localhost:8080/"
        },
        "id": "_MYZ4noPRYdj",
        "outputId": "7bcac9d5-8a51-4d6b-e4b5-9da171cfeef4"
      },
      "execution_count": null,
      "outputs": [
        {
          "output_type": "stream",
          "name": "stdout",
          "text": [
            "Cameras in pose data: dict_keys(['leftCamera', 'rightCamera', 'bodyCamera'])\n"
          ]
        }
      ]
    },
    {
      "cell_type": "markdown",
      "source": [
        "The spikesorting data for each insertion is stored as a dict in the `ephys` attribute,"
      ],
      "metadata": {
        "id": "pWzzPufsSf7O"
      }
    },
    {
      "cell_type": "code",
      "source": [
        "# Access the insertion names that we have data for\n",
        "probes = list(ephys_sess_loader.ephys.keys())\n",
        "print(f'Name of probes loaded: {probes}')\n",
        "\n",
        "# Acess the spikesorting data for the first probe\n",
        "spikes = ephys_sess_loader.ephys[probes[0]]['spikes']\n",
        "print(f'Keys of spikes data: {spikes.keys()}')"
      ],
      "metadata": {
        "colab": {
          "base_uri": "https://localhost:8080/"
        },
        "id": "bS6pJ31zSkz8",
        "outputId": "3f72c59d-3533-4cc7-edff-ee51881176c1"
      },
      "execution_count": null,
      "outputs": [
        {
          "output_type": "stream",
          "name": "stdout",
          "text": [
            "Name of probes loaded: ['probe01', 'probe00']\n",
            "Keys of spikes data: dict_keys(['amps', 'clusters', 'depths', 'times'])\n"
          ]
        }
      ]
    },
    {
      "cell_type": "markdown",
      "source": [
        "---\n",
        "\n",
        "\n",
        "> 📘 **FURTHER READING**\n",
        "> *   [EphysSessionLoader](https://int-brain-lab.github.io/iblenv/_autosummary/brainbox.io.one.html#brainbox.io.one.EphysSessionLoader)\n",
        "\n",
        "\n",
        "---"
      ],
      "metadata": {
        "id": "GnrFWLSNjvqg"
      }
    },
    {
      "cell_type": "markdown",
      "source": [
        "### 🏠 Raw video streamer"
      ],
      "metadata": {
        "id": "6hGukIYhRQb7"
      }
    },
    {
      "cell_type": "markdown",
      "source": [
        "It is possible to download the full video file for a session using the `one.load` methods, however the video filea are large and it is sometimes preferable to only stream a portion of the video. This can be done using the `video` module in `ibllib`\n"
      ],
      "metadata": {
        "id": "E8AUUh_tIOXe"
      }
    },
    {
      "cell_type": "code",
      "source": [
        "import numpy as np\n",
        "import matplotlib.pyplot as plt\n",
        "# import video\n",
        "from ibllib.io import video\n",
        "# import ONE and instantiate\n",
        "from one.api import ONE\n",
        "one = ONE()\n",
        "# Define eid\n",
        "eid = '4720c98a-a305-4fba-affb-bbfa00a724a4'\n",
        "label = 'left' # 'left', 'right' or 'body'\n",
        "\n",
        "# Find url of video data to stream\n",
        "url = video.url_from_eid(eid, one=one)[label]\n",
        "\n",
        "# Load video timestamps\n",
        "ts = one.load_dataset(eid, f'*{label}Camera.times*', collection='alf')\n",
        "\n",
        "# Find the frame closest to 1000s into data\n",
        "frame_n = np.searchsorted(ts, 1000)\n",
        "\n",
        "# Take the 0-1-2nd frame after this frame_n\n",
        "frames_id = range(frame_n, frame_n+3)\n",
        "\n",
        "# Stream the data\n",
        "frame = video.get_video_frames_preload(url, frames_id)\n",
        "\n",
        "# Plot the first frame\n",
        "plt.imshow(frame[0], cmap='gray')"
      ],
      "metadata": {
        "id": "VZZ8aM7jIN4H",
        "colab": {
          "base_uri": "https://localhost:8080/",
          "height": 286
        },
        "outputId": "e130417f-41a7-4883-80a4-6988931c0674"
      },
      "execution_count": null,
      "outputs": [
        {
          "output_type": "stream",
          "name": "stdout",
          "text": []
        },
        {
          "output_type": "execute_result",
          "data": {
            "text/plain": [
              "<matplotlib.image.AxesImage at 0x7f261c7bda30>"
            ]
          },
          "metadata": {},
          "execution_count": 14
        },
        {
          "output_type": "display_data",
          "data": {
            "text/plain": [
              "<Figure size 432x288 with 1 Axes>"
            ],
            "image/png": "[encoded data removed]"
          },
          "metadata": {
            "needs_background": "light"
          }
        }
      ]
    },
    {
      "cell_type": "markdown",
      "source": [
        "---\n",
        "\n",
        "\n",
        "> 📘 **FURTHER READING**\n",
        "> *   [Loading raw video data](https://int-brain-lab.github.io/iblenv/notebooks_external/loading_raw_video_data.html)\n",
        "\n",
        "\n",
        "---"
      ],
      "metadata": {
        "id": "0GB7kRM7kNlj"
      }
    },
    {
      "cell_type": "markdown",
      "source": [
        "### 🏠 Raw Ephys streamer"
      ],
      "metadata": {
        "id": "Ffd9EYxERTzH"
      }
    },
    {
      "cell_type": "markdown",
      "source": [
        "Similarly, the raw ephys data is large, and whilst you can download the whole file via `one.load` you might prefer to stream the data file and load only a small snippet of it. This can be done using the `Streamer` class.\n"
      ],
      "metadata": {
        "id": "Fqe6rJk8KZ8o"
      }
    },
    {
      "cell_type": "code",
      "source": [
        "# import Streamer\n",
        "from brainbox.io.spikeglx import Streamer\n",
        "# import ONE and instantiate\n",
        "from one.api import ONE\n",
        "one = ONE()\n",
        "# define pid\n",
        "pid = '695476f6-4c14-4a2f-b658-948514629079'\n",
        "\n",
        "\n",
        "time0 = 100 # timepoint in recording to stream\n",
        "time_win = 1 # number of seconds to stream\n",
        "\n",
        "# Stream data from ap band\n",
        "sr_ap = Streamer(pid=pid, one=one, remove_cached=False, typ='ap')\n",
        "s0 = time0 * sr_ap.fs\n",
        "tsel = slice(int(s0), int(s0) + int(time_win * sr_ap.fs))\n",
        "\n",
        "# Important: remove sync channel from raw data, and transpose\n",
        "raw_ap = sr_ap[tsel, :-sr_ap.nsync].T\n",
        "\n",
        "# Stream data from lf band\n",
        "sr_lf = Streamer(pid=pid, one=one, remove_cached=False, typ='lf')\n",
        "s0 = time0 * sr_lf.fs\n",
        "tsel = slice(int(s0), int(s0) + int(time_win * sr_lf.fs))\n",
        "\n",
        "# Important: remove sync channel from raw data, and transpose\n",
        "raw_lf = sr_lf[tsel, :-sr_lf.nsync].T"
      ],
      "metadata": {
        "id": "dmd_GJKlKX7N"
      },
      "execution_count": null,
      "outputs": []
    },
    {
      "cell_type": "markdown",
      "source": [
        "The raw ephys data can be de-noised using following destripe methods (these differ for the `ap` and `lf` bands)."
      ],
      "metadata": {
        "id": "rO_MAZGzLAVA"
      }
    },
    {
      "cell_type": "code",
      "source": [
        "# Destripe the ap signal\n",
        "from neurodsp.voltage import destripe, destripe_lfp\n",
        "destriped_ap = destripe(raw_ap, fs=sr_ap.fs)\n",
        "\n",
        "# Destripe the lf signal\n",
        "from neurodsp.voltage import destripe_lfp\n",
        "destriped_lf = destripe_lfp(raw_lf, fs=sr_lf.fs)"
      ],
      "metadata": {
        "id": "GwhfjE08PA1Y"
      },
      "execution_count": null,
      "outputs": []
    },
    {
      "cell_type": "markdown",
      "source": [
        "---\n",
        "\n",
        "\n",
        "> 📘 **FURTHER READING**\n",
        "> *   [Loading raw ephys data](https://int-brain-lab.github.io/iblenv/notebooks_external/loading_raw_ephys_data.html)\n",
        "\n",
        "\n",
        "---"
      ],
      "metadata": {
        "id": "f7KuXrQ_kerq"
      }
    },
    {
      "cell_type": "markdown",
      "source": [
        "# Exploring the data"
      ],
      "metadata": {
        "id": "6DsyFUaKl698"
      }
    },
    {
      "cell_type": "markdown",
      "source": [
        "### Example 1: Characterising the reaction time of the subject in a session"
      ],
      "metadata": {
        "id": "b2wniAVvUq9E"
      }
    },
    {
      "cell_type": "markdown",
      "source": [
        "In this example we show how to\n",
        "\n",
        "1.   Load in trials data for a particular session using `one.load_object`\n",
        "2.   Explore the trials object\n",
        "3.   Compute the reaction time for each trial in the session\n",
        "4.   Compute whether there are differences in reaction time depending on trial type (left vs right stimulus, correct vs incorrect trial)\n",
        "5.   Plot the reaction time across the duration of the session\n",
        "\n"
      ],
      "metadata": {
        "id": "5cFUjJOaU0XG"
      }
    },
    {
      "cell_type": "code",
      "source": [
        "# 1. Load in trials data\n",
        "from one.api import ONE\n",
        "import numpy as np\n",
        "\n",
        "one = ONE()\n",
        "eid = '4720c98a-a305-4fba-affb-bbfa00a724a4'\n",
        "trials = one.load_object(eid, 'trials')"
      ],
      "metadata": {
        "id": "UL6KjINxVRpk"
      },
      "execution_count": null,
      "outputs": []
    },
    {
      "cell_type": "code",
      "source": [
        "# 2. Explore the trials object\n",
        "\n",
        "# Find the keys in our object\n",
        "keys = trials.keys()\n",
        "\n",
        "# Convert the trials dict to a pandas dataframe\n",
        "trials_df = trials.to_df()\n",
        "\n",
        "# Display the trials table\n",
        "from IPython.display import display # import module to display dataframe nicely\n",
        "display(trials_df)\n"
      ],
      "metadata": {
        "colab": {
          "base_uri": "https://localhost:8080/",
          "height": 488
        },
        "id": "bG1RA1ArbFrP",
        "outputId": "4e9342b1-67d7-4b04-de85-f90ee053dc7e"
      },
      "execution_count": null,
      "outputs": [
        {
          "output_type": "display_data",
          "data": {
            "text/plain": [
              "     goCueTrigger_times  stimOff_times  choice  contrastLeft  stimOn_times  \\\n",
              "0             14.145882      15.867546    -1.0           NaN     14.145685   \n",
              "1             18.296189      19.617038     1.0        0.2500     18.296037   \n",
              "2             20.979787      22.462120    -1.0           NaN     20.979602   \n",
              "3             23.834504      25.212778    -1.0           NaN     23.834316   \n",
              "4             26.650927      28.034496    -1.0           NaN     26.650735   \n",
              "..                  ...            ...     ...           ...           ...   \n",
              "603         2881.596802    2883.413596    -1.0           NaN   2881.596645   \n",
              "604         2885.685226    2888.246880    -1.0        0.0625   2885.685069   \n",
              "605         2890.201343    2891.918113    -1.0           NaN   2890.201184   \n",
              "606         2894.046465    2950.578646     1.0        0.1250   2894.046333   \n",
              "607         2952.767089    3038.844185     1.0           NaN   2952.766894   \n",
              "\n",
              "     response_times  goCue_times  firstMovement_times  probabilityLeft  \\\n",
              "0         14.800484    14.146585            14.479997              0.5   \n",
              "1         18.552188    18.296837            18.437997              0.5   \n",
              "2         21.396189    20.980468            21.110997              0.5   \n",
              "3         24.152707    23.835416            24.047997              0.5   \n",
              "4         26.963229    26.651735            26.735997              0.5   \n",
              "..              ...          ...                  ...              ...   \n",
              "603     2882.352307  2881.597778          2882.013997              0.2   \n",
              "604     2886.185928  2885.686069          2885.973997              0.2   \n",
              "605     2890.846547  2890.201984          2890.420997              0.2   \n",
              "606     2949.519476  2894.047266          2894.367997              0.2   \n",
              "607     2987.371420  2952.768060          2978.021997              0.2   \n",
              "\n",
              "     contrastRight  feedbackType  rewardVolume  feedback_times  intervals_0  \\\n",
              "0            1.000           1.0           1.5       14.800586    10.969770   \n",
              "1              NaN           1.0           1.5       18.552278    16.748692   \n",
              "2            0.250           1.0           1.5       21.396293    20.487884   \n",
              "3            0.125           1.0           1.5       24.152818    23.336199   \n",
              "4            0.250           1.0           1.5       26.963303    26.085824   \n",
              "..             ...           ...           ...             ...          ...   \n",
              "603          0.000           1.0           1.5     2882.352403  2881.060798   \n",
              "604            NaN          -1.0           0.0     2886.186719  2884.817523   \n",
              "605          0.250           1.0           1.5     2890.846653  2889.643640   \n",
              "606            NaN           1.0           1.5     2949.519585  2893.415063   \n",
              "607          0.000          -1.0           0.0     2987.372200  2952.173486   \n",
              "\n",
              "     intervals_1  \n",
              "0      16.367592  \n",
              "1      20.117087  \n",
              "2      22.962199  \n",
              "3      25.712823  \n",
              "4      28.534539  \n",
              "..           ...  \n",
              "603  2883.913720  \n",
              "604  2888.746939  \n",
              "605  2892.418160  \n",
              "606  2951.078685  \n",
              "607  2989.928633  \n",
              "\n",
              "[608 rows x 15 columns]"
            ],
            "text/html": [
              "\n",
              "  <div id=\"df-8589a3f9-4ed6-491c-ac56-996bbb6e918a\">\n",
              "    <div class=\"colab-df-container\">\n",
              "      <div>\n",
              "<style scoped>\n",
              "    .dataframe tbody tr th:only-of-type {\n",
              "        vertical-align: middle;\n",
              "    }\n",
              "\n",
              "    .dataframe tbody tr th {\n",
              "        vertical-align: top;\n",
              "    }\n",
              "\n",
              "    .dataframe thead th {\n",
              "        text-align: right;\n",
              "    }\n",
              "</style>\n",
              "<table border=\"1\" class=\"dataframe\">\n",
              "  <thead>\n",
              "    <tr style=\"text-align: right;\">\n",
              "      <th></th>\n",
              "      <th>goCueTrigger_times</th>\n",
              "      <th>stimOff_times</th>\n",
              "      <th>choice</th>\n",
              "      <th>contrastLeft</th>\n",
              "      <th>stimOn_times</th>\n",
              "      <th>response_times</th>\n",
              "      <th>goCue_times</th>\n",
              "      <th>firstMovement_times</th>\n",
              "      <th>probabilityLeft</th>\n",
              "      <th>contrastRight</th>\n",
              "      <th>feedbackType</th>\n",
              "      <th>rewardVolume</th>\n",
              "      <th>feedback_times</th>\n",
              "      <th>intervals_0</th>\n",
              "      <th>intervals_1</th>\n",
              "    </tr>\n",
              "  </thead>\n",
              "  <tbody>\n",
              "    <tr>\n",
              "      <th>0</th>\n",
              "      <td>14.145882</td>\n",
              "      <td>15.867546</td>\n",
              "      <td>-1.0</td>\n",
              "      <td>NaN</td>\n",
              "      <td>14.145685</td>\n",
              "      <td>14.800484</td>\n",
              "      <td>14.146585</td>\n",
              "      <td>14.479997</td>\n",
              "      <td>0.5</td>\n",
              "      <td>1.000</td>\n",
              "      <td>1.0</td>\n",
              "      <td>1.5</td>\n",
              "      <td>14.800586</td>\n",
              "      <td>10.969770</td>\n",
              "      <td>16.367592</td>\n",
              "    </tr>\n",
              "    <tr>\n",
              "      <th>1</th>\n",
              "      <td>18.296189</td>\n",
              "      <td>19.617038</td>\n",
              "      <td>1.0</td>\n",
              "      <td>0.2500</td>\n",
              "      <td>18.296037</td>\n",
              "      <td>18.552188</td>\n",
              "      <td>18.296837</td>\n",
              "      <td>18.437997</td>\n",
              "      <td>0.5</td>\n",
              "      <td>NaN</td>\n",
              "      <td>1.0</td>\n",
              "      <td>1.5</td>\n",
              "      <td>18.552278</td>\n",
              "      <td>16.748692</td>\n",
              "      <td>20.117087</td>\n",
              "    </tr>\n",
              "    <tr>\n",
              "      <th>2</th>\n",
              "      <td>20.979787</td>\n",
              "      <td>22.462120</td>\n",
              "      <td>-1.0</td>\n",
              "      <td>NaN</td>\n",
              "      <td>20.979602</td>\n",
              "      <td>21.396189</td>\n",
              "      <td>20.980468</td>\n",
              "      <td>21.110997</td>\n",
              "      <td>0.5</td>\n",
              "      <td>0.250</td>\n",
              "      <td>1.0</td>\n",
              "      <td>1.5</td>\n",
              "      <td>21.396293</td>\n",
              "      <td>20.487884</td>\n",
              "      <td>22.962199</td>\n",
              "    </tr>\n",
              "    <tr>\n",
              "      <th>3</th>\n",
              "      <td>23.834504</td>\n",
              "      <td>25.212778</td>\n",
              "      <td>-1.0</td>\n",
              "      <td>NaN</td>\n",
              "      <td>23.834316</td>\n",
              "      <td>24.152707</td>\n",
              "      <td>23.835416</td>\n",
              "      <td>24.047997</td>\n",
              "      <td>0.5</td>\n",
              "      <td>0.125</td>\n",
              "      <td>1.0</td>\n",
              "      <td>1.5</td>\n",
              "      <td>24.152818</td>\n",
              "      <td>23.336199</td>\n",
              "      <td>25.712823</td>\n",
              "    </tr>\n",
              "    <tr>\n",
              "      <th>4</th>\n",
              "      <td>26.650927</td>\n",
              "      <td>28.034496</td>\n",
              "      <td>-1.0</td>\n",
              "      <td>NaN</td>\n",
              "      <td>26.650735</td>\n",
              "      <td>26.963229</td>\n",
              "      <td>26.651735</td>\n",
              "      <td>26.735997</td>\n",
              "      <td>0.5</td>\n",
              "      <td>0.250</td>\n",
              "      <td>1.0</td>\n",
              "      <td>1.5</td>\n",
              "      <td>26.963303</td>\n",
              "      <td>26.085824</td>\n",
              "      <td>28.534539</td>\n",
              "    </tr>\n",
              "    <tr>\n",
              "      <th>...</th>\n",
              "      <td>...</td>\n",
              "      <td>...</td>\n",
              "      <td>...</td>\n",
              "      <td>...</td>\n",
              "      <td>...</td>\n",
              "      <td>...</td>\n",
              "      <td>...</td>\n",
              "      <td>...</td>\n",
              "      <td>...</td>\n",
              "      <td>...</td>\n",
              "      <td>...</td>\n",
              "      <td>...</td>\n",
              "      <td>...</td>\n",
              "      <td>...</td>\n",
              "      <td>...</td>\n",
              "    </tr>\n",
              "    <tr>\n",
              "      <th>603</th>\n",
              "      <td>2881.596802</td>\n",
              "      <td>2883.413596</td>\n",
              "      <td>-1.0</td>\n",
              "      <td>NaN</td>\n",
              "      <td>2881.596645</td>\n",
              "      <td>2882.352307</td>\n",
              "      <td>2881.597778</td>\n",
              "      <td>2882.013997</td>\n",
              "      <td>0.2</td>\n",
              "      <td>0.000</td>\n",
              "      <td>1.0</td>\n",
              "      <td>1.5</td>\n",
              "      <td>2882.352403</td>\n",
              "      <td>2881.060798</td>\n",
              "      <td>2883.913720</td>\n",
              "    </tr>\n",
              "    <tr>\n",
              "      <th>604</th>\n",
              "      <td>2885.685226</td>\n",
              "      <td>2888.246880</td>\n",
              "      <td>-1.0</td>\n",
              "      <td>0.0625</td>\n",
              "      <td>2885.685069</td>\n",
              "      <td>2886.185928</td>\n",
              "      <td>2885.686069</td>\n",
              "      <td>2885.973997</td>\n",
              "      <td>0.2</td>\n",
              "      <td>NaN</td>\n",
              "      <td>-1.0</td>\n",
              "      <td>0.0</td>\n",
              "      <td>2886.186719</td>\n",
              "      <td>2884.817523</td>\n",
              "      <td>2888.746939</td>\n",
              "    </tr>\n",
              "    <tr>\n",
              "      <th>605</th>\n",
              "      <td>2890.201343</td>\n",
              "      <td>2891.918113</td>\n",
              "      <td>-1.0</td>\n",
              "      <td>NaN</td>\n",
              "      <td>2890.201184</td>\n",
              "      <td>2890.846547</td>\n",
              "      <td>2890.201984</td>\n",
              "      <td>2890.420997</td>\n",
              "      <td>0.2</td>\n",
              "      <td>0.250</td>\n",
              "      <td>1.0</td>\n",
              "      <td>1.5</td>\n",
              "      <td>2890.846653</td>\n",
              "      <td>2889.643640</td>\n",
              "      <td>2892.418160</td>\n",
              "    </tr>\n",
              "    <tr>\n",
              "      <th>606</th>\n",
              "      <td>2894.046465</td>\n",
              "      <td>2950.578646</td>\n",
              "      <td>1.0</td>\n",
              "      <td>0.1250</td>\n",
              "      <td>2894.046333</td>\n",
              "      <td>2949.519476</td>\n",
              "      <td>2894.047266</td>\n",
              "      <td>2894.367997</td>\n",
              "      <td>0.2</td>\n",
              "      <td>NaN</td>\n",
              "      <td>1.0</td>\n",
              "      <td>1.5</td>\n",
              "      <td>2949.519585</td>\n",
              "      <td>2893.415063</td>\n",
              "      <td>2951.078685</td>\n",
              "    </tr>\n",
              "    <tr>\n",
              "      <th>607</th>\n",
              "      <td>2952.767089</td>\n",
              "      <td>3038.844185</td>\n",
              "      <td>1.0</td>\n",
              "      <td>NaN</td>\n",
              "      <td>2952.766894</td>\n",
              "      <td>2987.371420</td>\n",
              "      <td>2952.768060</td>\n",
              "      <td>2978.021997</td>\n",
              "      <td>0.2</td>\n",
              "      <td>0.000</td>\n",
              "      <td>-1.0</td>\n",
              "      <td>0.0</td>\n",
              "      <td>2987.372200</td>\n",
              "      <td>2952.173486</td>\n",
              "      <td>2989.928633</td>\n",
              "    </tr>\n",
              "  </tbody>\n",
              "</table>\n",
              "<p>608 rows × 15 columns</p>\n",
              "</div>\n",
              "      <button class=\"colab-df-convert\" onclick=\"convertToInteractive('df-8589a3f9-4ed6-491c-ac56-996bbb6e918a')\"\n",
              "              title=\"Convert this dataframe to an interactive table.\"\n",
              "              style=\"display:none;\">\n",
              "        \n",
              "  <svg xmlns=\"http://www.w3.org/2000/svg\" height=\"24px\"viewBox=\"0 0 24 24\"\n",
              "       width=\"24px\">\n",
              "    <path d=\"M0 0h24v24H0V0z\" fill=\"none\"/>\n",
              "    <path d=\"M18.56 5.44l.94 2.06.94-2.06 2.06-.94-2.06-.94-.94-2.06-.94 2.06-2.06.94zm-11 1L8.5 8.5l.94-2.06 2.06-.94-2.06-.94L8.5 2.5l-.94 2.06-2.06.94zm10 10l.94 2.06.94-2.06 2.06-.94-2.06-.94-.94-2.06-.94 2.06-2.06.94z\"/><path d=\"M17.41 7.96l-1.37-1.37c-.4-.4-.92-.59-1.43-.59-.52 0-1.04.2-1.43.59L10.3 9.45l-7.72 7.72c-.78.78-.78 2.05 0 2.83L4 21.41c.39.39.9.59 1.41.59.51 0 1.02-.2 1.41-.59l7.78-7.78 2.81-2.81c.8-.78.8-2.07 0-2.86zM5.41 20L4 18.59l7.72-7.72 1.47 1.35L5.41 20z\"/>\n",
              "  </svg>\n",
              "      </button>\n",
              "      \n",
              "  <style>\n",
              "    .colab-df-container {\n",
              "      display:flex;\n",
              "      flex-wrap:wrap;\n",
              "      gap: 12px;\n",
              "    }\n",
              "\n",
              "    .colab-df-convert {\n",
              "      background-color: #E8F0FE;\n",
              "      border: none;\n",
              "      border-radius: 50%;\n",
              "      cursor: pointer;\n",
              "      display: none;\n",
              "      fill: #1967D2;\n",
              "      height: 32px;\n",
              "      padding: 0 0 0 0;\n",
              "      width: 32px;\n",
              "    }\n",
              "\n",
              "    .colab-df-convert:hover {\n",
              "      background-color: #E2EBFA;\n",
              "      box-shadow: 0px 1px 2px rgba(60, 64, 67, 0.3), 0px 1px 3px 1px rgba(60, 64, 67, 0.15);\n",
              "      fill: #174EA6;\n",
              "    }\n",
              "\n",
              "    [theme=dark] .colab-df-convert {\n",
              "      background-color: #3B4455;\n",
              "      fill: #D2E3FC;\n",
              "    }\n",
              "\n",
              "    [theme=dark] .colab-df-convert:hover {\n",
              "      background-color: #434B5C;\n",
              "      box-shadow: 0px 1px 3px 1px rgba(0, 0, 0, 0.15);\n",
              "      filter: drop-shadow(0px 1px 2px rgba(0, 0, 0, 0.3));\n",
              "      fill: #FFFFFF;\n",
              "    }\n",
              "  </style>\n",
              "\n",
              "      <script>\n",
              "        const buttonEl =\n",
              "          document.querySelector('#df-8589a3f9-4ed6-491c-ac56-996bbb6e918a button.colab-df-convert');\n",
              "        buttonEl.style.display =\n",
              "          google.colab.kernel.accessAllowed ? 'block' : 'none';\n",
              "\n",
              "        async function convertToInteractive(key) {\n",
              "          const element = document.querySelector('#df-8589a3f9-4ed6-491c-ac56-996bbb6e918a');\n",
              "          const dataTable =\n",
              "            await google.colab.kernel.invokeFunction('convertToInteractive',\n",
              "                                                     [key], {});\n",
              "          if (!dataTable) return;\n",
              "\n",
              "          const docLinkHtml = 'Like what you see? Visit the ' +\n",
              "            '<a target=\"_blank\" href=https://colab.research.google.com/notebooks/data_table.ipynb>data table notebook</a>'\n",
              "            + ' to learn more about interactive tables.';\n",
              "          element.innerHTML = '';\n",
              "          dataTable['output_type'] = 'display_data';\n",
              "          await google.colab.output.renderOutput(dataTable, element);\n",
              "          const docLink = document.createElement('div');\n",
              "          docLink.innerHTML = docLinkHtml;\n",
              "          element.appendChild(docLink);\n",
              "        }\n",
              "      </script>\n",
              "    </div>\n",
              "  </div>\n",
              "  "
            ]
          },
          "metadata": {}
        }
      ]
    },
    {
      "cell_type": "code",
      "source": [
        "# 3. Compute reaction time\n",
        "# Define reaction time as the time when the visual stimulus first appears and detected response time\n",
        "reaction_time = trials['response_times'] - trials['stimOn_times']"
      ],
      "metadata": {
        "id": "ceDP78hQWqoX"
      },
      "execution_count": null,
      "outputs": []
    },
    {
      "cell_type": "code",
      "source": [
        "# 4. Evaluate reaction time across different trial types\n",
        "# Compare reaction time for left vs right trials\n",
        "left_trial_idx = ~np.isnan(trials['contrastLeft'])\n",
        "right_trial_idx = ~np.isnan(trials['contrastRight'])\n",
        "left_reaction_time = np.mean(reaction_time[left_trial_idx])\n",
        "right_reaction_time = np.mean(reaction_time[right_trial_idx])\n",
        "print(f'Average reaction time for stimulus on')\n",
        "print(f'Left: {left_reaction_time}')\n",
        "print(f'Right: {right_reaction_time}')\n",
        "\n",
        "# Compare reaction time for correct vs incorrect trials\n",
        "correct_trial_idx = trials['feedbackType'] == 1\n",
        "incorrect_trial_idx = trials['feedbackType'] == -1\n",
        "correct_reaction_time = np.mean(reaction_time[correct_trial_idx])\n",
        "incorrect_reaction_time = np.mean(reaction_time[incorrect_trial_idx])\n",
        "print(f'\\nAverage reaction time for trials that were')\n",
        "print(f'Correct: {correct_reaction_time}')\n",
        "print(f'Incorrect: {incorrect_reaction_time}')"
      ],
      "metadata": {
        "colab": {
          "base_uri": "https://localhost:8080/"
        },
        "id": "z5h5NURZWw8O",
        "outputId": "cfabd47b-715a-4905-cff5-c2c473d055dd"
      },
      "execution_count": null,
      "outputs": [
        {
          "output_type": "stream",
          "name": "stdout",
          "text": [
            "Average reaction time for stimulus on\n",
            "Left: 2.6305362305886573\n",
            "Right: 1.0581783527741766\n",
            "\n",
            "Average reaction time for trials that were\n",
            "Correct: 0.9801639861488436\n",
            "Incorrect: 5.3063314715867325\n"
          ]
        }
      ]
    },
    {
      "cell_type": "code",
      "source": [
        "# 5. Make plot of reaction time across session\n",
        "import matplotlib.pyplot as plt\n",
        "fig, ax = plt.subplots()\n",
        "ax.scatter(trials['stimOn_times'], reaction_time, c='k', s=5)\n",
        "ax.set_yscale(\"log\")  # set y axis to log scale\n",
        "ax.set_xlabel('Time in session (s)')\n",
        "ax.set_ylabel('Reaction time (s)')"
      ],
      "metadata": {
        "colab": {
          "base_uri": "https://localhost:8080/",
          "height": 297
        },
        "id": "zoowFyvmYFjx",
        "outputId": "3c364fa6-888a-44d3-bc24-2b57a41e5901"
      },
      "execution_count": null,
      "outputs": [
        {
          "output_type": "execute_result",
          "data": {
            "text/plain": [
              "Text(0, 0.5, 'Reaction time (s)')"
            ]
          },
          "metadata": {},
          "execution_count": 7
        },
        {
          "output_type": "display_data",
          "data": {
            "text/plain": [
              "<Figure size 432x288 with 1 Axes>"
            ],
            "image/png": "[encoded data removed]"
          },
          "metadata": {
            "needs_background": "light"
          }
        }
      ]
    },
    {
      "cell_type": "markdown",
      "source": [
        "### 🏠 Example 2: Characterising the electrophysiology data of a single insertion"
      ],
      "metadata": {
        "id": "TjdF40UWaJ7o"
      }
    },
    {
      "cell_type": "markdown",
      "source": [
        "In this example we show how to\n",
        "\n",
        "1.   Load in spikesorting data for a single insertion data\n",
        "2.   Evaluate the number of good clusters\n",
        "3.   Find the location of good clusters in the brain\n",
        "4.   Compute the firing rate of each cluster\n",
        "5.   Plot the firing rate of good clusters alongside their brain location\n",
        "\n"
      ],
      "metadata": {
        "id": "lJbOmO1Ma6ro"
      }
    },
    {
      "cell_type": "code",
      "source": [
        "# 1. Load in spikesorting data for pid\n",
        "from brainbox.io.one import SpikeSortingLoader\n",
        "from one.api import ONE\n",
        "from ibllib.atlas import AllenAtlas\n",
        "import numpy as np\n",
        "\n",
        "ba = AllenAtlas()\n",
        "one = ONE()\n",
        "pid = '695476f6-4c14-4a2f-b658-948514629079'\n",
        "\n",
        "ssl = SpikeSortingLoader(one=one, pid=pid, atlas=ba)\n",
        "spikes, clusters, channels = ssl.load_spike_sorting()\n",
        "clusters = ssl.merge_clusters(spikes, clusters, channels)"
      ],
      "metadata": {
        "id": "jPLjz4uscM4S"
      },
      "execution_count": null,
      "outputs": []
    },
    {
      "cell_type": "code",
      "source": [
        "# 2. Evaluate the number of good clusters\n",
        "# The spikesortingloader loads data for all clusters (both mua and good) detected by the spikesorter.\n",
        "# We can restrict to only the good clusters by finding the clusters with a label of 1\n",
        "good_cluster_idx = clusters['label'] == 1\n",
        "clusters_good = {key:val[good_cluster_idx] for key, val in clusters.items()}\n",
        "\n",
        "all_clusters = clusters['label'].shape\n",
        "good_clusters = clusters_good['label'].shape\n",
        "print(f'Total no. of clusters: {all_clusters}')\n",
        "print(f'Number of good clusters: {good_clusters}')"
      ],
      "metadata": {
        "colab": {
          "base_uri": "https://localhost:8080/"
        },
        "id": "t7ysUpbqdKay",
        "outputId": "359e1f0d-1013-4118-c14e-13461381ab25"
      },
      "execution_count": null,
      "outputs": [
        {
          "output_type": "stream",
          "name": "stdout",
          "text": [
            "Total no. of clusters: (383,)\n",
            "Number of good clusters: (55,)\n"
          ]
        }
      ]
    },
    {
      "cell_type": "code",
      "source": [
        "# 3. Find the location of clusters in brain\n",
        "# The location of the clusters can be found in the atlas_id (Allen CCF ids) or acronym attributes of the clusters object\n",
        "acronyms = clusters_good['acronym']\n",
        "unique_acronyms, count = np.unique(acronyms, return_counts=True)\n",
        "for a, c in zip(unique_acronyms, count):\n",
        "  print(f'{a}: {c}')"
      ],
      "metadata": {
        "colab": {
          "base_uri": "https://localhost:8080/"
        },
        "id": "ladKFRMof-au",
        "outputId": "ccf15088-0c11-4397-9b82-bb72b987e259"
      },
      "execution_count": null,
      "outputs": [
        {
          "output_type": "stream",
          "name": "stdout",
          "text": [
            "RT: 1\n",
            "SSp-bfd2/3: 4\n",
            "SSp-bfd4: 14\n",
            "SSp-bfd5: 1\n",
            "SSp-bfd6a: 7\n",
            "VPL: 28\n"
          ]
        }
      ]
    },
    {
      "cell_type": "code",
      "source": [
        "# 4. Compute the firing rate of each cluster\n",
        "# The firing rate of each cluster can be found in the firing rate atrribute of the clusters object\n",
        "firing_rate = clusters_good['firing_rate']\n",
        "\n",
        "# To show the interaction between the clusters and the spikes object we will show how you can compute\n",
        "# the firing rate from the data\n",
        "\n",
        "# To compute the firing rate we first need to compute the number of spikes detected for each cluster\n",
        "n_spikes = np.empty((clusters_good['cluster_id'].shape))\n",
        "# Loop over the cluster ids\n",
        "for i, c in enumerate(clusters_good['cluster_id']):\n",
        "  # Find location where each cluster id is found in the spikes objects and get the sum\n",
        "  cidx = np.sum(spikes['clusters'] == c)\n",
        "  n_spikes[i] = cidx\n",
        "\n",
        "# To compute the firing rate we can divide the spike count by the total duration of the recording\n",
        "duration = np.max(spikes['times']) - np.min(spikes['times'])\n",
        "firing_rate_from_spikes = n_spikes / duration\n",
        "\n",
        "# Make sure that the values for firing rates are the same\n",
        "np.array_equal(firing_rate_from_spikes, firing_rate)"
      ],
      "metadata": {
        "colab": {
          "base_uri": "https://localhost:8080/"
        },
        "id": "WxNke2Sahrs8",
        "outputId": "b00c26f6-0e85-4886-e9a1-ca46fb3a2686"
      },
      "execution_count": null,
      "outputs": [
        {
          "output_type": "execute_result",
          "data": {
            "text/plain": [
              "True"
            ]
          },
          "metadata": {},
          "execution_count": 25
        }
      ]
    },
    {
      "cell_type": "code",
      "source": [
        "# 5. Plot firing rate and brain locations\n",
        "import matplotlib.pyplot as plt\n",
        "from matplotlib import cm, colors\n",
        "from brainbox.ephys_plots import plot_brain_regions\n",
        "clusters_good.keys()\n",
        "\n",
        "norm = colors.Normalize(vmin=np.min(firing_rate), vmax=np.max(firing_rate), clip=True)\n",
        "mapper = cm.ScalarMappable(norm=norm, cmap=cm.get_cmap('hot'))\n",
        "firing_rate_cols = mapper.to_rgba(firing_rate)\n",
        "\n",
        "fig, axs = plt.subplots(1, 2)\n",
        "# Plot the brain regions through which the channels on the insertion pass\n",
        "plot_brain_regions(channels['atlas_id'], channel_depths=channels['axial_um'], ax=axs[0])\n",
        "# Plot scatter plot of cluster depths vs cluster amp with firing rate encoded in colour\n",
        "# Map firing rate values to colours\n",
        "norm = colors.Normalize(vmin=np.min(firing_rate), vmax=np.max(firing_rate), clip=True)\n",
        "mapper = cm.ScalarMappable(norm=norm, cmap=cm.get_cmap('hot'))\n",
        "firing_rate_cols = mapper.to_rgba(firing_rate)\n",
        "axs[1].scatter(clusters_good['amp_median'] * 1e6, clusters_good['depths'], c=firing_rate_cols)\n",
        "axs[1].set_xlabel('Amps (uV)')\n",
        "axs[1].get_yaxis().set_visible(False)\n",
        "# Add colorbar\n",
        "cbar = fig.colorbar(mapper, ax=axs[1])\n",
        "cbar.set_label('Firing rate (Hz)')"
      ],
      "metadata": {
        "colab": {
          "base_uri": "https://localhost:8080/",
          "height": 279
        },
        "id": "dmMKUtqvj_mf",
        "outputId": "c34e9551-3710-4c91-c953-e3d641de078c"
      },
      "execution_count": null,
      "outputs": [
        {
          "output_type": "display_data",
          "data": {
            "text/plain": [
              "<Figure size 432x288 with 3 Axes>"
            ],
            "image/png": "[encoded data removed]"
          },
          "metadata": {
            "needs_background": "light"
          }
        }
      ]
    },
    {
      "cell_type": "markdown",
      "source": [
        "### Example 3: Characterising event aligned activity of a single cluster"
      ],
      "metadata": {
        "id": "2ooDYgK1te1F"
      }
    },
    {
      "cell_type": "markdown",
      "source": [
        "In this example we will show how to\n",
        "\n",
        "\n",
        "1.   Load in trials data for a single session and spikesorting data for a single insertion\n",
        "2.   Get spikes for chosen cluster\n",
        "3.   Compute and plot firing rate of cluster around trial event\n",
        "4.   Compute and plot peristimulus time histograms for different trial conditions (left vs right, correct vs incorrect)\n",
        "\n"
      ],
      "metadata": {
        "id": "KVgl6cVSunDM"
      }
    },
    {
      "cell_type": "code",
      "source": [
        "# 1. Load in trials data and spikesorting data\n",
        "from brainbox.io.one import SessionLoader, SpikeSortingLoader\n",
        "from one.api import ONE\n",
        "from ibllib.atlas import AllenAtlas\n",
        "import numpy as np\n",
        "\n",
        "ba = AllenAtlas()\n",
        "one = ONE()\n",
        "pid = '695476f6-4c14-4a2f-b658-948514629079'\n",
        "eid, _ = one.pid2eid(pid)\n",
        "\n",
        "sl = SessionLoader(eid=eid, one=one)\n",
        "sl.load_trials()\n",
        "\n",
        "ssl = SpikeSortingLoader(one=one, pid=pid, atlas=ba)\n",
        "spikes, clusters, channels = ssl.load_spike_sorting()\n",
        "clusters = ssl.merge_clusters(spikes, clusters, channels)"
      ],
      "metadata": {
        "id": "mNZqmJuTxtB3"
      },
      "execution_count": null,
      "outputs": []
    },
    {
      "cell_type": "code",
      "source": [
        "# 2. Get spikes for a single cluster\n",
        "# Get the 25th good cluster\n",
        "cluster_id = clusters['cluster_id'][clusters['label'] == 1][25]\n",
        "\n",
        "# Get the index of the spikes object for the chosen cluster\n",
        "spikes_idx = spikes['clusters'] == cluster_id"
      ],
      "metadata": {
        "id": "iJzTwk5FyQ-m"
      },
      "execution_count": null,
      "outputs": []
    },
    {
      "cell_type": "code",
      "source": [
        "# 3. Compute firing rate of cluster around trial event and plot as a raster\n",
        "# Find times when stimulus appears\n",
        "events = sl.trials['stimOn_times']\n",
        "\n",
        "from brainbox.singlecell import bin_spikes\n",
        "# Compute number of spikes in 0.05s bins between 0.5s before stimulus presentation to 1s after stimulus presentation\n",
        "bin_size = 0.05\n",
        "pre_time = 0.5\n",
        "post_time = 1\n",
        "spike_raster, times = bin_spikes(spikes.times[spikes_idx], events, pre_time=pre_time, post_time=post_time, bin_size=bin_size)\n",
        "spikes_raster = spike_raster / bin_size\n",
        "\n",
        "fig, ax = plt.subplots()\n",
        "ax.imshow(spike_raster, extent=[times[0], times[-1], 0, events.size], origin='lower', cmap='binary', aspect='auto', vmax=20, vmin=0)\n",
        "ax.axvline(0, c='k', linestyle='--')\n",
        "ax.set_xlabel('Time from stimulus (s)')\n",
        "ax.set_ylabel('Trial number')"
      ],
      "metadata": {
        "colab": {
          "base_uri": "https://localhost:8080/",
          "height": 352
        },
        "id": "7qHcZ7SOz6f_",
        "outputId": "fe9d77c7-44bb-4cad-d3f9-5579cb82d806"
      },
      "execution_count": null,
      "outputs": [
        {
          "output_type": "stream",
          "name": "stderr",
          "text": [
            "/usr/local/lib/python3.8/dist-packages/brainbox/singlecell.py:48: FutureWarning: Support for multi-dimensional indexing (e.g. `obj[:, None]`) is deprecated and will be removed in a future version.  Convert to a numpy array before indexing instead.\n",
            "  ts = np.repeat(align_times[:, np.newaxis], tscale.size, axis=1) + tscale\n"
          ]
        },
        {
          "output_type": "execute_result",
          "data": {
            "text/plain": [
              "Text(0, 0.5, 'Trial number')"
            ]
          },
          "metadata": {},
          "execution_count": 29
        },
        {
          "output_type": "display_data",
          "data": {
            "text/plain": [
              "<Figure size 432x288 with 1 Axes>"
            ],
            "image/png": "[encoded data removed]"
          },
          "metadata": {
            "needs_background": "light"
          }
        }
      ]
    },
    {
      "cell_type": "code",
      "source": [
        "# 4. Compute peri stimulus time histogram for different trial events\n",
        "# Compute psth for left vs right stimulus trials\n",
        "left_idx = ~np.isnan(sl.trials['contrastLeft'])\n",
        "right_idx = ~np.isnan(sl.trials['contrastRight'])\n",
        "psth_left = np.nanmean(spike_raster[left_idx], axis=0)\n",
        "psth_right = np.nanmean(spike_raster[right_idx], axis=0)\n",
        "\n",
        "# Compute psth for correct vs incorrect trials\n",
        "correct_idx = sl.trials['feedbackType'] == 1\n",
        "incorrect_idx = sl.trials['feedbackType'] == -1\n",
        "psth_correct = np.nanmean(spike_raster[correct_idx], axis=0)\n",
        "psth_incorrect = np.nanmean(spike_raster[incorrect_idx], axis=0)\n",
        "\n",
        "# Plot the psths\n",
        "fig, axs = plt.subplots(1, 2)\n",
        "axs[0].plot(times, psth_left, c='green')\n",
        "axs[0].plot(times, psth_right, c='yellow')\n",
        "axs[0].legend(['left', 'right'])\n",
        "axs[0].axvline(0, c='k', linestyle='--')\n",
        "axs[0].set_xlabel('Time from stimulus (s)')\n",
        "axs[0].set_ylabel('Firing rate (Hz)')\n",
        "\n",
        "axs[1].plot(times, psth_correct, c='blue')\n",
        "axs[1].plot(times, psth_incorrect, c='red')\n",
        "axs[1].legend(['correct', 'incorrect'])\n",
        "axs[1].axvline(0, c='k', linestyle='--')\n",
        "axs[1].set_xlabel('Time from stimulus (s)')"
      ],
      "metadata": {
        "colab": {
          "base_uri": "https://localhost:8080/",
          "height": 296
        },
        "id": "kZYQURgOF35y",
        "outputId": "e690d4a6-4ac6-4e43-8148-7a519dc00bea"
      },
      "execution_count": null,
      "outputs": [
        {
          "output_type": "execute_result",
          "data": {
            "text/plain": [
              "Text(0.5, 0, 'Time from stimulus (s)')"
            ]
          },
          "metadata": {},
          "execution_count": 30
        },
        {
          "output_type": "display_data",
          "data": {
            "text/plain": [
              "<Figure size 432x288 with 2 Axes>"
            ],
            "image/png": "[encoded data removed]"
          },
          "metadata": {
            "needs_background": "light"
          }
        }
      ]
    },
    {
      "cell_type": "markdown",
      "source": [
        "### 🏠 Example 4: Characterising event aligned activity of wheel velocity and paw position\n"
      ],
      "metadata": {
        "id": "b3pezG2FwkRs"
      }
    },
    {
      "cell_type": "markdown",
      "source": [
        "In this example we will show how to\n",
        "\n",
        "\n",
        "1.   Load in trials, wheel and pose data using SessionLoader\n",
        "2.   Smoothing the wheel trace\n",
        "3.   Plot the paw trace for a given trial\n",
        "4.   Compute and plot the average wheel and paw trace for all trials"
      ],
      "metadata": {
        "id": "ikqG68Kga9Rn"
      }
    },
    {
      "cell_type": "code",
      "source": [
        "# 1. Load trials, wheel and pose data\n",
        "from brainbox.io.one import SessionLoader\n",
        "from one.api import ONE\n",
        "import numpy as np\n",
        "\n",
        "one = ONE()\n",
        "eid = '4720c98a-a305-4fba-affb-bbfa00a724a4'\n",
        "sl = SessionLoader(eid=eid, one=one)\n",
        "sl.load_trials()\n",
        "sl.load_wheel()\n",
        "sl.load_pose()\n"
      ],
      "metadata": {
        "id": "e3DohXBDb-SM"
      },
      "execution_count": null,
      "outputs": []
    },
    {
      "cell_type": "code",
      "source": [
        "# 2. Smoothing the wheel trace\n",
        "# When using the sessionloader the wheel trace is automatically smoothed and the velocity and acceleration computed\n",
        "\n",
        "# Get the interval for the 100th trial\n",
        "t0 = sl.trials['intervals_0'][100]\n",
        "t1 = sl.trials['intervals_1'][100]\n",
        "idx = np.searchsorted(sl.wheel['times'], np.r_[t0, t1])\n",
        "\n",
        "import matplotlib.pyplot as plt\n",
        "fig, axs = plt.subplots(3, 1, sharex=True)\n",
        "axs[0].plot(sl.wheel['times'][idx[0]:idx[1]], sl.wheel['position'][idx[0]:idx[1]] - sl.wheel['position'][idx[0]]) # subtract first position point\n",
        "axs[0].set_ylabel('Position')\n",
        "axs[1].plot(sl.wheel['times'][idx[0]:idx[1]], sl.wheel['velocity'][idx[0]:idx[1]])\n",
        "axs[1].set_ylabel('Velocity')\n",
        "axs[2].plot(sl.wheel['times'][idx[0]:idx[1]], sl.wheel['acceleration'][idx[0]:idx[1]])\n",
        "axs[2].set_xlabel('Time')\n",
        "axs[2].set_ylabel('Acceleration')"
      ],
      "metadata": {
        "id": "_ONUvri8gEb8",
        "colab": {
          "base_uri": "https://localhost:8080/",
          "height": 296
        },
        "outputId": "b68c0338-5f59-4aca-ccea-ac2f05c16fc5"
      },
      "execution_count": null,
      "outputs": [
        {
          "output_type": "execute_result",
          "data": {
            "text/plain": [
              "Text(0, 0.5, 'Acceleration')"
            ]
          },
          "metadata": {},
          "execution_count": 32
        },
        {
          "output_type": "display_data",
          "data": {
            "text/plain": [
              "<Figure size 432x288 with 3 Axes>"
            ],
            "image/png": "[encoded data removed]"
          },
          "metadata": {
            "needs_background": "light"
          }
        }
      ]
    },
    {
      "cell_type": "code",
      "source": [
        "# 3. Plot the paw trace for a given trial\n",
        "\n",
        "# compute the paw speed for left and right camera (note 'paw_r' is always the paw closest to the camera)\n",
        "from brainbox.behavior.dlc import get_speed\n",
        "paw_left_speed = get_speed(sl.pose['leftCamera'],sl.pose['leftCamera']['times'], camera='left', feature='paw_r')\n",
        "paw_right_speed = get_speed(sl.pose['rightCamera'],sl.pose['rightCamera']['times'], camera='right', feature='paw_r')\n",
        "\n",
        "# left camera\n",
        "idx_left = np.searchsorted(sl.pose['leftCamera']['times'], np.r_[t0, t1])\n",
        "# right camera\n",
        "idx_right = np.searchsorted(sl.pose['rightCamera']['times'], np.r_[t0, t1])\n",
        "\n",
        "fig, axs = plt.subplots(2, 1, sharex=True)\n",
        "axs[0].plot(sl.pose['leftCamera']['times'][idx_left[0]:idx_left[1]], paw_left_speed[idx_left[0]:idx_left[1]])\n",
        "axs[0].set_ylabel('L cam paw speed')\n",
        "axs[1].plot(sl.pose['rightCamera']['times'][idx_right[0]:idx_right[1]], paw_right_speed[idx_right[0]:idx_right[1]])\n",
        "axs[1].set_ylabel('R cam paw speed')\n",
        "axs[1].set_xlabel('Time')"
      ],
      "metadata": {
        "id": "epQkGMWMpV_M",
        "colab": {
          "base_uri": "https://localhost:8080/",
          "height": 296
        },
        "outputId": "9bb7c71f-2e81-429a-c798-9658e85f5065"
      },
      "execution_count": null,
      "outputs": [
        {
          "output_type": "execute_result",
          "data": {
            "text/plain": [
              "Text(0.5, 0, 'Time')"
            ]
          },
          "metadata": {},
          "execution_count": 33
        },
        {
          "output_type": "display_data",
          "data": {
            "text/plain": [
              "<Figure size 432x288 with 2 Axes>"
            ],
            "image/png": "[encoded data removed]"
          },
          "metadata": {
            "needs_background": "light"
          }
        }
      ]
    },
    {
      "cell_type": "code",
      "source": [
        "# 4. Compute and plot the average wheel and paw trace for all trials\n",
        "# Find times when first move is detected\n",
        "events = sl.trials['firstMovement_times']\n",
        "\n",
        "from brainbox.singlecell import bin_spikes\n",
        "# Compute raster of wheel in 0.05s bins between 0.5s before the first move is detected to 1s after the first move is detected\n",
        "bin_size = 0.05\n",
        "pre_time = 0.5\n",
        "post_time = 1\n",
        "wheel_raster, times = bin_spikes(sl.wheel['times'], events, pre_time=pre_time, post_time=post_time, bin_size=bin_size, weights=sl.wheel['velocity'])\n",
        "paw_raster, times = bin_spikes(sl.pose['leftCamera']['times'], events, pre_time=pre_time, post_time=post_time, bin_size=bin_size, weights=paw_left_speed)\n",
        "\n",
        "left_idx = ~np.isnan(sl.trials['contrastLeft'])\n",
        "right_idx = ~np.isnan(sl.trials['contrastRight'])\n",
        "wheel_psth_left = np.nanmean(wheel_raster[left_idx], axis=0)\n",
        "wheel_psth_right = np.nanmean(wheel_raster[right_idx], axis=0)\n",
        "paw_psth_left = np.nanmean(paw_raster[left_idx], axis=0)\n",
        "paw_psth_right = np.nanmean(paw_raster[right_idx], axis=0)\n",
        "\n",
        "# Plot the psths\n",
        "fig, axs = plt.subplots(1, 2, gridspec_kw={'wspace': 0.5})\n",
        "axs[0].plot(times, wheel_psth_left, c='green')\n",
        "axs[0].plot(times, wheel_psth_right, c='yellow')\n",
        "axs[0].legend(['left', 'right'])\n",
        "axs[0].axvline(0, c='k', linestyle='--')\n",
        "axs[0].set_xlabel('Time from first move (s)')\n",
        "axs[0].set_ylabel('Wheel velocity (rad/s)')\n",
        "\n",
        "axs[1].plot(times, paw_psth_left, c='green')\n",
        "axs[1].plot(times, paw_psth_right, c='yellow')\n",
        "axs[0].legend(['left', 'right'])\n",
        "axs[1].axvline(0, c='k', linestyle='--')\n",
        "axs[1].set_xlabel('Time from first move (s)')\n",
        "axs[1].set_ylabel('Paw velocity')\n"
      ],
      "metadata": {
        "id": "bzPG5VmOsx1Z",
        "colab": {
          "base_uri": "https://localhost:8080/",
          "height": 296
        },
        "outputId": "63ccc17c-d552-4266-c654-9ac1f0a755e5"
      },
      "execution_count": null,
      "outputs": [
        {
          "output_type": "execute_result",
          "data": {
            "text/plain": [
              "Text(0, 0.5, 'Paw velocity')"
            ]
          },
          "metadata": {},
          "execution_count": 34
        },
        {
          "output_type": "display_data",
          "data": {
            "text/plain": [
              "<Figure size 432x288 with 2 Axes>"
            ],
            "image/png": "[encoded data removed]"
          },
          "metadata": {
            "needs_background": "light"
          }
        }
      ]
    },
    {
      "cell_type": "markdown",
      "source": [
        "### Example 5: Aggregating cluster data across insertions"
      ],
      "metadata": {
        "id": "bo2iucdK0JRg"
      }
    },
    {
      "cell_type": "markdown",
      "source": [
        "In this example we will show how to\n",
        "\n",
        "1.   Search for insertions passing through a chosen brain area\n",
        "2.   Load in relevant data for each insertion to create a table containing cluster amplitude and brain location\n",
        "3.   Download a clusters table for all BWM data\n",
        "2.   Aggregate features across regions\n",
        "3.   Plot features on atlas slices\n"
      ],
      "metadata": {
        "id": "Qzk4cpxBWDxO"
      }
    },
    {
      "cell_type": "code",
      "source": [
        "# 1. Search for insertions passing through a chosen brain area\n",
        "\n",
        "from one.api import ONE\n",
        "from ibllib.atlas import AllenAtlas\n",
        "import pandas as pd\n",
        "one = ONE()\n",
        "ba = AllenAtlas()\n",
        "\n",
        "acronym = 'VPL'\n",
        "insertions = one.search_insertions(atlas_acronym=acronym, query_type='remote')\n",
        "print(f'No. of insertions in {acronym}: {len(insertions)}')"
      ],
      "metadata": {
        "colab": {
          "base_uri": "https://localhost:8080/"
        },
        "id": "mzwetdm5nqLf",
        "outputId": "3e3380da-9770-4da8-fe9a-8d26e8323923"
      },
      "execution_count": null,
      "outputs": [
        {
          "output_type": "stream",
          "name": "stdout",
          "text": [
            "No. of insertions in VPL: 22\n"
          ]
        }
      ]
    },
    {
      "cell_type": "code",
      "source": [
        "# 2. Load in relevant data for each insertion to create a table containing cluster amplitude and brain location\n",
        "\n",
        "all_clusters = []\n",
        "for pid in insertions:\n",
        "  eid, name = one.pid2eid(pid)\n",
        "  # Load in clusters data that we need, amps and channels attributes\n",
        "  clusters = one.load_object(eid, 'clusters', attribute=['amps', 'channels'], collection=f'alf/{name}/pykilosort')\n",
        "  # Load in channels data that we need. This gives the Allen CCF location of each channel\n",
        "  channels_atlas_id = one.load_dataset(eid, 'channels.brainLocationIds_ccf_2017', collection=f'alf/{name}/pykilosort')\n",
        "  # Use channels_atlas_id and clusters.channels to compute the atlas_id of each cluster\n",
        "  clusters['atlas_ids'] = channels_atlas_id[clusters['channels']]\n",
        "  # Use regions object to convert atlas ids to acronyms\n",
        "  clusters['acronyms'] = ba.regions.id2acronym(clusters['atlas_ids'])\n",
        "  # Convert clusters object to pandas dataframe and add the pid as a column\n",
        "  clusters_df = clusters.to_df()\n",
        "  clusters_df['pid'] = pid\n",
        "  # Append table from individual pid to list\n",
        "  all_clusters.append(clusters_df)\n",
        "\n",
        "\n",
        "# concatenate into one big table\n",
        "all_clusters = pd.concat(all_clusters)"
      ],
      "metadata": {
        "id": "pxziGlb9oOgF"
      },
      "execution_count": null,
      "outputs": []
    },
    {
      "cell_type": "code",
      "source": [
        "# display the table\n",
        "from IPython.display import display # import module to display dataframe nicely\n",
        "display(all_clusters)"
      ],
      "metadata": {
        "colab": {
          "base_uri": "https://localhost:8080/",
          "height": 424
        },
        "id": "PdetceD7NDdj",
        "outputId": "71dcd6ab-394d-4652-f448-6afd598a9e07"
      },
      "execution_count": null,
      "outputs": [
        {
          "output_type": "display_data",
          "data": {
            "text/plain": [
              "          amps  channels  atlas_ids acronyms  \\\n",
              "0     0.000052         0        194      LHA   \n",
              "1     0.000056         1        194      LHA   \n",
              "2     0.000061         5        194      LHA   \n",
              "3     0.000053         7        194      LHA   \n",
              "4     0.000084         9        194      LHA   \n",
              "...        ...       ...        ...      ...   \n",
              "1584  0.000101       275        733      VPM   \n",
              "1585  0.000086       279        733      VPM   \n",
              "1586  0.000100       318        733      VPM   \n",
              "1587  0.000083       327        733      VPM   \n",
              "1588  0.000078       105        403      MEA   \n",
              "\n",
              "                                       pid  \n",
              "0     335d689e-4d98-4532-b01b-7f7da89863c4  \n",
              "1     335d689e-4d98-4532-b01b-7f7da89863c4  \n",
              "2     335d689e-4d98-4532-b01b-7f7da89863c4  \n",
              "3     335d689e-4d98-4532-b01b-7f7da89863c4  \n",
              "4     335d689e-4d98-4532-b01b-7f7da89863c4  \n",
              "...                                    ...  \n",
              "1584  e8129a86-b5a9-4d2e-9e9c-09689c9bf0b3  \n",
              "1585  e8129a86-b5a9-4d2e-9e9c-09689c9bf0b3  \n",
              "1586  e8129a86-b5a9-4d2e-9e9c-09689c9bf0b3  \n",
              "1587  e8129a86-b5a9-4d2e-9e9c-09689c9bf0b3  \n",
              "1588  e8129a86-b5a9-4d2e-9e9c-09689c9bf0b3  \n",
              "\n",
              "[15010 rows x 5 columns]"
            ],
            "text/html": [
              "\n",
              "  <div id=\"df-1f78adeb-d91b-46b7-821c-fed69a21e0a1\">\n",
              "    <div class=\"colab-df-container\">\n",
              "      <div>\n",
              "<style scoped>\n",
              "    .dataframe tbody tr th:only-of-type {\n",
              "        vertical-align: middle;\n",
              "    }\n",
              "\n",
              "    .dataframe tbody tr th {\n",
              "        vertical-align: top;\n",
              "    }\n",
              "\n",
              "    .dataframe thead th {\n",
              "        text-align: right;\n",
              "    }\n",
              "</style>\n",
              "<table border=\"1\" class=\"dataframe\">\n",
              "  <thead>\n",
              "    <tr style=\"text-align: right;\">\n",
              "      <th></th>\n",
              "      <th>amps</th>\n",
              "      <th>channels</th>\n",
              "      <th>atlas_ids</th>\n",
              "      <th>acronyms</th>\n",
              "      <th>pid</th>\n",
              "    </tr>\n",
              "  </thead>\n",
              "  <tbody>\n",
              "    <tr>\n",
              "      <th>0</th>\n",
              "      <td>0.000052</td>\n",
              "      <td>0</td>\n",
              "      <td>194</td>\n",
              "      <td>LHA</td>\n",
              "      <td>335d689e-4d98-4532-b01b-7f7da89863c4</td>\n",
              "    </tr>\n",
              "    <tr>\n",
              "      <th>1</th>\n",
              "      <td>0.000056</td>\n",
              "      <td>1</td>\n",
              "      <td>194</td>\n",
              "      <td>LHA</td>\n",
              "      <td>335d689e-4d98-4532-b01b-7f7da89863c4</td>\n",
              "    </tr>\n",
              "    <tr>\n",
              "      <th>2</th>\n",
              "      <td>0.000061</td>\n",
              "      <td>5</td>\n",
              "      <td>194</td>\n",
              "      <td>LHA</td>\n",
              "      <td>335d689e-4d98-4532-b01b-7f7da89863c4</td>\n",
              "    </tr>\n",
              "    <tr>\n",
              "      <th>3</th>\n",
              "      <td>0.000053</td>\n",
              "      <td>7</td>\n",
              "      <td>194</td>\n",
              "      <td>LHA</td>\n",
              "      <td>335d689e-4d98-4532-b01b-7f7da89863c4</td>\n",
              "    </tr>\n",
              "    <tr>\n",
              "      <th>4</th>\n",
              "      <td>0.000084</td>\n",
              "      <td>9</td>\n",
              "      <td>194</td>\n",
              "      <td>LHA</td>\n",
              "      <td>335d689e-4d98-4532-b01b-7f7da89863c4</td>\n",
              "    </tr>\n",
              "    <tr>\n",
              "      <th>...</th>\n",
              "      <td>...</td>\n",
              "      <td>...</td>\n",
              "      <td>...</td>\n",
              "      <td>...</td>\n",
              "      <td>...</td>\n",
              "    </tr>\n",
              "    <tr>\n",
              "      <th>1584</th>\n",
              "      <td>0.000101</td>\n",
              "      <td>275</td>\n",
              "      <td>733</td>\n",
              "      <td>VPM</td>\n",
              "      <td>e8129a86-b5a9-4d2e-9e9c-09689c9bf0b3</td>\n",
              "    </tr>\n",
              "    <tr>\n",
              "      <th>1585</th>\n",
              "      <td>0.000086</td>\n",
              "      <td>279</td>\n",
              "      <td>733</td>\n",
              "      <td>VPM</td>\n",
              "      <td>e8129a86-b5a9-4d2e-9e9c-09689c9bf0b3</td>\n",
              "    </tr>\n",
              "    <tr>\n",
              "      <th>1586</th>\n",
              "      <td>0.000100</td>\n",
              "      <td>318</td>\n",
              "      <td>733</td>\n",
              "      <td>VPM</td>\n",
              "      <td>e8129a86-b5a9-4d2e-9e9c-09689c9bf0b3</td>\n",
              "    </tr>\n",
              "    <tr>\n",
              "      <th>1587</th>\n",
              "      <td>0.000083</td>\n",
              "      <td>327</td>\n",
              "      <td>733</td>\n",
              "      <td>VPM</td>\n",
              "      <td>e8129a86-b5a9-4d2e-9e9c-09689c9bf0b3</td>\n",
              "    </tr>\n",
              "    <tr>\n",
              "      <th>1588</th>\n",
              "      <td>0.000078</td>\n",
              "      <td>105</td>\n",
              "      <td>403</td>\n",
              "      <td>MEA</td>\n",
              "      <td>e8129a86-b5a9-4d2e-9e9c-09689c9bf0b3</td>\n",
              "    </tr>\n",
              "  </tbody>\n",
              "</table>\n",
              "<p>15010 rows × 5 columns</p>\n",
              "</div>\n",
              "      <button class=\"colab-df-convert\" onclick=\"convertToInteractive('df-1f78adeb-d91b-46b7-821c-fed69a21e0a1')\"\n",
              "              title=\"Convert this dataframe to an interactive table.\"\n",
              "              style=\"display:none;\">\n",
              "        \n",
              "  <svg xmlns=\"http://www.w3.org/2000/svg\" height=\"24px\"viewBox=\"0 0 24 24\"\n",
              "       width=\"24px\">\n",
              "    <path d=\"M0 0h24v24H0V0z\" fill=\"none\"/>\n",
              "    <path d=\"M18.56 5.44l.94 2.06.94-2.06 2.06-.94-2.06-.94-.94-2.06-.94 2.06-2.06.94zm-11 1L8.5 8.5l.94-2.06 2.06-.94-2.06-.94L8.5 2.5l-.94 2.06-2.06.94zm10 10l.94 2.06.94-2.06 2.06-.94-2.06-.94-.94-2.06-.94 2.06-2.06.94z\"/><path d=\"M17.41 7.96l-1.37-1.37c-.4-.4-.92-.59-1.43-.59-.52 0-1.04.2-1.43.59L10.3 9.45l-7.72 7.72c-.78.78-.78 2.05 0 2.83L4 21.41c.39.39.9.59 1.41.59.51 0 1.02-.2 1.41-.59l7.78-7.78 2.81-2.81c.8-.78.8-2.07 0-2.86zM5.41 20L4 18.59l7.72-7.72 1.47 1.35L5.41 20z\"/>\n",
              "  </svg>\n",
              "      </button>\n",
              "      \n",
              "  <style>\n",
              "    .colab-df-container {\n",
              "      display:flex;\n",
              "      flex-wrap:wrap;\n",
              "      gap: 12px;\n",
              "    }\n",
              "\n",
              "    .colab-df-convert {\n",
              "      background-color: #E8F0FE;\n",
              "      border: none;\n",
              "      border-radius: 50%;\n",
              "      cursor: pointer;\n",
              "      display: none;\n",
              "      fill: #1967D2;\n",
              "      height: 32px;\n",
              "      padding: 0 0 0 0;\n",
              "      width: 32px;\n",
              "    }\n",
              "\n",
              "    .colab-df-convert:hover {\n",
              "      background-color: #E2EBFA;\n",
              "      box-shadow: 0px 1px 2px rgba(60, 64, 67, 0.3), 0px 1px 3px 1px rgba(60, 64, 67, 0.15);\n",
              "      fill: #174EA6;\n",
              "    }\n",
              "\n",
              "    [theme=dark] .colab-df-convert {\n",
              "      background-color: #3B4455;\n",
              "      fill: #D2E3FC;\n",
              "    }\n",
              "\n",
              "    [theme=dark] .colab-df-convert:hover {\n",
              "      background-color: #434B5C;\n",
              "      box-shadow: 0px 1px 3px 1px rgba(0, 0, 0, 0.15);\n",
              "      filter: drop-shadow(0px 1px 2px rgba(0, 0, 0, 0.3));\n",
              "      fill: #FFFFFF;\n",
              "    }\n",
              "  </style>\n",
              "\n",
              "      <script>\n",
              "        const buttonEl =\n",
              "          document.querySelector('#df-1f78adeb-d91b-46b7-821c-fed69a21e0a1 button.colab-df-convert');\n",
              "        buttonEl.style.display =\n",
              "          google.colab.kernel.accessAllowed ? 'block' : 'none';\n",
              "\n",
              "        async function convertToInteractive(key) {\n",
              "          const element = document.querySelector('#df-1f78adeb-d91b-46b7-821c-fed69a21e0a1');\n",
              "          const dataTable =\n",
              "            await google.colab.kernel.invokeFunction('convertToInteractive',\n",
              "                                                     [key], {});\n",
              "          if (!dataTable) return;\n",
              "\n",
              "          const docLinkHtml = 'Like what you see? Visit the ' +\n",
              "            '<a target=\"_blank\" href=https://colab.research.google.com/notebooks/data_table.ipynb>data table notebook</a>'\n",
              "            + ' to learn more about interactive tables.';\n",
              "          element.innerHTML = '';\n",
              "          dataTable['output_type'] = 'display_data';\n",
              "          await google.colab.output.renderOutput(dataTable, element);\n",
              "          const docLink = document.createElement('div');\n",
              "          docLink.innerHTML = docLinkHtml;\n",
              "          element.appendChild(docLink);\n",
              "        }\n",
              "      </script>\n",
              "    </div>\n",
              "  </div>\n",
              "  "
            ]
          },
          "metadata": {}
        }
      ]
    },
    {
      "cell_type": "code",
      "source": [
        "# 3. Download a clusters table from all BWM data\n",
        "\n",
        "# In step 2. of this example showed how we can build our own clusters table using insertions we are interested in.\n",
        "# As part of the brainwide-map we have also released a table containing all clusters from the brain-wide map dataset.\n",
        "# Here we show how this can be downloaded and loaded\n",
        "\n",
        "from one.remote import aws\n",
        "s3, bucket_name = aws.get_s3_from_alyx(alyx=one.alyx)\n",
        "\n",
        "# Define where the table will be saved\n",
        "table_path = one.cache_dir.joinpath('bwm_features', 'clusters_table.pqt')\n",
        "# Download the table\n",
        "aws.s3_download_file(\"aggregates/2022_Q4_IBL_et_al_BWM/clusters.pqt\", table_path, s3=s3, bucket_name=bucket_name)\n",
        "\n",
        "# Load in the file as a pandas table\n",
        "clusters_table = pd.read_parquet(table_path)\n",
        "\n",
        "# Display the table\n",
        "display(clusters_table)"
      ],
      "metadata": {
        "colab": {
          "base_uri": "https://localhost:8080/",
          "height": 1000
        },
        "id": "qQ05Q6b21ftr",
        "outputId": "b9ba8eef-3f82-433a-b490-4b540817183b"
      },
      "execution_count": null,
      "outputs": [
        {
          "output_type": "stream",
          "name": "stderr",
          "text": [
            "/root/Downloads/ONE/openalyx.internationalbrainlab.org/bwm_features/clusters_table.pqt: 100%|██████████| 41.2M/41.2M [00:01<00:00, 27.4MB/s]\n"
          ]
        },
        {
          "output_type": "display_data",
          "data": {
            "text/plain": [
              "                                       uuids  depths  channels  cluster_id  \\\n",
              "0       918eb59c-2d17-4b4e-bbd2-7946d3604d2f    20.0         0           0   \n",
              "1       83a77b50-f409-4c3f-b992-782ebde32dbb    20.0         0           1   \n",
              "2       b4f7da58-9bf6-494e-a4cb-8d6934dcc928    20.0         0           2   \n",
              "3       8db87ffd-bea0-481e-91cb-8317b8da1563    20.0         0           3   \n",
              "4       3a2f08b3-0459-48ba-81fa-1d87a1086b62    20.0         0           4   \n",
              "...                                      ...     ...       ...         ...   \n",
              "295496  1df2371e-41e1-4bcc-a0b2-3dc1cb8d2d5b   700.0        69         725   \n",
              "295497  dfa4b4d4-f181-4c85-947a-b150cb0eb2bd  2540.0       253         726   \n",
              "295498  7a440514-3206-4c9e-b0f9-7bde14fd6f0f  2560.0       255         727   \n",
              "295499  aa971667-5bb1-421a-8dcc-d53aa0797e09  2860.0       285         728   \n",
              "295500  6a3136b7-a604-4126-823b-bb30a0f80446  2920.0       290         729   \n",
              "\n",
              "         amp_max   amp_min  amp_median  amp_std_dB  contamination  \\\n",
              "0       0.000520  0.000118    0.000186    2.231017       0.083911   \n",
              "1       0.000369  0.000086    0.000162    1.829977       0.054216   \n",
              "2       0.000450  0.000143    0.000187    1.949605       0.436803   \n",
              "3       0.000459  0.000162    0.000181    1.487011       0.141639   \n",
              "4       0.000219  0.000130    0.000147    0.968083       0.000000   \n",
              "...          ...       ...         ...         ...            ...   \n",
              "295496  0.000236  0.000125    0.000137    0.999767       0.000000   \n",
              "295497  0.000195  0.000064    0.000109    1.786847       0.325005   \n",
              "295498  0.000259  0.000078    0.000176    2.522561       0.000000   \n",
              "295499  0.000279  0.000144    0.000155    0.866324       0.000000   \n",
              "295500  0.000078  0.000064    0.000067    0.475596       0.000000   \n",
              "\n",
              "        contamination_alt  ...     label         x         y         z  \\\n",
              "0                0.072965  ...  0.666667 -0.002289 -0.002537 -0.003595   \n",
              "1                0.043135  ...  1.000000 -0.002289 -0.002537 -0.003595   \n",
              "2                0.310567  ...  0.333333 -0.002289 -0.002537 -0.003595   \n",
              "3                0.118156  ...  1.000000 -0.002289 -0.002537 -0.003595   \n",
              "4                0.000000  ...  0.666667 -0.002289 -0.002537 -0.003595   \n",
              "...                   ...  ...       ...       ...       ...       ...   \n",
              "295496           0.000000  ...  0.333333 -0.001327 -0.000638 -0.003311   \n",
              "295497           0.242793  ...  0.666667 -0.001903 -0.000650 -0.001372   \n",
              "295498           0.000000  ...  0.666667 -0.001910 -0.000650 -0.001349   \n",
              "295499           0.000000  ...  0.666667 -0.001995 -0.000616 -0.001020   \n",
              "295500           0.000000  ...  0.333333 -0.002017 -0.000599 -0.000954   \n",
              "\n",
              "         acronym  atlas_id  axial_um  lateral_um  \\\n",
              "0             TH       549      20.0        43.0   \n",
              "1             TH       549      20.0        43.0   \n",
              "2             TH       549      20.0        43.0   \n",
              "3             TH       549      20.0        43.0   \n",
              "4             TH       549      20.0        43.0   \n",
              "...          ...       ...       ...         ...   \n",
              "295496        AV       255     700.0        11.0   \n",
              "295497  SSp-ll6a       478    2540.0        11.0   \n",
              "295498  SSp-ll6a       478    2560.0        27.0   \n",
              "295499   SSp-ll5      1128    2860.0        11.0   \n",
              "295500   SSp-ll4      1094    2920.0        59.0   \n",
              "\n",
              "                                         pid  \\\n",
              "0       56f2a378-78d2-4132-b3c8-8c1ba82be598   \n",
              "1       56f2a378-78d2-4132-b3c8-8c1ba82be598   \n",
              "2       56f2a378-78d2-4132-b3c8-8c1ba82be598   \n",
              "3       56f2a378-78d2-4132-b3c8-8c1ba82be598   \n",
              "4       56f2a378-78d2-4132-b3c8-8c1ba82be598   \n",
              "...                                      ...   \n",
              "295496  79f44ba1-c931-4346-82eb-f628a9374045   \n",
              "295497  79f44ba1-c931-4346-82eb-f628a9374045   \n",
              "295498  79f44ba1-c931-4346-82eb-f628a9374045   \n",
              "295499  79f44ba1-c931-4346-82eb-f628a9374045   \n",
              "295500  79f44ba1-c931-4346-82eb-f628a9374045   \n",
              "\n",
              "                                         eid  \n",
              "0       6713a4a7-faed-4df2-acab-ee4e63326f8d  \n",
              "1       6713a4a7-faed-4df2-acab-ee4e63326f8d  \n",
              "2       6713a4a7-faed-4df2-acab-ee4e63326f8d  \n",
              "3       6713a4a7-faed-4df2-acab-ee4e63326f8d  \n",
              "4       6713a4a7-faed-4df2-acab-ee4e63326f8d  \n",
              "...                                      ...  \n",
              "295496  c7bd79c9-c47e-4ea5-aea3-74dda991b48e  \n",
              "295497  c7bd79c9-c47e-4ea5-aea3-74dda991b48e  \n",
              "295498  c7bd79c9-c47e-4ea5-aea3-74dda991b48e  \n",
              "295499  c7bd79c9-c47e-4ea5-aea3-74dda991b48e  \n",
              "295500  c7bd79c9-c47e-4ea5-aea3-74dda991b48e  \n",
              "\n",
              "[295501 rows x 28 columns]"
            ],
            "text/html": [
              "\n",
              "  <div id=\"df-ba24febf-484c-4383-9131-24235051e97d\">\n",
              "    <div class=\"colab-df-container\">\n",
              "      <div>\n",
              "<style scoped>\n",
              "    .dataframe tbody tr th:only-of-type {\n",
              "        vertical-align: middle;\n",
              "    }\n",
              "\n",
              "    .dataframe tbody tr th {\n",
              "        vertical-align: top;\n",
              "    }\n",
              "\n",
              "    .dataframe thead th {\n",
              "        text-align: right;\n",
              "    }\n",
              "</style>\n",
              "<table border=\"1\" class=\"dataframe\">\n",
              "  <thead>\n",
              "    <tr style=\"text-align: right;\">\n",
              "      <th></th>\n",
              "      <th>uuids</th>\n",
              "      <th>depths</th>\n",
              "      <th>channels</th>\n",
              "      <th>cluster_id</th>\n",
              "      <th>amp_max</th>\n",
              "      <th>amp_min</th>\n",
              "      <th>amp_median</th>\n",
              "      <th>amp_std_dB</th>\n",
              "      <th>contamination</th>\n",
              "      <th>contamination_alt</th>\n",
              "      <th>...</th>\n",
              "      <th>label</th>\n",
              "      <th>x</th>\n",
              "      <th>y</th>\n",
              "      <th>z</th>\n",
              "      <th>acronym</th>\n",
              "      <th>atlas_id</th>\n",
              "      <th>axial_um</th>\n",
              "      <th>lateral_um</th>\n",
              "      <th>pid</th>\n",
              "      <th>eid</th>\n",
              "    </tr>\n",
              "  </thead>\n",
              "  <tbody>\n",
              "    <tr>\n",
              "      <th>0</th>\n",
              "      <td>918eb59c-2d17-4b4e-bbd2-7946d3604d2f</td>\n",
              "      <td>20.0</td>\n",
              "      <td>0</td>\n",
              "      <td>0</td>\n",
              "      <td>0.000520</td>\n",
              "      <td>0.000118</td>\n",
              "      <td>0.000186</td>\n",
              "      <td>2.231017</td>\n",
              "      <td>0.083911</td>\n",
              "      <td>0.072965</td>\n",
              "      <td>...</td>\n",
              "      <td>0.666667</td>\n",
              "      <td>-0.002289</td>\n",
              "      <td>-0.002537</td>\n",
              "      <td>-0.003595</td>\n",
              "      <td>TH</td>\n",
              "      <td>549</td>\n",
              "      <td>20.0</td>\n",
              "      <td>43.0</td>\n",
              "      <td>56f2a378-78d2-4132-b3c8-8c1ba82be598</td>\n",
              "      <td>6713a4a7-faed-4df2-acab-ee4e63326f8d</td>\n",
              "    </tr>\n",
              "    <tr>\n",
              "      <th>1</th>\n",
              "      <td>83a77b50-f409-4c3f-b992-782ebde32dbb</td>\n",
              "      <td>20.0</td>\n",
              "      <td>0</td>\n",
              "      <td>1</td>\n",
              "      <td>0.000369</td>\n",
              "      <td>0.000086</td>\n",
              "      <td>0.000162</td>\n",
              "      <td>1.829977</td>\n",
              "      <td>0.054216</td>\n",
              "      <td>0.043135</td>\n",
              "      <td>...</td>\n",
              "      <td>1.000000</td>\n",
              "      <td>-0.002289</td>\n",
              "      <td>-0.002537</td>\n",
              "      <td>-0.003595</td>\n",
              "      <td>TH</td>\n",
              "      <td>549</td>\n",
              "      <td>20.0</td>\n",
              "      <td>43.0</td>\n",
              "      <td>56f2a378-78d2-4132-b3c8-8c1ba82be598</td>\n",
              "      <td>6713a4a7-faed-4df2-acab-ee4e63326f8d</td>\n",
              "    </tr>\n",
              "    <tr>\n",
              "      <th>2</th>\n",
              "      <td>b4f7da58-9bf6-494e-a4cb-8d6934dcc928</td>\n",
              "      <td>20.0</td>\n",
              "      <td>0</td>\n",
              "      <td>2</td>\n",
              "      <td>0.000450</td>\n",
              "      <td>0.000143</td>\n",
              "      <td>0.000187</td>\n",
              "      <td>1.949605</td>\n",
              "      <td>0.436803</td>\n",
              "      <td>0.310567</td>\n",
              "      <td>...</td>\n",
              "      <td>0.333333</td>\n",
              "      <td>-0.002289</td>\n",
              "      <td>-0.002537</td>\n",
              "      <td>-0.003595</td>\n",
              "      <td>TH</td>\n",
              "      <td>549</td>\n",
              "      <td>20.0</td>\n",
              "      <td>43.0</td>\n",
              "      <td>56f2a378-78d2-4132-b3c8-8c1ba82be598</td>\n",
              "      <td>6713a4a7-faed-4df2-acab-ee4e63326f8d</td>\n",
              "    </tr>\n",
              "    <tr>\n",
              "      <th>3</th>\n",
              "      <td>8db87ffd-bea0-481e-91cb-8317b8da1563</td>\n",
              "      <td>20.0</td>\n",
              "      <td>0</td>\n",
              "      <td>3</td>\n",
              "      <td>0.000459</td>\n",
              "      <td>0.000162</td>\n",
              "      <td>0.000181</td>\n",
              "      <td>1.487011</td>\n",
              "      <td>0.141639</td>\n",
              "      <td>0.118156</td>\n",
              "      <td>...</td>\n",
              "      <td>1.000000</td>\n",
              "      <td>-0.002289</td>\n",
              "      <td>-0.002537</td>\n",
              "      <td>-0.003595</td>\n",
              "      <td>TH</td>\n",
              "      <td>549</td>\n",
              "      <td>20.0</td>\n",
              "      <td>43.0</td>\n",
              "      <td>56f2a378-78d2-4132-b3c8-8c1ba82be598</td>\n",
              "      <td>6713a4a7-faed-4df2-acab-ee4e63326f8d</td>\n",
              "    </tr>\n",
              "    <tr>\n",
              "      <th>4</th>\n",
              "      <td>3a2f08b3-0459-48ba-81fa-1d87a1086b62</td>\n",
              "      <td>20.0</td>\n",
              "      <td>0</td>\n",
              "      <td>4</td>\n",
              "      <td>0.000219</td>\n",
              "      <td>0.000130</td>\n",
              "      <td>0.000147</td>\n",
              "      <td>0.968083</td>\n",
              "      <td>0.000000</td>\n",
              "      <td>0.000000</td>\n",
              "      <td>...</td>\n",
              "      <td>0.666667</td>\n",
              "      <td>-0.002289</td>\n",
              "      <td>-0.002537</td>\n",
              "      <td>-0.003595</td>\n",
              "      <td>TH</td>\n",
              "      <td>549</td>\n",
              "      <td>20.0</td>\n",
              "      <td>43.0</td>\n",
              "      <td>56f2a378-78d2-4132-b3c8-8c1ba82be598</td>\n",
              "      <td>6713a4a7-faed-4df2-acab-ee4e63326f8d</td>\n",
              "    </tr>\n",
              "    <tr>\n",
              "      <th>...</th>\n",
              "      <td>...</td>\n",
              "      <td>...</td>\n",
              "      <td>...</td>\n",
              "      <td>...</td>\n",
              "      <td>...</td>\n",
              "      <td>...</td>\n",
              "      <td>...</td>\n",
              "      <td>...</td>\n",
              "      <td>...</td>\n",
              "      <td>...</td>\n",
              "      <td>...</td>\n",
              "      <td>...</td>\n",
              "      <td>...</td>\n",
              "      <td>...</td>\n",
              "      <td>...</td>\n",
              "      <td>...</td>\n",
              "      <td>...</td>\n",
              "      <td>...</td>\n",
              "      <td>...</td>\n",
              "      <td>...</td>\n",
              "      <td>...</td>\n",
              "    </tr>\n",
              "    <tr>\n",
              "      <th>295496</th>\n",
              "      <td>1df2371e-41e1-4bcc-a0b2-3dc1cb8d2d5b</td>\n",
              "      <td>700.0</td>\n",
              "      <td>69</td>\n",
              "      <td>725</td>\n",
              "      <td>0.000236</td>\n",
              "      <td>0.000125</td>\n",
              "      <td>0.000137</td>\n",
              "      <td>0.999767</td>\n",
              "      <td>0.000000</td>\n",
              "      <td>0.000000</td>\n",
              "      <td>...</td>\n",
              "      <td>0.333333</td>\n",
              "      <td>-0.001327</td>\n",
              "      <td>-0.000638</td>\n",
              "      <td>-0.003311</td>\n",
              "      <td>AV</td>\n",
              "      <td>255</td>\n",
              "      <td>700.0</td>\n",
              "      <td>11.0</td>\n",
              "      <td>79f44ba1-c931-4346-82eb-f628a9374045</td>\n",
              "      <td>c7bd79c9-c47e-4ea5-aea3-74dda991b48e</td>\n",
              "    </tr>\n",
              "    <tr>\n",
              "      <th>295497</th>\n",
              "      <td>dfa4b4d4-f181-4c85-947a-b150cb0eb2bd</td>\n",
              "      <td>2540.0</td>\n",
              "      <td>253</td>\n",
              "      <td>726</td>\n",
              "      <td>0.000195</td>\n",
              "      <td>0.000064</td>\n",
              "      <td>0.000109</td>\n",
              "      <td>1.786847</td>\n",
              "      <td>0.325005</td>\n",
              "      <td>0.242793</td>\n",
              "      <td>...</td>\n",
              "      <td>0.666667</td>\n",
              "      <td>-0.001903</td>\n",
              "      <td>-0.000650</td>\n",
              "      <td>-0.001372</td>\n",
              "      <td>SSp-ll6a</td>\n",
              "      <td>478</td>\n",
              "      <td>2540.0</td>\n",
              "      <td>11.0</td>\n",
              "      <td>79f44ba1-c931-4346-82eb-f628a9374045</td>\n",
              "      <td>c7bd79c9-c47e-4ea5-aea3-74dda991b48e</td>\n",
              "    </tr>\n",
              "    <tr>\n",
              "      <th>295498</th>\n",
              "      <td>7a440514-3206-4c9e-b0f9-7bde14fd6f0f</td>\n",
              "      <td>2560.0</td>\n",
              "      <td>255</td>\n",
              "      <td>727</td>\n",
              "      <td>0.000259</td>\n",
              "      <td>0.000078</td>\n",
              "      <td>0.000176</td>\n",
              "      <td>2.522561</td>\n",
              "      <td>0.000000</td>\n",
              "      <td>0.000000</td>\n",
              "      <td>...</td>\n",
              "      <td>0.666667</td>\n",
              "      <td>-0.001910</td>\n",
              "      <td>-0.000650</td>\n",
              "      <td>-0.001349</td>\n",
              "      <td>SSp-ll6a</td>\n",
              "      <td>478</td>\n",
              "      <td>2560.0</td>\n",
              "      <td>27.0</td>\n",
              "      <td>79f44ba1-c931-4346-82eb-f628a9374045</td>\n",
              "      <td>c7bd79c9-c47e-4ea5-aea3-74dda991b48e</td>\n",
              "    </tr>\n",
              "    <tr>\n",
              "      <th>295499</th>\n",
              "      <td>aa971667-5bb1-421a-8dcc-d53aa0797e09</td>\n",
              "      <td>2860.0</td>\n",
              "      <td>285</td>\n",
              "      <td>728</td>\n",
              "      <td>0.000279</td>\n",
              "      <td>0.000144</td>\n",
              "      <td>0.000155</td>\n",
              "      <td>0.866324</td>\n",
              "      <td>0.000000</td>\n",
              "      <td>0.000000</td>\n",
              "      <td>...</td>\n",
              "      <td>0.666667</td>\n",
              "      <td>-0.001995</td>\n",
              "      <td>-0.000616</td>\n",
              "      <td>-0.001020</td>\n",
              "      <td>SSp-ll5</td>\n",
              "      <td>1128</td>\n",
              "      <td>2860.0</td>\n",
              "      <td>11.0</td>\n",
              "      <td>79f44ba1-c931-4346-82eb-f628a9374045</td>\n",
              "      <td>c7bd79c9-c47e-4ea5-aea3-74dda991b48e</td>\n",
              "    </tr>\n",
              "    <tr>\n",
              "      <th>295500</th>\n",
              "      <td>6a3136b7-a604-4126-823b-bb30a0f80446</td>\n",
              "      <td>2920.0</td>\n",
              "      <td>290</td>\n",
              "      <td>729</td>\n",
              "      <td>0.000078</td>\n",
              "      <td>0.000064</td>\n",
              "      <td>0.000067</td>\n",
              "      <td>0.475596</td>\n",
              "      <td>0.000000</td>\n",
              "      <td>0.000000</td>\n",
              "      <td>...</td>\n",
              "      <td>0.333333</td>\n",
              "      <td>-0.002017</td>\n",
              "      <td>-0.000599</td>\n",
              "      <td>-0.000954</td>\n",
              "      <td>SSp-ll4</td>\n",
              "      <td>1094</td>\n",
              "      <td>2920.0</td>\n",
              "      <td>59.0</td>\n",
              "      <td>79f44ba1-c931-4346-82eb-f628a9374045</td>\n",
              "      <td>c7bd79c9-c47e-4ea5-aea3-74dda991b48e</td>\n",
              "    </tr>\n",
              "  </tbody>\n",
              "</table>\n",
              "<p>295501 rows × 28 columns</p>\n",
              "</div>\n",
              "      <button class=\"colab-df-convert\" onclick=\"convertToInteractive('df-ba24febf-484c-4383-9131-24235051e97d')\"\n",
              "              title=\"Convert this dataframe to an interactive table.\"\n",
              "              style=\"display:none;\">\n",
              "        \n",
              "  <svg xmlns=\"http://www.w3.org/2000/svg\" height=\"24px\"viewBox=\"0 0 24 24\"\n",
              "       width=\"24px\">\n",
              "    <path d=\"M0 0h24v24H0V0z\" fill=\"none\"/>\n",
              "    <path d=\"M18.56 5.44l.94 2.06.94-2.06 2.06-.94-2.06-.94-.94-2.06-.94 2.06-2.06.94zm-11 1L8.5 8.5l.94-2.06 2.06-.94-2.06-.94L8.5 2.5l-.94 2.06-2.06.94zm10 10l.94 2.06.94-2.06 2.06-.94-2.06-.94-.94-2.06-.94 2.06-2.06.94z\"/><path d=\"M17.41 7.96l-1.37-1.37c-.4-.4-.92-.59-1.43-.59-.52 0-1.04.2-1.43.59L10.3 9.45l-7.72 7.72c-.78.78-.78 2.05 0 2.83L4 21.41c.39.39.9.59 1.41.59.51 0 1.02-.2 1.41-.59l7.78-7.78 2.81-2.81c.8-.78.8-2.07 0-2.86zM5.41 20L4 18.59l7.72-7.72 1.47 1.35L5.41 20z\"/>\n",
              "  </svg>\n",
              "      </button>\n",
              "      \n",
              "  <style>\n",
              "    .colab-df-container {\n",
              "      display:flex;\n",
              "      flex-wrap:wrap;\n",
              "      gap: 12px;\n",
              "    }\n",
              "\n",
              "    .colab-df-convert {\n",
              "      background-color: #E8F0FE;\n",
              "      border: none;\n",
              "      border-radius: 50%;\n",
              "      cursor: pointer;\n",
              "      display: none;\n",
              "      fill: #1967D2;\n",
              "      height: 32px;\n",
              "      padding: 0 0 0 0;\n",
              "      width: 32px;\n",
              "    }\n",
              "\n",
              "    .colab-df-convert:hover {\n",
              "      background-color: #E2EBFA;\n",
              "      box-shadow: 0px 1px 2px rgba(60, 64, 67, 0.3), 0px 1px 3px 1px rgba(60, 64, 67, 0.15);\n",
              "      fill: #174EA6;\n",
              "    }\n",
              "\n",
              "    [theme=dark] .colab-df-convert {\n",
              "      background-color: #3B4455;\n",
              "      fill: #D2E3FC;\n",
              "    }\n",
              "\n",
              "    [theme=dark] .colab-df-convert:hover {\n",
              "      background-color: #434B5C;\n",
              "      box-shadow: 0px 1px 3px 1px rgba(0, 0, 0, 0.15);\n",
              "      filter: drop-shadow(0px 1px 2px rgba(0, 0, 0, 0.3));\n",
              "      fill: #FFFFFF;\n",
              "    }\n",
              "  </style>\n",
              "\n",
              "      <script>\n",
              "        const buttonEl =\n",
              "          document.querySelector('#df-ba24febf-484c-4383-9131-24235051e97d button.colab-df-convert');\n",
              "        buttonEl.style.display =\n",
              "          google.colab.kernel.accessAllowed ? 'block' : 'none';\n",
              "\n",
              "        async function convertToInteractive(key) {\n",
              "          const element = document.querySelector('#df-ba24febf-484c-4383-9131-24235051e97d');\n",
              "          const dataTable =\n",
              "            await google.colab.kernel.invokeFunction('convertToInteractive',\n",
              "                                                     [key], {});\n",
              "          if (!dataTable) return;\n",
              "\n",
              "          const docLinkHtml = 'Like what you see? Visit the ' +\n",
              "            '<a target=\"_blank\" href=https://colab.research.google.com/notebooks/data_table.ipynb>data table notebook</a>'\n",
              "            + ' to learn more about interactive tables.';\n",
              "          element.innerHTML = '';\n",
              "          dataTable['output_type'] = 'display_data';\n",
              "          await google.colab.output.renderOutput(dataTable, element);\n",
              "          const docLink = document.createElement('div');\n",
              "          docLink.innerHTML = docLinkHtml;\n",
              "          element.appendChild(docLink);\n",
              "        }\n",
              "      </script>\n",
              "    </div>\n",
              "  </div>\n",
              "  "
            ]
          },
          "metadata": {}
        }
      ]
    },
    {
      "cell_type": "code",
      "source": [
        "# 4. Aggregate features across regions\n",
        "\n",
        "# Restrict table to just good clusters\n",
        "clusters_table = clusters_table[clusters_table['label'] == 1]\n",
        "\n",
        "# Group the pandas table by region acronyms\n",
        "regions = clusters_table.groupby('acronym')\n",
        "\n",
        "# Find the mean firing rate per region\n",
        "fr_region = regions.firing_rate.mean()\n",
        "\n",
        "# Get out the values as arrays, the acronyms are stored in the index of the table\n",
        "# and the mean firing rate as a column\n",
        "acronyms = fr_region.index.values\n",
        "fr = fr_region.values"
      ],
      "metadata": {
        "id": "Id_Hhrd04C8m"
      },
      "execution_count": null,
      "outputs": []
    },
    {
      "cell_type": "code",
      "source": [
        "# 5. Plot features on atlas slices\n",
        "\n",
        "# import ibllib atlas module\n",
        "from ibllib.atlas.plots import plot_scalar_on_slice\n",
        "from ibllib.atlas import AllenAtlas\n",
        "import numpy as np\n",
        "ba = AllenAtlas()\n",
        "\n",
        "# compute colormap levels\n",
        "levels = np.nanquantile(fr, [0.1, 0.9])\n",
        "\n",
        "# plot coronal slice at -2000 um from bregma\n",
        "fig, axs = plot_scalar_on_slice(acronyms, fr, coord=-2000, slice='coronal', background='boundary', cmap='Blues', clevels=levels, ba=ba)\n",
        "\n",
        "# plot sagittal slice at -2000 um from bregma\n",
        "fig, axs = plot_scalar_on_slice(acronyms, fr, coord=-2000, slice='sagittal', background='boundary', cmap='Blues', clevels=levels, ba=ba)\n",
        "\n",
        "# plot horizontl slice at -2000 um from bregma\n",
        "fig, axs = plot_scalar_on_slice(acronyms, fr, coord=-2000, slice='horizontal', background='boundary', cmap='Blues', clevels=levels, ba=ba)"
      ],
      "metadata": {
        "colab": {
          "base_uri": "https://localhost:8080/",
          "height": 747
        },
        "id": "pXLcSD__4G8G",
        "outputId": "ebc8a5c4-8c91-44b6-e875-a2146963b1b7"
      },
      "execution_count": null,
      "outputs": [
        {
          "output_type": "display_data",
          "data": {
            "text/plain": [
              "<Figure size 432x288 with 1 Axes>"
            ],
            "image/png": "[encoded data removed]"
          },
          "metadata": {
            "needs_background": "light"
          }
        },
        {
          "output_type": "display_data",
          "data": {
            "text/plain": [
              "<Figure size 432x288 with 1 Axes>"
            ],
            "image/png": "[encoded data removed]"
          },
          "metadata": {
            "needs_background": "light"
          }
        },
        {
          "output_type": "display_data",
          "data": {
            "text/plain": [
              "<Figure size 432x288 with 1 Axes>"
            ],
            "image/png": "[encoded data removed]"
          },
          "metadata": {
            "needs_background": "light"
          }
        }
      ]
    },
    {
      "cell_type": "markdown",
      "source": [
        "# FAQ\n",
        "\n"
      ],
      "metadata": {
        "id": "GSvi21Dn84wJ"
      }
    },
    {
      "cell_type": "markdown",
      "source": [
        "Where can I find out more information about the IBL?\n",
        "- [IBL website](https://www.internationalbrainlab.com/)\n",
        "\n",
        "How can I easily explore the IBL data available?\n",
        "- [IBL visualisation website](https://viz.internationalbrainlab.org/)\n",
        "\n",
        "Where can I find more information about the Brain-wide map?\n",
        "- [Brain-wide map technical paper](https://figshare.com/articles/preprint/Data_release_-_Brainwide_map_-_Q4_2022/21400815)\n",
        "\n",
        "Where can I find out more information about available dataset releases?\n",
        "- [Publically available IBL data](https://int-brain-lab.github.io/iblenv/public_docs/public_introduction.html)\n",
        "\n",
        "Where can I read more about the science conducted in the IBL?\n",
        "- [List of publications](https://www.internationalbrainlab.com/publications)\n",
        "\n",
        "Where can I find out more information about ONE?\n",
        "- [ONE documentation](https://int-brain-lab.github.io/ONE/)\n",
        "\n",
        "Where can I find out more information about ibllib and brainbox?\n",
        "- [ibllib documentation](https://int-brain-lab.github.io/iblenv/010_api_reference.html)\n",
        "\n",
        "Where can I find out more information about ibllib.atlas?\n",
        "- [Atlas examples](https://int-brain-lab.github.io/iblenv/atlas_examples.html)\n",
        "\n",
        "Where can I find out more information about different IBL datasets?\n",
        "- [Description of public datasets](https://docs.google.com/document/d/1OqIqqakPakHXRAwceYLwFY9gOrm8_P62XIfCTnHwstg/edit#heading=h.hnjqyfnroyya)\n",
        "\n",
        "Where can I find help?\n",
        "- Issues with the data? Post an issue here: https://neurostars.org/ with the tag `ibl`\n",
        "- Alternatively post an issue here: https://github.com/int-brain-lab/iblenv/issues\n",
        "- General questions about the datasets or publications? Email: info@internationalbrainlab.org\n",
        "\n",
        "Come and see us at Cosyne!\n",
        "- Between 12-14 on Friday 10th March we will be at a desk in the foyer area. Feel free to come and ask us questions!\n",
        "\n",
        "\n"
      ],
      "metadata": {
        "id": "gW2bvvEzxjG4"
      }
    }
  ]
}